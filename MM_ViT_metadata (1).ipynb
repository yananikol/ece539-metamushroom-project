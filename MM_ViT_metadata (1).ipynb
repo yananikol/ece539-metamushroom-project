{
  "nbformat": 4,
  "nbformat_minor": 0,
  "metadata": {
    "colab": {
      "provenance": [],
      "machine_shape": "hm",
      "collapsed_sections": [
        "hSwzd2LUkwGP"
      ]
    },
    "kernelspec": {
      "name": "python3",
      "display_name": "Python 3"
    },
    "language_info": {
      "name": "python"
    },
    "widgets": {
      "application/vnd.jupyter.widget-state+json": {
        "23269b1fbf7d471c861ecd5d68de159d": {
          "model_module": "@jupyter-widgets/controls",
          "model_name": "HBoxModel",
          "model_module_version": "1.5.0",
          "state": {
            "_dom_classes": [],
            "_model_module": "@jupyter-widgets/controls",
            "_model_module_version": "1.5.0",
            "_model_name": "HBoxModel",
            "_view_count": null,
            "_view_module": "@jupyter-widgets/controls",
            "_view_module_version": "1.5.0",
            "_view_name": "HBoxView",
            "box_style": "",
            "children": [
              "IPY_MODEL_306cd06b288745908c5dabeea98b5e34",
              "IPY_MODEL_55e455c8bc30490292dcbb14aa7d1aaa",
              "IPY_MODEL_dbd19bcf011b4b719c76fd69486ac898"
            ],
            "layout": "IPY_MODEL_23439f1abae2441c89db87959f13650f"
          }
        },
        "306cd06b288745908c5dabeea98b5e34": {
          "model_module": "@jupyter-widgets/controls",
          "model_name": "HTMLModel",
          "model_module_version": "1.5.0",
          "state": {
            "_dom_classes": [],
            "_model_module": "@jupyter-widgets/controls",
            "_model_module_version": "1.5.0",
            "_model_name": "HTMLModel",
            "_view_count": null,
            "_view_module": "@jupyter-widgets/controls",
            "_view_module_version": "1.5.0",
            "_view_name": "HTMLView",
            "description": "",
            "description_tooltip": null,
            "layout": "IPY_MODEL_d5ae0ebe6a254e058bb5ca6ab42e49a2",
            "placeholder": "​",
            "style": "IPY_MODEL_83ebe70f6e15462cb76429137ae6b8b4",
            "value": "100%"
          }
        },
        "55e455c8bc30490292dcbb14aa7d1aaa": {
          "model_module": "@jupyter-widgets/controls",
          "model_name": "FloatProgressModel",
          "model_module_version": "1.5.0",
          "state": {
            "_dom_classes": [],
            "_model_module": "@jupyter-widgets/controls",
            "_model_module_version": "1.5.0",
            "_model_name": "FloatProgressModel",
            "_view_count": null,
            "_view_module": "@jupyter-widgets/controls",
            "_view_module_version": "1.5.0",
            "_view_name": "ProgressView",
            "bar_style": "success",
            "description": "",
            "description_tooltip": null,
            "layout": "IPY_MODEL_d5870e8147e949dab72974096d25e0c7",
            "max": 6,
            "min": 0,
            "orientation": "horizontal",
            "style": "IPY_MODEL_fb30f048c5a54bb79c5dfbab25bd037a",
            "value": 6
          }
        },
        "dbd19bcf011b4b719c76fd69486ac898": {
          "model_module": "@jupyter-widgets/controls",
          "model_name": "HTMLModel",
          "model_module_version": "1.5.0",
          "state": {
            "_dom_classes": [],
            "_model_module": "@jupyter-widgets/controls",
            "_model_module_version": "1.5.0",
            "_model_name": "HTMLModel",
            "_view_count": null,
            "_view_module": "@jupyter-widgets/controls",
            "_view_module_version": "1.5.0",
            "_view_name": "HTMLView",
            "description": "",
            "description_tooltip": null,
            "layout": "IPY_MODEL_d85718067d8d49f2bcc1ed5d4e6db830",
            "placeholder": "​",
            "style": "IPY_MODEL_d4b160bf08464fbaa15a48dc066fb110",
            "value": " 6/6 [05:07&lt;00:00, 42.36s/ba]"
          }
        },
        "23439f1abae2441c89db87959f13650f": {
          "model_module": "@jupyter-widgets/base",
          "model_name": "LayoutModel",
          "model_module_version": "1.2.0",
          "state": {
            "_model_module": "@jupyter-widgets/base",
            "_model_module_version": "1.2.0",
            "_model_name": "LayoutModel",
            "_view_count": null,
            "_view_module": "@jupyter-widgets/base",
            "_view_module_version": "1.2.0",
            "_view_name": "LayoutView",
            "align_content": null,
            "align_items": null,
            "align_self": null,
            "border": null,
            "bottom": null,
            "display": null,
            "flex": null,
            "flex_flow": null,
            "grid_area": null,
            "grid_auto_columns": null,
            "grid_auto_flow": null,
            "grid_auto_rows": null,
            "grid_column": null,
            "grid_gap": null,
            "grid_row": null,
            "grid_template_areas": null,
            "grid_template_columns": null,
            "grid_template_rows": null,
            "height": null,
            "justify_content": null,
            "justify_items": null,
            "left": null,
            "margin": null,
            "max_height": null,
            "max_width": null,
            "min_height": null,
            "min_width": null,
            "object_fit": null,
            "object_position": null,
            "order": null,
            "overflow": null,
            "overflow_x": null,
            "overflow_y": null,
            "padding": null,
            "right": null,
            "top": null,
            "visibility": null,
            "width": null
          }
        },
        "d5ae0ebe6a254e058bb5ca6ab42e49a2": {
          "model_module": "@jupyter-widgets/base",
          "model_name": "LayoutModel",
          "model_module_version": "1.2.0",
          "state": {
            "_model_module": "@jupyter-widgets/base",
            "_model_module_version": "1.2.0",
            "_model_name": "LayoutModel",
            "_view_count": null,
            "_view_module": "@jupyter-widgets/base",
            "_view_module_version": "1.2.0",
            "_view_name": "LayoutView",
            "align_content": null,
            "align_items": null,
            "align_self": null,
            "border": null,
            "bottom": null,
            "display": null,
            "flex": null,
            "flex_flow": null,
            "grid_area": null,
            "grid_auto_columns": null,
            "grid_auto_flow": null,
            "grid_auto_rows": null,
            "grid_column": null,
            "grid_gap": null,
            "grid_row": null,
            "grid_template_areas": null,
            "grid_template_columns": null,
            "grid_template_rows": null,
            "height": null,
            "justify_content": null,
            "justify_items": null,
            "left": null,
            "margin": null,
            "max_height": null,
            "max_width": null,
            "min_height": null,
            "min_width": null,
            "object_fit": null,
            "object_position": null,
            "order": null,
            "overflow": null,
            "overflow_x": null,
            "overflow_y": null,
            "padding": null,
            "right": null,
            "top": null,
            "visibility": null,
            "width": null
          }
        },
        "83ebe70f6e15462cb76429137ae6b8b4": {
          "model_module": "@jupyter-widgets/controls",
          "model_name": "DescriptionStyleModel",
          "model_module_version": "1.5.0",
          "state": {
            "_model_module": "@jupyter-widgets/controls",
            "_model_module_version": "1.5.0",
            "_model_name": "DescriptionStyleModel",
            "_view_count": null,
            "_view_module": "@jupyter-widgets/base",
            "_view_module_version": "1.2.0",
            "_view_name": "StyleView",
            "description_width": ""
          }
        },
        "d5870e8147e949dab72974096d25e0c7": {
          "model_module": "@jupyter-widgets/base",
          "model_name": "LayoutModel",
          "model_module_version": "1.2.0",
          "state": {
            "_model_module": "@jupyter-widgets/base",
            "_model_module_version": "1.2.0",
            "_model_name": "LayoutModel",
            "_view_count": null,
            "_view_module": "@jupyter-widgets/base",
            "_view_module_version": "1.2.0",
            "_view_name": "LayoutView",
            "align_content": null,
            "align_items": null,
            "align_self": null,
            "border": null,
            "bottom": null,
            "display": null,
            "flex": null,
            "flex_flow": null,
            "grid_area": null,
            "grid_auto_columns": null,
            "grid_auto_flow": null,
            "grid_auto_rows": null,
            "grid_column": null,
            "grid_gap": null,
            "grid_row": null,
            "grid_template_areas": null,
            "grid_template_columns": null,
            "grid_template_rows": null,
            "height": null,
            "justify_content": null,
            "justify_items": null,
            "left": null,
            "margin": null,
            "max_height": null,
            "max_width": null,
            "min_height": null,
            "min_width": null,
            "object_fit": null,
            "object_position": null,
            "order": null,
            "overflow": null,
            "overflow_x": null,
            "overflow_y": null,
            "padding": null,
            "right": null,
            "top": null,
            "visibility": null,
            "width": null
          }
        },
        "fb30f048c5a54bb79c5dfbab25bd037a": {
          "model_module": "@jupyter-widgets/controls",
          "model_name": "ProgressStyleModel",
          "model_module_version": "1.5.0",
          "state": {
            "_model_module": "@jupyter-widgets/controls",
            "_model_module_version": "1.5.0",
            "_model_name": "ProgressStyleModel",
            "_view_count": null,
            "_view_module": "@jupyter-widgets/base",
            "_view_module_version": "1.2.0",
            "_view_name": "StyleView",
            "bar_color": null,
            "description_width": ""
          }
        },
        "d85718067d8d49f2bcc1ed5d4e6db830": {
          "model_module": "@jupyter-widgets/base",
          "model_name": "LayoutModel",
          "model_module_version": "1.2.0",
          "state": {
            "_model_module": "@jupyter-widgets/base",
            "_model_module_version": "1.2.0",
            "_model_name": "LayoutModel",
            "_view_count": null,
            "_view_module": "@jupyter-widgets/base",
            "_view_module_version": "1.2.0",
            "_view_name": "LayoutView",
            "align_content": null,
            "align_items": null,
            "align_self": null,
            "border": null,
            "bottom": null,
            "display": null,
            "flex": null,
            "flex_flow": null,
            "grid_area": null,
            "grid_auto_columns": null,
            "grid_auto_flow": null,
            "grid_auto_rows": null,
            "grid_column": null,
            "grid_gap": null,
            "grid_row": null,
            "grid_template_areas": null,
            "grid_template_columns": null,
            "grid_template_rows": null,
            "height": null,
            "justify_content": null,
            "justify_items": null,
            "left": null,
            "margin": null,
            "max_height": null,
            "max_width": null,
            "min_height": null,
            "min_width": null,
            "object_fit": null,
            "object_position": null,
            "order": null,
            "overflow": null,
            "overflow_x": null,
            "overflow_y": null,
            "padding": null,
            "right": null,
            "top": null,
            "visibility": null,
            "width": null
          }
        },
        "d4b160bf08464fbaa15a48dc066fb110": {
          "model_module": "@jupyter-widgets/controls",
          "model_name": "DescriptionStyleModel",
          "model_module_version": "1.5.0",
          "state": {
            "_model_module": "@jupyter-widgets/controls",
            "_model_module_version": "1.5.0",
            "_model_name": "DescriptionStyleModel",
            "_view_count": null,
            "_view_module": "@jupyter-widgets/base",
            "_view_module_version": "1.2.0",
            "_view_name": "StyleView",
            "description_width": ""
          }
        },
        "26c67897b0c547188f88e1dd18ebfe92": {
          "model_module": "@jupyter-widgets/controls",
          "model_name": "HBoxModel",
          "model_module_version": "1.5.0",
          "state": {
            "_dom_classes": [],
            "_model_module": "@jupyter-widgets/controls",
            "_model_module_version": "1.5.0",
            "_model_name": "HBoxModel",
            "_view_count": null,
            "_view_module": "@jupyter-widgets/controls",
            "_view_module_version": "1.5.0",
            "_view_name": "HBoxView",
            "box_style": "",
            "children": [
              "IPY_MODEL_34d8b3c51d0f42959f2bedd1df36d697",
              "IPY_MODEL_1b2f4721969542fbbd90ca49e5c708e5",
              "IPY_MODEL_30a4ea7795bd4ae79504d8ee9ea235de"
            ],
            "layout": "IPY_MODEL_cb20a12fcebe432689ae01eabe519e76"
          }
        },
        "34d8b3c51d0f42959f2bedd1df36d697": {
          "model_module": "@jupyter-widgets/controls",
          "model_name": "HTMLModel",
          "model_module_version": "1.5.0",
          "state": {
            "_dom_classes": [],
            "_model_module": "@jupyter-widgets/controls",
            "_model_module_version": "1.5.0",
            "_model_name": "HTMLModel",
            "_view_count": null,
            "_view_module": "@jupyter-widgets/controls",
            "_view_module_version": "1.5.0",
            "_view_name": "HTMLView",
            "description": "",
            "description_tooltip": null,
            "layout": "IPY_MODEL_8935556edd354a3a892522663e4e09c9",
            "placeholder": "​",
            "style": "IPY_MODEL_934e18ebf71f4bb6aa3d4e552292e69d",
            "value": "Downloading: 100%"
          }
        },
        "1b2f4721969542fbbd90ca49e5c708e5": {
          "model_module": "@jupyter-widgets/controls",
          "model_name": "FloatProgressModel",
          "model_module_version": "1.5.0",
          "state": {
            "_dom_classes": [],
            "_model_module": "@jupyter-widgets/controls",
            "_model_module_version": "1.5.0",
            "_model_name": "FloatProgressModel",
            "_view_count": null,
            "_view_module": "@jupyter-widgets/controls",
            "_view_module_version": "1.5.0",
            "_view_name": "ProgressView",
            "bar_style": "success",
            "description": "",
            "description_tooltip": null,
            "layout": "IPY_MODEL_8bdd89b26bc3436f95c9040e25d2d3d7",
            "max": 160,
            "min": 0,
            "orientation": "horizontal",
            "style": "IPY_MODEL_a8ef44bf7ed94d1eb69c6397dac41ca0",
            "value": 160
          }
        },
        "30a4ea7795bd4ae79504d8ee9ea235de": {
          "model_module": "@jupyter-widgets/controls",
          "model_name": "HTMLModel",
          "model_module_version": "1.5.0",
          "state": {
            "_dom_classes": [],
            "_model_module": "@jupyter-widgets/controls",
            "_model_module_version": "1.5.0",
            "_model_name": "HTMLModel",
            "_view_count": null,
            "_view_module": "@jupyter-widgets/controls",
            "_view_module_version": "1.5.0",
            "_view_name": "HTMLView",
            "description": "",
            "description_tooltip": null,
            "layout": "IPY_MODEL_d3012d4bb7a24e32a9d78e220e92a942",
            "placeholder": "​",
            "style": "IPY_MODEL_000826b32f814bccb9b80e8370500cbe",
            "value": " 160/160 [00:00&lt;00:00, 6.75kB/s]"
          }
        },
        "cb20a12fcebe432689ae01eabe519e76": {
          "model_module": "@jupyter-widgets/base",
          "model_name": "LayoutModel",
          "model_module_version": "1.2.0",
          "state": {
            "_model_module": "@jupyter-widgets/base",
            "_model_module_version": "1.2.0",
            "_model_name": "LayoutModel",
            "_view_count": null,
            "_view_module": "@jupyter-widgets/base",
            "_view_module_version": "1.2.0",
            "_view_name": "LayoutView",
            "align_content": null,
            "align_items": null,
            "align_self": null,
            "border": null,
            "bottom": null,
            "display": null,
            "flex": null,
            "flex_flow": null,
            "grid_area": null,
            "grid_auto_columns": null,
            "grid_auto_flow": null,
            "grid_auto_rows": null,
            "grid_column": null,
            "grid_gap": null,
            "grid_row": null,
            "grid_template_areas": null,
            "grid_template_columns": null,
            "grid_template_rows": null,
            "height": null,
            "justify_content": null,
            "justify_items": null,
            "left": null,
            "margin": null,
            "max_height": null,
            "max_width": null,
            "min_height": null,
            "min_width": null,
            "object_fit": null,
            "object_position": null,
            "order": null,
            "overflow": null,
            "overflow_x": null,
            "overflow_y": null,
            "padding": null,
            "right": null,
            "top": null,
            "visibility": null,
            "width": null
          }
        },
        "8935556edd354a3a892522663e4e09c9": {
          "model_module": "@jupyter-widgets/base",
          "model_name": "LayoutModel",
          "model_module_version": "1.2.0",
          "state": {
            "_model_module": "@jupyter-widgets/base",
            "_model_module_version": "1.2.0",
            "_model_name": "LayoutModel",
            "_view_count": null,
            "_view_module": "@jupyter-widgets/base",
            "_view_module_version": "1.2.0",
            "_view_name": "LayoutView",
            "align_content": null,
            "align_items": null,
            "align_self": null,
            "border": null,
            "bottom": null,
            "display": null,
            "flex": null,
            "flex_flow": null,
            "grid_area": null,
            "grid_auto_columns": null,
            "grid_auto_flow": null,
            "grid_auto_rows": null,
            "grid_column": null,
            "grid_gap": null,
            "grid_row": null,
            "grid_template_areas": null,
            "grid_template_columns": null,
            "grid_template_rows": null,
            "height": null,
            "justify_content": null,
            "justify_items": null,
            "left": null,
            "margin": null,
            "max_height": null,
            "max_width": null,
            "min_height": null,
            "min_width": null,
            "object_fit": null,
            "object_position": null,
            "order": null,
            "overflow": null,
            "overflow_x": null,
            "overflow_y": null,
            "padding": null,
            "right": null,
            "top": null,
            "visibility": null,
            "width": null
          }
        },
        "934e18ebf71f4bb6aa3d4e552292e69d": {
          "model_module": "@jupyter-widgets/controls",
          "model_name": "DescriptionStyleModel",
          "model_module_version": "1.5.0",
          "state": {
            "_model_module": "@jupyter-widgets/controls",
            "_model_module_version": "1.5.0",
            "_model_name": "DescriptionStyleModel",
            "_view_count": null,
            "_view_module": "@jupyter-widgets/base",
            "_view_module_version": "1.2.0",
            "_view_name": "StyleView",
            "description_width": ""
          }
        },
        "8bdd89b26bc3436f95c9040e25d2d3d7": {
          "model_module": "@jupyter-widgets/base",
          "model_name": "LayoutModel",
          "model_module_version": "1.2.0",
          "state": {
            "_model_module": "@jupyter-widgets/base",
            "_model_module_version": "1.2.0",
            "_model_name": "LayoutModel",
            "_view_count": null,
            "_view_module": "@jupyter-widgets/base",
            "_view_module_version": "1.2.0",
            "_view_name": "LayoutView",
            "align_content": null,
            "align_items": null,
            "align_self": null,
            "border": null,
            "bottom": null,
            "display": null,
            "flex": null,
            "flex_flow": null,
            "grid_area": null,
            "grid_auto_columns": null,
            "grid_auto_flow": null,
            "grid_auto_rows": null,
            "grid_column": null,
            "grid_gap": null,
            "grid_row": null,
            "grid_template_areas": null,
            "grid_template_columns": null,
            "grid_template_rows": null,
            "height": null,
            "justify_content": null,
            "justify_items": null,
            "left": null,
            "margin": null,
            "max_height": null,
            "max_width": null,
            "min_height": null,
            "min_width": null,
            "object_fit": null,
            "object_position": null,
            "order": null,
            "overflow": null,
            "overflow_x": null,
            "overflow_y": null,
            "padding": null,
            "right": null,
            "top": null,
            "visibility": null,
            "width": null
          }
        },
        "a8ef44bf7ed94d1eb69c6397dac41ca0": {
          "model_module": "@jupyter-widgets/controls",
          "model_name": "ProgressStyleModel",
          "model_module_version": "1.5.0",
          "state": {
            "_model_module": "@jupyter-widgets/controls",
            "_model_module_version": "1.5.0",
            "_model_name": "ProgressStyleModel",
            "_view_count": null,
            "_view_module": "@jupyter-widgets/base",
            "_view_module_version": "1.2.0",
            "_view_name": "StyleView",
            "bar_color": null,
            "description_width": ""
          }
        },
        "d3012d4bb7a24e32a9d78e220e92a942": {
          "model_module": "@jupyter-widgets/base",
          "model_name": "LayoutModel",
          "model_module_version": "1.2.0",
          "state": {
            "_model_module": "@jupyter-widgets/base",
            "_model_module_version": "1.2.0",
            "_model_name": "LayoutModel",
            "_view_count": null,
            "_view_module": "@jupyter-widgets/base",
            "_view_module_version": "1.2.0",
            "_view_name": "LayoutView",
            "align_content": null,
            "align_items": null,
            "align_self": null,
            "border": null,
            "bottom": null,
            "display": null,
            "flex": null,
            "flex_flow": null,
            "grid_area": null,
            "grid_auto_columns": null,
            "grid_auto_flow": null,
            "grid_auto_rows": null,
            "grid_column": null,
            "grid_gap": null,
            "grid_row": null,
            "grid_template_areas": null,
            "grid_template_columns": null,
            "grid_template_rows": null,
            "height": null,
            "justify_content": null,
            "justify_items": null,
            "left": null,
            "margin": null,
            "max_height": null,
            "max_width": null,
            "min_height": null,
            "min_width": null,
            "object_fit": null,
            "object_position": null,
            "order": null,
            "overflow": null,
            "overflow_x": null,
            "overflow_y": null,
            "padding": null,
            "right": null,
            "top": null,
            "visibility": null,
            "width": null
          }
        },
        "000826b32f814bccb9b80e8370500cbe": {
          "model_module": "@jupyter-widgets/controls",
          "model_name": "DescriptionStyleModel",
          "model_module_version": "1.5.0",
          "state": {
            "_model_module": "@jupyter-widgets/controls",
            "_model_module_version": "1.5.0",
            "_model_name": "DescriptionStyleModel",
            "_view_count": null,
            "_view_module": "@jupyter-widgets/base",
            "_view_module_version": "1.2.0",
            "_view_name": "StyleView",
            "description_width": ""
          }
        },
        "71a7fae144f5489c98f77ba93299dee7": {
          "model_module": "@jupyter-widgets/controls",
          "model_name": "HBoxModel",
          "model_module_version": "1.5.0",
          "state": {
            "_dom_classes": [],
            "_model_module": "@jupyter-widgets/controls",
            "_model_module_version": "1.5.0",
            "_model_name": "HBoxModel",
            "_view_count": null,
            "_view_module": "@jupyter-widgets/controls",
            "_view_module_version": "1.5.0",
            "_view_name": "HBoxView",
            "box_style": "",
            "children": [
              "IPY_MODEL_2bd70bdc48204594a1f8fb729ff9cc5e",
              "IPY_MODEL_7402fc69cfeb4896b761f29af0fe5c76",
              "IPY_MODEL_8ba55e9f595a48428d00ea06349bb9a7"
            ],
            "layout": "IPY_MODEL_863a041980e648509a9d8b7b4cc7f22b"
          }
        },
        "2bd70bdc48204594a1f8fb729ff9cc5e": {
          "model_module": "@jupyter-widgets/controls",
          "model_name": "HTMLModel",
          "model_module_version": "1.5.0",
          "state": {
            "_dom_classes": [],
            "_model_module": "@jupyter-widgets/controls",
            "_model_module_version": "1.5.0",
            "_model_name": "HTMLModel",
            "_view_count": null,
            "_view_module": "@jupyter-widgets/controls",
            "_view_module_version": "1.5.0",
            "_view_name": "HTMLView",
            "description": "",
            "description_tooltip": null,
            "layout": "IPY_MODEL_197332356f2d4d7286e0a933d066e6e6",
            "placeholder": "​",
            "style": "IPY_MODEL_13ce1cf092a84a1ba6ec55b82249f81a",
            "value": "Downloading: 100%"
          }
        },
        "7402fc69cfeb4896b761f29af0fe5c76": {
          "model_module": "@jupyter-widgets/controls",
          "model_name": "FloatProgressModel",
          "model_module_version": "1.5.0",
          "state": {
            "_dom_classes": [],
            "_model_module": "@jupyter-widgets/controls",
            "_model_module_version": "1.5.0",
            "_model_name": "FloatProgressModel",
            "_view_count": null,
            "_view_module": "@jupyter-widgets/controls",
            "_view_module_version": "1.5.0",
            "_view_name": "ProgressView",
            "bar_style": "success",
            "description": "",
            "description_tooltip": null,
            "layout": "IPY_MODEL_2a5a98a483bd48339eab317221546ea9",
            "max": 502,
            "min": 0,
            "orientation": "horizontal",
            "style": "IPY_MODEL_6b2133bd72ab48acaaf4c8531a84def0",
            "value": 502
          }
        },
        "8ba55e9f595a48428d00ea06349bb9a7": {
          "model_module": "@jupyter-widgets/controls",
          "model_name": "HTMLModel",
          "model_module_version": "1.5.0",
          "state": {
            "_dom_classes": [],
            "_model_module": "@jupyter-widgets/controls",
            "_model_module_version": "1.5.0",
            "_model_name": "HTMLModel",
            "_view_count": null,
            "_view_module": "@jupyter-widgets/controls",
            "_view_module_version": "1.5.0",
            "_view_name": "HTMLView",
            "description": "",
            "description_tooltip": null,
            "layout": "IPY_MODEL_40bac9a0b1b44359ba39b6173eb660dc",
            "placeholder": "​",
            "style": "IPY_MODEL_c63b690f27c84333a6877812b53f005d",
            "value": " 502/502 [00:00&lt;00:00, 20.6kB/s]"
          }
        },
        "863a041980e648509a9d8b7b4cc7f22b": {
          "model_module": "@jupyter-widgets/base",
          "model_name": "LayoutModel",
          "model_module_version": "1.2.0",
          "state": {
            "_model_module": "@jupyter-widgets/base",
            "_model_module_version": "1.2.0",
            "_model_name": "LayoutModel",
            "_view_count": null,
            "_view_module": "@jupyter-widgets/base",
            "_view_module_version": "1.2.0",
            "_view_name": "LayoutView",
            "align_content": null,
            "align_items": null,
            "align_self": null,
            "border": null,
            "bottom": null,
            "display": null,
            "flex": null,
            "flex_flow": null,
            "grid_area": null,
            "grid_auto_columns": null,
            "grid_auto_flow": null,
            "grid_auto_rows": null,
            "grid_column": null,
            "grid_gap": null,
            "grid_row": null,
            "grid_template_areas": null,
            "grid_template_columns": null,
            "grid_template_rows": null,
            "height": null,
            "justify_content": null,
            "justify_items": null,
            "left": null,
            "margin": null,
            "max_height": null,
            "max_width": null,
            "min_height": null,
            "min_width": null,
            "object_fit": null,
            "object_position": null,
            "order": null,
            "overflow": null,
            "overflow_x": null,
            "overflow_y": null,
            "padding": null,
            "right": null,
            "top": null,
            "visibility": null,
            "width": null
          }
        },
        "197332356f2d4d7286e0a933d066e6e6": {
          "model_module": "@jupyter-widgets/base",
          "model_name": "LayoutModel",
          "model_module_version": "1.2.0",
          "state": {
            "_model_module": "@jupyter-widgets/base",
            "_model_module_version": "1.2.0",
            "_model_name": "LayoutModel",
            "_view_count": null,
            "_view_module": "@jupyter-widgets/base",
            "_view_module_version": "1.2.0",
            "_view_name": "LayoutView",
            "align_content": null,
            "align_items": null,
            "align_self": null,
            "border": null,
            "bottom": null,
            "display": null,
            "flex": null,
            "flex_flow": null,
            "grid_area": null,
            "grid_auto_columns": null,
            "grid_auto_flow": null,
            "grid_auto_rows": null,
            "grid_column": null,
            "grid_gap": null,
            "grid_row": null,
            "grid_template_areas": null,
            "grid_template_columns": null,
            "grid_template_rows": null,
            "height": null,
            "justify_content": null,
            "justify_items": null,
            "left": null,
            "margin": null,
            "max_height": null,
            "max_width": null,
            "min_height": null,
            "min_width": null,
            "object_fit": null,
            "object_position": null,
            "order": null,
            "overflow": null,
            "overflow_x": null,
            "overflow_y": null,
            "padding": null,
            "right": null,
            "top": null,
            "visibility": null,
            "width": null
          }
        },
        "13ce1cf092a84a1ba6ec55b82249f81a": {
          "model_module": "@jupyter-widgets/controls",
          "model_name": "DescriptionStyleModel",
          "model_module_version": "1.5.0",
          "state": {
            "_model_module": "@jupyter-widgets/controls",
            "_model_module_version": "1.5.0",
            "_model_name": "DescriptionStyleModel",
            "_view_count": null,
            "_view_module": "@jupyter-widgets/base",
            "_view_module_version": "1.2.0",
            "_view_name": "StyleView",
            "description_width": ""
          }
        },
        "2a5a98a483bd48339eab317221546ea9": {
          "model_module": "@jupyter-widgets/base",
          "model_name": "LayoutModel",
          "model_module_version": "1.2.0",
          "state": {
            "_model_module": "@jupyter-widgets/base",
            "_model_module_version": "1.2.0",
            "_model_name": "LayoutModel",
            "_view_count": null,
            "_view_module": "@jupyter-widgets/base",
            "_view_module_version": "1.2.0",
            "_view_name": "LayoutView",
            "align_content": null,
            "align_items": null,
            "align_self": null,
            "border": null,
            "bottom": null,
            "display": null,
            "flex": null,
            "flex_flow": null,
            "grid_area": null,
            "grid_auto_columns": null,
            "grid_auto_flow": null,
            "grid_auto_rows": null,
            "grid_column": null,
            "grid_gap": null,
            "grid_row": null,
            "grid_template_areas": null,
            "grid_template_columns": null,
            "grid_template_rows": null,
            "height": null,
            "justify_content": null,
            "justify_items": null,
            "left": null,
            "margin": null,
            "max_height": null,
            "max_width": null,
            "min_height": null,
            "min_width": null,
            "object_fit": null,
            "object_position": null,
            "order": null,
            "overflow": null,
            "overflow_x": null,
            "overflow_y": null,
            "padding": null,
            "right": null,
            "top": null,
            "visibility": null,
            "width": null
          }
        },
        "6b2133bd72ab48acaaf4c8531a84def0": {
          "model_module": "@jupyter-widgets/controls",
          "model_name": "ProgressStyleModel",
          "model_module_version": "1.5.0",
          "state": {
            "_model_module": "@jupyter-widgets/controls",
            "_model_module_version": "1.5.0",
            "_model_name": "ProgressStyleModel",
            "_view_count": null,
            "_view_module": "@jupyter-widgets/base",
            "_view_module_version": "1.2.0",
            "_view_name": "StyleView",
            "bar_color": null,
            "description_width": ""
          }
        },
        "40bac9a0b1b44359ba39b6173eb660dc": {
          "model_module": "@jupyter-widgets/base",
          "model_name": "LayoutModel",
          "model_module_version": "1.2.0",
          "state": {
            "_model_module": "@jupyter-widgets/base",
            "_model_module_version": "1.2.0",
            "_model_name": "LayoutModel",
            "_view_count": null,
            "_view_module": "@jupyter-widgets/base",
            "_view_module_version": "1.2.0",
            "_view_name": "LayoutView",
            "align_content": null,
            "align_items": null,
            "align_self": null,
            "border": null,
            "bottom": null,
            "display": null,
            "flex": null,
            "flex_flow": null,
            "grid_area": null,
            "grid_auto_columns": null,
            "grid_auto_flow": null,
            "grid_auto_rows": null,
            "grid_column": null,
            "grid_gap": null,
            "grid_row": null,
            "grid_template_areas": null,
            "grid_template_columns": null,
            "grid_template_rows": null,
            "height": null,
            "justify_content": null,
            "justify_items": null,
            "left": null,
            "margin": null,
            "max_height": null,
            "max_width": null,
            "min_height": null,
            "min_width": null,
            "object_fit": null,
            "object_position": null,
            "order": null,
            "overflow": null,
            "overflow_x": null,
            "overflow_y": null,
            "padding": null,
            "right": null,
            "top": null,
            "visibility": null,
            "width": null
          }
        },
        "c63b690f27c84333a6877812b53f005d": {
          "model_module": "@jupyter-widgets/controls",
          "model_name": "DescriptionStyleModel",
          "model_module_version": "1.5.0",
          "state": {
            "_model_module": "@jupyter-widgets/controls",
            "_model_module_version": "1.5.0",
            "_model_name": "DescriptionStyleModel",
            "_view_count": null,
            "_view_module": "@jupyter-widgets/base",
            "_view_module_version": "1.2.0",
            "_view_name": "StyleView",
            "description_width": ""
          }
        },
        "0f00e331e7f0409fa7cdf0acb98e1c88": {
          "model_module": "@jupyter-widgets/controls",
          "model_name": "HBoxModel",
          "model_module_version": "1.5.0",
          "state": {
            "_dom_classes": [],
            "_model_module": "@jupyter-widgets/controls",
            "_model_module_version": "1.5.0",
            "_model_name": "HBoxModel",
            "_view_count": null,
            "_view_module": "@jupyter-widgets/controls",
            "_view_module_version": "1.5.0",
            "_view_name": "HBoxView",
            "box_style": "",
            "children": [
              "IPY_MODEL_690793183b524159b08fd4b4f65968e3",
              "IPY_MODEL_019ac16ec86f4ebca13e4afbacf0b1f0",
              "IPY_MODEL_63c8819c52764c12b7856bd73f8dfee8"
            ],
            "layout": "IPY_MODEL_2aa539a88ea848f286cfe6fd28812ae1"
          }
        },
        "690793183b524159b08fd4b4f65968e3": {
          "model_module": "@jupyter-widgets/controls",
          "model_name": "HTMLModel",
          "model_module_version": "1.5.0",
          "state": {
            "_dom_classes": [],
            "_model_module": "@jupyter-widgets/controls",
            "_model_module_version": "1.5.0",
            "_model_name": "HTMLModel",
            "_view_count": null,
            "_view_module": "@jupyter-widgets/controls",
            "_view_module_version": "1.5.0",
            "_view_name": "HTMLView",
            "description": "",
            "description_tooltip": null,
            "layout": "IPY_MODEL_670734ea143a4a74bc446d5a07c5cb28",
            "placeholder": "​",
            "style": "IPY_MODEL_8bac2d241e314c7eb80c7bcaff5fb7c5",
            "value": "Downloading: 100%"
          }
        },
        "019ac16ec86f4ebca13e4afbacf0b1f0": {
          "model_module": "@jupyter-widgets/controls",
          "model_name": "FloatProgressModel",
          "model_module_version": "1.5.0",
          "state": {
            "_dom_classes": [],
            "_model_module": "@jupyter-widgets/controls",
            "_model_module_version": "1.5.0",
            "_model_name": "FloatProgressModel",
            "_view_count": null,
            "_view_module": "@jupyter-widgets/controls",
            "_view_module_version": "1.5.0",
            "_view_name": "ProgressView",
            "bar_style": "success",
            "description": "",
            "description_tooltip": null,
            "layout": "IPY_MODEL_48565a900fdc464a9e1d71cb3ffdcf23",
            "max": 345823776,
            "min": 0,
            "orientation": "horizontal",
            "style": "IPY_MODEL_b0b1cbbb9cbe4a65996ffb33fae6d459",
            "value": 345823776
          }
        },
        "63c8819c52764c12b7856bd73f8dfee8": {
          "model_module": "@jupyter-widgets/controls",
          "model_name": "HTMLModel",
          "model_module_version": "1.5.0",
          "state": {
            "_dom_classes": [],
            "_model_module": "@jupyter-widgets/controls",
            "_model_module_version": "1.5.0",
            "_model_name": "HTMLModel",
            "_view_count": null,
            "_view_module": "@jupyter-widgets/controls",
            "_view_module_version": "1.5.0",
            "_view_name": "HTMLView",
            "description": "",
            "description_tooltip": null,
            "layout": "IPY_MODEL_32dbb8ef782342c3b9f7cfa8b1c395e2",
            "placeholder": "​",
            "style": "IPY_MODEL_71ec4a8ae7f24fbc931528f3fe838f18",
            "value": " 346M/346M [00:05&lt;00:00, 82.0MB/s]"
          }
        },
        "2aa539a88ea848f286cfe6fd28812ae1": {
          "model_module": "@jupyter-widgets/base",
          "model_name": "LayoutModel",
          "model_module_version": "1.2.0",
          "state": {
            "_model_module": "@jupyter-widgets/base",
            "_model_module_version": "1.2.0",
            "_model_name": "LayoutModel",
            "_view_count": null,
            "_view_module": "@jupyter-widgets/base",
            "_view_module_version": "1.2.0",
            "_view_name": "LayoutView",
            "align_content": null,
            "align_items": null,
            "align_self": null,
            "border": null,
            "bottom": null,
            "display": null,
            "flex": null,
            "flex_flow": null,
            "grid_area": null,
            "grid_auto_columns": null,
            "grid_auto_flow": null,
            "grid_auto_rows": null,
            "grid_column": null,
            "grid_gap": null,
            "grid_row": null,
            "grid_template_areas": null,
            "grid_template_columns": null,
            "grid_template_rows": null,
            "height": null,
            "justify_content": null,
            "justify_items": null,
            "left": null,
            "margin": null,
            "max_height": null,
            "max_width": null,
            "min_height": null,
            "min_width": null,
            "object_fit": null,
            "object_position": null,
            "order": null,
            "overflow": null,
            "overflow_x": null,
            "overflow_y": null,
            "padding": null,
            "right": null,
            "top": null,
            "visibility": null,
            "width": null
          }
        },
        "670734ea143a4a74bc446d5a07c5cb28": {
          "model_module": "@jupyter-widgets/base",
          "model_name": "LayoutModel",
          "model_module_version": "1.2.0",
          "state": {
            "_model_module": "@jupyter-widgets/base",
            "_model_module_version": "1.2.0",
            "_model_name": "LayoutModel",
            "_view_count": null,
            "_view_module": "@jupyter-widgets/base",
            "_view_module_version": "1.2.0",
            "_view_name": "LayoutView",
            "align_content": null,
            "align_items": null,
            "align_self": null,
            "border": null,
            "bottom": null,
            "display": null,
            "flex": null,
            "flex_flow": null,
            "grid_area": null,
            "grid_auto_columns": null,
            "grid_auto_flow": null,
            "grid_auto_rows": null,
            "grid_column": null,
            "grid_gap": null,
            "grid_row": null,
            "grid_template_areas": null,
            "grid_template_columns": null,
            "grid_template_rows": null,
            "height": null,
            "justify_content": null,
            "justify_items": null,
            "left": null,
            "margin": null,
            "max_height": null,
            "max_width": null,
            "min_height": null,
            "min_width": null,
            "object_fit": null,
            "object_position": null,
            "order": null,
            "overflow": null,
            "overflow_x": null,
            "overflow_y": null,
            "padding": null,
            "right": null,
            "top": null,
            "visibility": null,
            "width": null
          }
        },
        "8bac2d241e314c7eb80c7bcaff5fb7c5": {
          "model_module": "@jupyter-widgets/controls",
          "model_name": "DescriptionStyleModel",
          "model_module_version": "1.5.0",
          "state": {
            "_model_module": "@jupyter-widgets/controls",
            "_model_module_version": "1.5.0",
            "_model_name": "DescriptionStyleModel",
            "_view_count": null,
            "_view_module": "@jupyter-widgets/base",
            "_view_module_version": "1.2.0",
            "_view_name": "StyleView",
            "description_width": ""
          }
        },
        "48565a900fdc464a9e1d71cb3ffdcf23": {
          "model_module": "@jupyter-widgets/base",
          "model_name": "LayoutModel",
          "model_module_version": "1.2.0",
          "state": {
            "_model_module": "@jupyter-widgets/base",
            "_model_module_version": "1.2.0",
            "_model_name": "LayoutModel",
            "_view_count": null,
            "_view_module": "@jupyter-widgets/base",
            "_view_module_version": "1.2.0",
            "_view_name": "LayoutView",
            "align_content": null,
            "align_items": null,
            "align_self": null,
            "border": null,
            "bottom": null,
            "display": null,
            "flex": null,
            "flex_flow": null,
            "grid_area": null,
            "grid_auto_columns": null,
            "grid_auto_flow": null,
            "grid_auto_rows": null,
            "grid_column": null,
            "grid_gap": null,
            "grid_row": null,
            "grid_template_areas": null,
            "grid_template_columns": null,
            "grid_template_rows": null,
            "height": null,
            "justify_content": null,
            "justify_items": null,
            "left": null,
            "margin": null,
            "max_height": null,
            "max_width": null,
            "min_height": null,
            "min_width": null,
            "object_fit": null,
            "object_position": null,
            "order": null,
            "overflow": null,
            "overflow_x": null,
            "overflow_y": null,
            "padding": null,
            "right": null,
            "top": null,
            "visibility": null,
            "width": null
          }
        },
        "b0b1cbbb9cbe4a65996ffb33fae6d459": {
          "model_module": "@jupyter-widgets/controls",
          "model_name": "ProgressStyleModel",
          "model_module_version": "1.5.0",
          "state": {
            "_model_module": "@jupyter-widgets/controls",
            "_model_module_version": "1.5.0",
            "_model_name": "ProgressStyleModel",
            "_view_count": null,
            "_view_module": "@jupyter-widgets/base",
            "_view_module_version": "1.2.0",
            "_view_name": "StyleView",
            "bar_color": null,
            "description_width": ""
          }
        },
        "32dbb8ef782342c3b9f7cfa8b1c395e2": {
          "model_module": "@jupyter-widgets/base",
          "model_name": "LayoutModel",
          "model_module_version": "1.2.0",
          "state": {
            "_model_module": "@jupyter-widgets/base",
            "_model_module_version": "1.2.0",
            "_model_name": "LayoutModel",
            "_view_count": null,
            "_view_module": "@jupyter-widgets/base",
            "_view_module_version": "1.2.0",
            "_view_name": "LayoutView",
            "align_content": null,
            "align_items": null,
            "align_self": null,
            "border": null,
            "bottom": null,
            "display": null,
            "flex": null,
            "flex_flow": null,
            "grid_area": null,
            "grid_auto_columns": null,
            "grid_auto_flow": null,
            "grid_auto_rows": null,
            "grid_column": null,
            "grid_gap": null,
            "grid_row": null,
            "grid_template_areas": null,
            "grid_template_columns": null,
            "grid_template_rows": null,
            "height": null,
            "justify_content": null,
            "justify_items": null,
            "left": null,
            "margin": null,
            "max_height": null,
            "max_width": null,
            "min_height": null,
            "min_width": null,
            "object_fit": null,
            "object_position": null,
            "order": null,
            "overflow": null,
            "overflow_x": null,
            "overflow_y": null,
            "padding": null,
            "right": null,
            "top": null,
            "visibility": null,
            "width": null
          }
        },
        "71ec4a8ae7f24fbc931528f3fe838f18": {
          "model_module": "@jupyter-widgets/controls",
          "model_name": "DescriptionStyleModel",
          "model_module_version": "1.5.0",
          "state": {
            "_model_module": "@jupyter-widgets/controls",
            "_model_module_version": "1.5.0",
            "_model_name": "DescriptionStyleModel",
            "_view_count": null,
            "_view_module": "@jupyter-widgets/base",
            "_view_module_version": "1.2.0",
            "_view_name": "StyleView",
            "description_width": ""
          }
        }
      }
    },
    "gpuClass": "premium",
    "accelerator": "GPU"
  },
  "cells": [
    {
      "cell_type": "markdown",
      "source": [
        "# Ensemble Model"
      ],
      "metadata": {
        "id": "y-6q7Ld_xgic"
      }
    },
    {
      "cell_type": "markdown",
      "source": [
        "# Installations"
      ],
      "metadata": {
        "id": "IkpNBZfISyeV"
      }
    },
    {
      "cell_type": "code",
      "source": [
        "! pip install virtualenv\n"
      ],
      "metadata": {
        "id": "nDKXHrdnfE06"
      },
      "execution_count": null,
      "outputs": []
    },
    {
      "cell_type": "code",
      "source": [
        "! virtualenv env"
      ],
      "metadata": {
        "id": "FjBYs5oyfJDo"
      },
      "execution_count": null,
      "outputs": []
    },
    {
      "cell_type": "code",
      "source": [
        "! source env/bin/activate"
      ],
      "metadata": {
        "id": "CWlocNXxfTPu"
      },
      "execution_count": null,
      "outputs": []
    },
    {
      "cell_type": "code",
      "source": [
        "!pip install transformers[tf-cpu]"
      ],
      "metadata": {
        "id": "m5qZ-plqSw7y"
      },
      "execution_count": null,
      "outputs": []
    },
    {
      "cell_type": "code",
      "source": [
        "!pip install datasets"
      ],
      "metadata": {
        "id": "cmxxj6lQVh-P"
      },
      "execution_count": null,
      "outputs": []
    },
    {
      "cell_type": "code",
      "source": [
        "!pip install tensorflow-gpu==2.10"
      ],
      "metadata": {
        "id": "u7fkty1ALqsA"
      },
      "execution_count": null,
      "outputs": []
    },
    {
      "cell_type": "markdown",
      "source": [
        "## Loading Data and Partitioning"
      ],
      "metadata": {
        "id": "sS8wSxEgWHgL"
      }
    },
    {
      "cell_type": "code",
      "source": [
        "from google.colab import drive\n",
        "drive.mount('/content/drive')"
      ],
      "metadata": {
        "colab": {
          "base_uri": "https://localhost:8080/"
        },
        "id": "4f_YQE40oQ70",
        "outputId": "6ca4424e-08a9-4940-fc79-97f555f0eae0"
      },
      "execution_count": null,
      "outputs": [
        {
          "output_type": "stream",
          "name": "stdout",
          "text": [
            "Mounted at /content/drive\n"
          ]
        }
      ]
    },
    {
      "cell_type": "code",
      "source": [
        "import os\n",
        "os.environ['TF_CPP_MIN_LOG_LEVEL'] = '3' \n",
        "\n",
        "import pandas as pd\n",
        "import numpy as np\n",
        "import tensorflow as tf\n",
        "import transformers as tr\n",
        "import PIL as PIL\n",
        "from PIL import ImageFile\n",
        "import os\n",
        "\n",
        "\n",
        "import datetime\n",
        "import datasets\n",
        "\n",
        "from tensorflow.keras import layers\n",
        "from tensorflow.keras.models import Sequential"
      ],
      "metadata": {
        "id": "5KE0cwPaWaPO"
      },
      "execution_count": null,
      "outputs": []
    },
    {
      "cell_type": "code",
      "source": [
        "import pandas as pd\n",
        "import numpy as np\n",
        "#metadata\n",
        "metadata = pd.read_csv('/content/drive/MyDrive/Github/ece539-metamushroom-project/data/DF20M-train_metadata_PROD_edibility.csv')\n",
        "sample = metadata[['image_path', 'edibility', 'month', 'Substrate', 'Habitat', 'species']].dropna()\n",
        "DATA_DIR = '/content/drive/MyDrive/Github/ece539-metamushroom-project/data/images/DF20M/'\n"
      ],
      "metadata": {
        "id": "gxNUcXs_WXen"
      },
      "execution_count": null,
      "outputs": []
    },
    {
      "cell_type": "code",
      "source": [
        "from sklearn.model_selection import train_test_split\n",
        "\n",
        "Xs = sample[['image_path', 'edibility', 'month', 'Substrate', 'Habitat']]\n",
        "ys = sample[['species']]\n",
        "\n",
        "Xs_, Xs_test, ys_, ys_test = train_test_split(Xs, ys, test_size=0.2, stratify = ys, random_state=42)\n",
        "Xs_train, Xs_sample, ys_train, ys_sample = train_test_split(Xs_, ys_, test_size = 0.8, stratify = ys_, random_state = 42)\n",
        "Xstr, Xste, ystr, yste = train_test_split(Xs_train, ys_train, test_size = 0.2, stratify = ys_train, random_state = 42)"
      ],
      "metadata": {
        "id": "47G--oMoiR4q"
      },
      "execution_count": null,
      "outputs": []
    },
    {
      "cell_type": "code",
      "source": [
        "len(Xstr), len(Xste)"
      ],
      "metadata": {
        "id": "lXna5KQMhjdj",
        "colab": {
          "base_uri": "https://localhost:8080/"
        },
        "outputId": "2ca7bc54-03b3-43d1-f28c-c49e57c583f7"
      },
      "execution_count": null,
      "outputs": [
        {
          "output_type": "execute_result",
          "data": {
            "text/plain": [
              "(4161, 1041)"
            ]
          },
          "metadata": {},
          "execution_count": 50
        }
      ]
    },
    {
      "cell_type": "code",
      "source": [
        "month = Xstr['month'].to_numpy()\n",
        "substrate = Xstr['Substrate'].factorize()[0]\n",
        "habitat = Xstr['Habitat'].factorize()[0]\n",
        "\n",
        "Xtr = np.vstack([month, substrate, habitat]).T\n",
        "ytr = Xstr['edibility'].to_numpy()\n",
        "\n",
        "month = Xste['month'].to_numpy()\n",
        "substrate = Xste['Substrate'].factorize()[0]\n",
        "habitat = Xste['Habitat'].factorize()[0]\n",
        "\n",
        "Xte = np.vstack([month, substrate, habitat]).T\n",
        "yte = Xste['edibility'].to_numpy()"
      ],
      "metadata": {
        "id": "IgXbgf9tDLkz"
      },
      "execution_count": null,
      "outputs": []
    },
    {
      "cell_type": "code",
      "source": [
        "Xtr, Xval, ytr, yval =  train_test_split(Xtr, ytr, test_size = 0.15, stratify = ytr, random_state = 42)"
      ],
      "metadata": {
        "id": "5CeM11D7DteY"
      },
      "execution_count": null,
      "outputs": []
    },
    {
      "cell_type": "markdown",
      "source": [
        "## Decision Tree Pre-classifier"
      ],
      "metadata": {
        "id": "2iHTgxwjbH0D"
      }
    },
    {
      "cell_type": "markdown",
      "source": [
        "#### Model selection - hyperparameter tuning"
      ],
      "metadata": {
        "id": "cPJaxIKMt6sv"
      }
    },
    {
      "cell_type": "code",
      "source": [
        "from sklearn.tree import DecisionTreeClassifier\n",
        "from sklearn.model_selection import KFold\n",
        "from sklearn.metrics import PrecisionRecallDisplay\n",
        "from sklearn.metrics import confusion_matrix\n",
        "from sklearn import metrics\n",
        "import matplotlib.pyplot as plt\n",
        "from sklearn.metrics import recall_score\n",
        "\n",
        "\n",
        "kf = KFold(n_splits=5)\n",
        "\n",
        "#aucs_roc = np.zeros((5,8))\n",
        "#aucs_pr = np.zeros((5,8))\n",
        "aps_pr = np.zeros((5,8))\n",
        "aps_re = np.zeros((5,8))\n",
        "n = 0\n",
        "\n",
        "for train_index, test_index in kf.split(Xtr):\n",
        "  #auc_roc = np.zeros((8,))\n",
        "  #auc_pr = np.zeros((8,))\n",
        "  ap_pr = np.zeros((8,))\n",
        "  ap_re = np.zeros((8,))\n",
        "  X_train, X_test = Xtr[train_index], Xtr[test_index]\n",
        "  y_train, y_test = ytr[train_index], ytr[test_index]\n",
        "\n",
        "  depths = [2,3,4,5,6,7,8,9]\n",
        "  for i, depth in enumerate(depths): \n",
        "    clf = DecisionTreeClassifier(random_state=0, criterion = 'gini',min_samples_leaf = 10, class_weight = 'balanced', max_depth=depth)\n",
        "    clf.fit(X_train, y_train)\n",
        "  \n",
        "    y_pred = clf.predict_proba(X_test)[:, 1]\n",
        "    precision, recall, _ = metrics.precision_recall_curve(y_test, y_pred)\n",
        "    #fpr, tpr, thresholds = metrics.roc_curve(y_test, y_pred, pos_label = 1)\n",
        "\n",
        "    #auc_roc[i] = metrics.auc(fpr, tpr)\n",
        "    #auc_pr[i] = metrics.auc(recall, precision)\n",
        "    ap_pr[i] = metrics.average_precision_score(y_test, y_pred, pos_label = 1)\n",
        "    ap_re[i] = metrics.recall_score(y_test, np.array(y_pred > 0.5, dtype = 'int'), pos_label = 1)\n",
        "\n",
        "  #aucs_roc[n, :] = auc_roc\n",
        "  #aucs_pr[n, :] = auc_pr\n",
        "  aps_pr[n, :] = ap_pr\n",
        "  aps_re[n, :] = ap_re\n",
        "  n += 1\n",
        "\n",
        "#print(np.mean(aucs_pr, axis = 0))\n",
        "#print(np.mean(aucs_roc, axis = 0))\n",
        "#print(np.mean(aps_pr, axis = 0))\n",
        "\n",
        "fig, ax1 = plt.subplots()\n",
        "\n",
        "ax2 = ax1.twinx()\n",
        "\n",
        "\n",
        "ax1.plot(depths, np.mean(aps_pr, axis = 0), color = '#1f77b4', label = 'precision')\n",
        "ax2.plot(depths, np.mean(aps_re, axis = 0), color = '#ff7f0e', label = 'recall')\n",
        "ax1.set_xlabel('Tree depth')\n",
        "ax1.set_ylabel('Precision')\n",
        "ax2.set_ylabel('Recall')\n",
        "plt.title('Performance metrics')\n",
        "plt.legend()\n",
        "plt.show()"
      ],
      "metadata": {
        "id": "bDJqb0EIxz17",
        "colab": {
          "base_uri": "https://localhost:8080/",
          "height": 295
        },
        "outputId": "f626e042-7115-4552-8170-80709098b662"
      },
      "execution_count": null,
      "outputs": [
        {
          "output_type": "display_data",
          "data": {
            "text/plain": [
              "<Figure size 432x288 with 2 Axes>"
            ],
            "image/png": "[encoded data removed]"
          },
          "metadata": {
            "needs_background": "light"
          }
        }
      ]
    },
    {
      "cell_type": "code",
      "source": [
        "#testing\n",
        "clf = DecisionTreeClassifier(random_state=0, criterion = 'entropy', min_samples_leaf = 10, class_weight = 'balanced', max_depth=6)\n",
        "clf.fit(Xtr, ytr)\n",
        "y_pred = clf.predict_proba(Xval)[:, 1]\n",
        "\n",
        "precision, recall, proba = metrics.precision_recall_curve(yval, y_pred)\n",
        "fpr, tpr, thresholds = metrics.roc_curve(yval, y_pred, pos_label = 1)\n",
        "\n",
        "#*auc_roc = metrics.auc(fpr, tpr)\n",
        "auc_pr = metrics.auc(recall, precision)\n",
        "\n",
        "print(auc_pr)\n",
        "#print(precision)\n",
        "#print(proba[np.argsort(precision)[0]])"
      ],
      "metadata": {
        "id": "szjkoc1GyTqq",
        "colab": {
          "base_uri": "https://localhost:8080/"
        },
        "outputId": "8fd44b8c-2b17-42ad-d25a-29a5a5c4577f"
      },
      "execution_count": null,
      "outputs": [
        {
          "output_type": "stream",
          "name": "stdout",
          "text": [
            "0.40075566339182883\n"
          ]
        }
      ]
    },
    {
      "cell_type": "code",
      "source": [
        "plt.plot(fpr, tpr)\n",
        "plt.plot(fpr, fpr, '--')\n",
        "plt.title(\"ROC - Decision Tree\")\n",
        "plt.xlabel(\"false positive rate\")\n",
        "plt.ylabel('true positive rate')\n",
        "plt.show()"
      ],
      "metadata": {
        "id": "rRniVLSC_84s",
        "colab": {
          "base_uri": "https://localhost:8080/",
          "height": 295
        },
        "outputId": "030a603f-d2bd-4796-d395-3162f1ecb716"
      },
      "execution_count": null,
      "outputs": [
        {
          "output_type": "display_data",
          "data": {
            "text/plain": [
              "<Figure size 432x288 with 1 Axes>"
            ],
            "image/png": "[encoded data removed]"
          },
          "metadata": {
            "needs_background": "light"
          }
        }
      ]
    },
    {
      "cell_type": "code",
      "source": [
        "metrics.PrecisionRecallDisplay.from_estimator(clf, Xval, yval)\n",
        "plt.ylim([0,1])\n",
        "plt.show()"
      ],
      "metadata": {
        "id": "MziVr3iN2cY_",
        "colab": {
          "base_uri": "https://localhost:8080/",
          "height": 283
        },
        "outputId": "2b94aaea-9eda-4e1a-890e-a9767ce945c8"
      },
      "execution_count": null,
      "outputs": [
        {
          "output_type": "display_data",
          "data": {
            "text/plain": [
              "<Figure size 432x288 with 1 Axes>"
            ],
            "image/png": "[encoded data removed]"
          },
          "metadata": {
            "needs_background": "light"
          }
        }
      ]
    },
    {
      "cell_type": "code",
      "source": [
        "from sklearn.metrics import confusion_matrix\n",
        "\n",
        "y_pred = clf.predict(Xval)\n",
        "y_true = yval\n",
        "confusion_matrix(y_true, y_pred)"
      ],
      "metadata": {
        "colab": {
          "base_uri": "https://localhost:8080/"
        },
        "id": "XwQPxHOv2BFk",
        "outputId": "12678248-7502-4564-9584-866b9a1c22cb"
      },
      "execution_count": null,
      "outputs": [
        {
          "output_type": "execute_result",
          "data": {
            "text/plain": [
              "array([[225, 245],\n",
              "       [ 38, 117]])"
            ]
          },
          "metadata": {},
          "execution_count": 19
        }
      ]
    },
    {
      "cell_type": "markdown",
      "source": [
        "We want to minimize False Positives while still not classifying everything as Negative -- this gives us the second threshold.\n",
        "\n",
        "This is the \"highest\" point on the curve except (0,1). "
      ],
      "metadata": {
        "id": "BC56BCJZ6yqV"
      }
    },
    {
      "cell_type": "code",
      "source": [
        "for i in np.unique(clf.apply(Xtr)): \n",
        "  data_labels_train = ytr[np.where(clf.apply(Xtr) == i)[0]]\n",
        "  data_labels_val = yval[np.where(clf.apply(Xval) == i)[0]]\n",
        "  print(\"Node {0} Proportion positive/edible: train: {1} (total: {2}), val: {3} (total: {4})\".format(i, np.round(np.sum(data_labels_train) /len(data_labels_train), 2), \n",
        "                                                                                                    len(data_labels_train), \n",
        "                                                                                                    np.round(np.sum(data_labels_val) /len(data_labels_val), 2), len(data_labels_val)))"
      ],
      "metadata": {
        "id": "MykXe3QI0bBO",
        "colab": {
          "base_uri": "https://localhost:8080/"
        },
        "outputId": "ca91060b-ff0b-464e-a143-b0818aab9f74"
      },
      "execution_count": null,
      "outputs": [
        {
          "output_type": "stream",
          "name": "stdout",
          "text": [
            "Node 6 Proportion positive/edible: train: 0.54 (total: 90), val: 0.4 (total: 15)\n",
            "Node 7 Proportion positive/edible: train: 0.31 (total: 13), val: 0.0 (total: 2)\n",
            "Node 9 Proportion positive/edible: train: 0.78 (total: 18), val: nan (total: 0)\n",
            "Node 10 Proportion positive/edible: train: 0.5 (total: 10), val: 0.33 (total: 3)\n",
            "Node 13 Proportion positive/edible: train: 0.59 (total: 32), val: 0.83 (total: 6)\n",
            "Node 14 Proportion positive/edible: train: 0.44 (total: 198), val: 0.45 (total: 38)\n",
            "Node 16 Proportion positive/edible: train: 0.17 (total: 53), val: 0.43 (total: 7)\n",
            "Node 17 Proportion positive/edible: train: 0.44 (total: 34), val: 0.25 (total: 4)\n",
            "Node 21 Proportion positive/edible: train: 0.28 (total: 977), val: 0.29 (total: 170)\n",
            "Node 22 Proportion positive/edible: train: 0.5 (total: 44), val: 0.0 (total: 2)\n",
            "Node 24 Proportion positive/edible: train: 0.19 (total: 69), val: 0.33 (total: 12)\n",
            "Node 25 Proportion positive/edible: train: 0.29 (total: 58), val: 0.22 (total: 18)\n",
            "Node 28 Proportion positive/edible: train: 0.93 (total: 15), val: 0.75 (total: 4)\n",
            "Node 29 Proportion positive/edible: train: 0.45 (total: 20), val: 0.67 (total: 6)\n",
            "Node 31 Proportion positive/edible: train: 0.28 (total: 50), val: 0.27 (total: 15)\n",
            "Node 32 Proportion positive/edible: train: 0.46 (total: 46), val: 0.33 (total: 6)\n",
            "Node 37 Proportion positive/edible: train: 0.03 (total: 39), val: 0.0 (total: 4)\n",
            "Node 38 Proportion positive/edible: train: 0.15 (total: 13), val: 0.2 (total: 5)\n",
            "Node 39 Proportion positive/edible: train: 0.0 (total: 25), val: 0.0 (total: 5)\n",
            "Node 40 Proportion positive/edible: train: 0.29 (total: 14), val: 0.2 (total: 5)\n",
            "Node 44 Proportion positive/edible: train: 0.16 (total: 199), val: 0.16 (total: 43)\n",
            "Node 45 Proportion positive/edible: train: 0.5 (total: 10), val: 0.5 (total: 4)\n",
            "Node 47 Proportion positive/edible: train: 0.46 (total: 13), val: 0.0 (total: 2)\n",
            "Node 48 Proportion positive/edible: train: 0.27 (total: 92), val: 0.29 (total: 7)\n",
            "Node 49 Proportion positive/edible: train: 0.0 (total: 13), val: nan (total: 0)\n",
            "Node 54 Proportion positive/edible: train: 0.19 (total: 127), val: 0.12 (total: 24)\n",
            "Node 56 Proportion positive/edible: train: 0.13 (total: 168), val: 0.12 (total: 24)\n",
            "Node 57 Proportion positive/edible: train: 0.17 (total: 131), val: 0.12 (total: 25)\n",
            "Node 59 Proportion positive/edible: train: 0.06 (total: 50), val: 0.17 (total: 6)\n",
            "Node 61 Proportion positive/edible: train: 0.14 (total: 59), val: 0.0 (total: 16)\n",
            "Node 62 Proportion positive/edible: train: 0.15 (total: 13), val: 0.5 (total: 2)\n",
            "Node 65 Proportion positive/edible: train: 0.3 (total: 40), val: 0.4 (total: 10)\n",
            "Node 67 Proportion positive/edible: train: 0.08 (total: 13), val: 0.0 (total: 3)\n",
            "Node 68 Proportion positive/edible: train: 0.26 (total: 191), val: 0.19 (total: 31)\n",
            "Node 71 Proportion positive/edible: train: 0.27 (total: 26), val: 0.36 (total: 11)\n",
            "Node 72 Proportion positive/edible: train: 0.14 (total: 49), val: 0.11 (total: 9)\n",
            "Node 74 Proportion positive/edible: train: 0.36 (total: 11), val: 0.0 (total: 1)\n",
            "Node 75 Proportion positive/edible: train: 0.24 (total: 17), val: 0.0 (total: 1)\n",
            "Node 80 Proportion positive/edible: train: 0.09 (total: 94), val: 0.07 (total: 15)\n",
            "Node 81 Proportion positive/edible: train: 0.15 (total: 139), val: 0.08 (total: 25)\n",
            "Node 82 Proportion positive/edible: train: 0.4 (total: 10), val: 0.5 (total: 2)\n",
            "Node 84 Proportion positive/edible: train: 0.0 (total: 23), val: 0.25 (total: 4)\n",
            "Node 85 Proportion positive/edible: train: 0.1 (total: 10), val: 0.5 (total: 2)\n",
            "Node 88 Proportion positive/edible: train: 0.0 (total: 34), val: 0.5 (total: 2)\n",
            "Node 90 Proportion positive/edible: train: 0.11 (total: 84), val: 0.21 (total: 14)\n",
            "Node 91 Proportion positive/edible: train: 0.03 (total: 37), val: 0.0 (total: 7)\n",
            "Node 92 Proportion positive/edible: train: 0.0 (total: 65), val: 0.25 (total: 8)\n"
          ]
        },
        {
          "output_type": "stream",
          "name": "stderr",
          "text": [
            "<ipython-input-23-aa50c6eaa48b>:6: RuntimeWarning: invalid value encountered in long_scalars\n",
            "  np.round(np.sum(data_labels_val) /len(data_labels_val), 2), len(data_labels_val)))\n",
            "<ipython-input-23-aa50c6eaa48b>:6: RuntimeWarning: invalid value encountered in long_scalars\n",
            "  np.round(np.sum(data_labels_val) /len(data_labels_val), 2), len(data_labels_val)))\n"
          ]
        }
      ]
    },
    {
      "cell_type": "code",
      "source": [
        "leaves, counts = np.unique(clf.apply(Xtr, check_input=True), return_counts = True)\n",
        "leaves_test, counts_test = np.unique(clf.apply(Xte, check_input=True), return_counts = True)"
      ],
      "metadata": {
        "id": "Q7i3GBDZuR9S"
      },
      "execution_count": null,
      "outputs": []
    },
    {
      "cell_type": "markdown",
      "source": [
        "## Data preprocessing"
      ],
      "metadata": {
        "id": "vIUgfNZtlrUd"
      }
    },
    {
      "cell_type": "code",
      "source": [
        "sample = Xste"
      ],
      "metadata": {
        "id": "Y9iP0jBri316"
      },
      "execution_count": null,
      "outputs": []
    },
    {
      "cell_type": "code",
      "source": [
        "features=datasets.Features({\n",
        "                      \"img\": datasets.Image(),\n",
        "                      \"habitat\": datasets.features.Sequence(datasets.Value(\"float32\"), length = 32),\n",
        "                      \"month\":datasets.features.Sequence(datasets.Value(\"float32\"), length = 12),\n",
        "                      \"substrate\":datasets.features.Sequence(datasets.Value(\"float32\"), length = 32),\n",
        "                      \"label\": datasets.features.ClassLabel(names=['edible', 'inedible']),\n",
        "                  })\n",
        "\n",
        "ds = datasets.Dataset.from_dict({\"img\":list(sample['image_path']),\n",
        "                                 \"habitat\": list(sample['Habitat']),\n",
        "                                 \"month\": list(sample['month']),\n",
        "                                 \"substrate\": list(sample['Substrate']), \n",
        "                                 \"label\":list(sample['edibility'])},\n",
        "                                features = features)\n",
        "# we are also renaming our label col to labels to use `.to_tf_dataset` later\n",
        "ds = ds.rename_column(\"label\", \"labels\")"
      ],
      "metadata": {
        "id": "PkNjnKf6epB3"
      },
      "execution_count": null,
      "outputs": []
    },
    {
      "cell_type": "markdown",
      "source": [
        "    features=datasets.Features({\n",
        "                          \"img\": datasets.Image(),\n",
        "                          \"habitat\": datasets.features.Value('float'),\n",
        "                          \"month\":datasets.features.Value('float'),\n",
        "                          \"substrate\":datasets.features.Value('float'),\n",
        "                          \"label\": datasets.features.ClassLabel(names=['edible', 'inedible']),\n",
        "                      })\n",
        "    ds = datasets.Dataset.from_dict({\"img\":list(sample['image_path']), \n",
        "                                    \"habitat\": list(sample['Habitat'].factorize()[0]),\n",
        "                                    \"month\": list(sample['month']),\n",
        "                                    \"substrate\": list(sample['Substrate'].factorize()[0]),\n",
        "                                    \"label\":list(sample['edibility'])},\n",
        "                                    features=features)\n",
        "    # we are also renaming our label col to labels to use `.to_tf_dataset` later\n",
        "    ds = ds.rename_column(\"label\", \"labels\")"
      ],
      "metadata": {
        "id": "5Qh6I4omppLr"
      }
    },
    {
      "cell_type": "code",
      "source": [
        "from transformers import ViTFeatureExtractor\n",
        "from tensorflow import keras \n",
        "from tensorflow.keras import layers\n",
        "\n",
        "model_id = 'google/vit-base-patch16-224'\n",
        "\n",
        "feature_extractor = ViTFeatureExtractor.from_pretrained(model_id)\n",
        "\n",
        "\n",
        "# basic processing (only resizing)\n",
        "def process(examples):\n",
        "    examples.update(feature_extractor(examples['img'], return_tensors='tf'))\n",
        "    return examples\n",
        "\n"
      ],
      "metadata": {
        "id": "26I6sc81sMMJ",
        "colab": {
          "base_uri": "https://localhost:8080/",
          "height": 49,
          "referenced_widgets": [
            "26c67897b0c547188f88e1dd18ebfe92",
            "34d8b3c51d0f42959f2bedd1df36d697",
            "1b2f4721969542fbbd90ca49e5c708e5",
            "30a4ea7795bd4ae79504d8ee9ea235de",
            "cb20a12fcebe432689ae01eabe519e76",
            "8935556edd354a3a892522663e4e09c9",
            "934e18ebf71f4bb6aa3d4e552292e69d",
            "8bdd89b26bc3436f95c9040e25d2d3d7",
            "a8ef44bf7ed94d1eb69c6397dac41ca0",
            "d3012d4bb7a24e32a9d78e220e92a942",
            "000826b32f814bccb9b80e8370500cbe"
          ]
        },
        "outputId": "5b2e7561-9540-4073-fb25-35dc99aaa0c7"
      },
      "execution_count": null,
      "outputs": [
        {
          "output_type": "display_data",
          "data": {
            "text/plain": [
              "Downloading:   0%|          | 0.00/160 [00:00<?, ?B/s]"
            ],
            "application/vnd.jupyter.widget-view+json": {
              "version_major": 2,
              "version_minor": 0,
              "model_id": "26c67897b0c547188f88e1dd18ebfe92"
            }
          },
          "metadata": {}
        }
      ]
    },
    {
      "cell_type": "code",
      "source": [
        "os.chdir(DATA_DIR)"
      ],
      "metadata": {
        "id": "FYVDqCdbtIJ0"
      },
      "execution_count": null,
      "outputs": []
    },
    {
      "cell_type": "code",
      "source": [
        "def process_example(example):\n",
        "    inputs = feature_extractor(example['image'], return_tensors='pt')\n",
        "    inputs['labels'] = example['labels']\n",
        "    return inputs"
      ],
      "metadata": {
        "id": "gRCMMpzqBKGH"
      },
      "execution_count": null,
      "outputs": []
    },
    {
      "cell_type": "code",
      "source": [
        "#processed_dataset = ds.map(process, batched=True, batch_size = 200)\n",
        "#processed_dataset.save_to_disk(\"/content/drive/MyDrive/Github/ece539-metamushroom-project/data/processed_datasetXste_corr\")"
      ],
      "metadata": {
        "id": "l8b7kQvcsdzf",
        "colab": {
          "base_uri": "https://localhost:8080/",
          "height": 49,
          "referenced_widgets": [
            "23269b1fbf7d471c861ecd5d68de159d",
            "306cd06b288745908c5dabeea98b5e34",
            "55e455c8bc30490292dcbb14aa7d1aaa",
            "dbd19bcf011b4b719c76fd69486ac898",
            "23439f1abae2441c89db87959f13650f",
            "d5ae0ebe6a254e058bb5ca6ab42e49a2",
            "83ebe70f6e15462cb76429137ae6b8b4",
            "d5870e8147e949dab72974096d25e0c7",
            "fb30f048c5a54bb79c5dfbab25bd037a",
            "d85718067d8d49f2bcc1ed5d4e6db830",
            "d4b160bf08464fbaa15a48dc066fb110"
          ]
        },
        "outputId": "deb9d986-84ac-4603-bbaf-611245fcb57c"
      },
      "execution_count": null,
      "outputs": [
        {
          "output_type": "display_data",
          "data": {
            "text/plain": [
              "  0%|          | 0/6 [00:00<?, ?ba/s]"
            ],
            "application/vnd.jupyter.widget-view+json": {
              "version_major": 2,
              "version_minor": 0,
              "model_id": "23269b1fbf7d471c861ecd5d68de159d"
            }
          },
          "metadata": {}
        }
      ]
    },
    {
      "cell_type": "code",
      "source": [
        "#processed_dataset = datasets.load_from_disk(\"/content/drive/MyDrive/Github/ece539-metamushroom-project/data/processed_datasetXstr_corr\")"
      ],
      "metadata": {
        "id": "XtWQMAV1O1gG"
      },
      "execution_count": null,
      "outputs": []
    },
    {
      "cell_type": "code",
      "source": [
        "from transformers import DefaultDataCollator\n",
        "\n",
        "# Data collator that will dynamically pad the inputs received, as well as the labels.\n",
        "data_collator = DefaultDataCollator(return_tensors=\"tf\")\n",
        "train_batch_size = 32\n",
        "\n",
        "\n",
        "tf_test_dataset = processed_dataset.to_tf_dataset(\n",
        "  columns=['pixel_values', 'month', 'substrate', 'habitat'],\n",
        "  label_cols=[\"labels\"],\n",
        "  shuffle=True,\n",
        "  batch_size=train_batch_size,\n",
        "  collate_fn=data_collator)"
      ],
      "metadata": {
        "id": "u5jCLqX59i85"
      },
      "execution_count": null,
      "outputs": []
    },
    {
      "cell_type": "markdown",
      "source": [
        "    from transformers import DefaultDataCollator\n",
        "\n",
        "    # Data collator that will dynamically pad the inputs received, as well as the labels.\n",
        "    data_collator = DefaultDataCollator(return_tensors=\"tf\")\n",
        "    train_batch_size = 32\n",
        "\n",
        "\n",
        "    tf_test_dataset = processed_dataset.to_tf_dataset(\n",
        "      columns=['pixel_values', 'month', 'substrate', 'habitat'],\n",
        "      label_cols=[\"labels\"],\n",
        "      shuffle=True,\n",
        "      batch_size=train_batch_size,\n",
        "      collate_fn=data_collator)\n"
      ],
      "metadata": {
        "id": "d5cizWdiZsZ2"
      }
    },
    {
      "cell_type": "code",
      "source": [
        "#data = processed_dataset.shuffle().train_test_split(test_size=.15)"
      ],
      "metadata": {
        "id": "bYwJ1-viuH3s"
      },
      "execution_count": null,
      "outputs": []
    },
    {
      "cell_type": "code",
      "source": [
        "data = processed_dataset"
      ],
      "metadata": {
        "id": "Tz4WT_2w-GSM"
      },
      "execution_count": null,
      "outputs": []
    },
    {
      "cell_type": "code",
      "source": [
        "img_class_labels = data['train'].features[\"labels\"].names"
      ],
      "metadata": {
        "id": "ZaGGAuxgV--3",
        "colab": {
          "base_uri": "https://localhost:8080/",
          "height": 318
        },
        "outputId": "4fbb97e6-dbac-4d62-dc21-8ecba88d039d"
      },
      "execution_count": null,
      "outputs": [
        {
          "output_type": "error",
          "ename": "KeyError",
          "evalue": "ignored",
          "traceback": [
            "\u001b[0;31m---------------------------------------------------------------------------\u001b[0m",
            "\u001b[0;31mKeyError\u001b[0m                                  Traceback (most recent call last)",
            "\u001b[0;32m<ipython-input-28-328603487561>\u001b[0m in \u001b[0;36m<module>\u001b[0;34m\u001b[0m\n\u001b[0;32m----> 1\u001b[0;31m \u001b[0mimg_class_labels\u001b[0m \u001b[0;34m=\u001b[0m \u001b[0mdata\u001b[0m\u001b[0;34m[\u001b[0m\u001b[0;34m'train'\u001b[0m\u001b[0;34m]\u001b[0m\u001b[0;34m.\u001b[0m\u001b[0mfeatures\u001b[0m\u001b[0;34m[\u001b[0m\u001b[0;34m\"labels\"\u001b[0m\u001b[0;34m]\u001b[0m\u001b[0;34m.\u001b[0m\u001b[0mnames\u001b[0m\u001b[0;34m\u001b[0m\u001b[0;34m\u001b[0m\u001b[0m\n\u001b[0m",
            "\u001b[0;32m/usr/local/lib/python3.8/dist-packages/datasets/arrow_dataset.py\u001b[0m in \u001b[0;36m__getitem__\u001b[0;34m(self, key)\u001b[0m\n\u001b[1;32m   2354\u001b[0m     \u001b[0;32mdef\u001b[0m \u001b[0m__getitem__\u001b[0m\u001b[0;34m(\u001b[0m\u001b[0mself\u001b[0m\u001b[0;34m,\u001b[0m \u001b[0mkey\u001b[0m\u001b[0;34m)\u001b[0m\u001b[0;34m:\u001b[0m  \u001b[0;31m# noqa: F811\u001b[0m\u001b[0;34m\u001b[0m\u001b[0;34m\u001b[0m\u001b[0m\n\u001b[1;32m   2355\u001b[0m         \u001b[0;34m\"\"\"Can be used to index columns (by string names) or rows (by integer index or iterable of indices or bools).\"\"\"\u001b[0m\u001b[0;34m\u001b[0m\u001b[0;34m\u001b[0m\u001b[0m\n\u001b[0;32m-> 2356\u001b[0;31m         return self._getitem(\n\u001b[0m\u001b[1;32m   2357\u001b[0m             \u001b[0mkey\u001b[0m\u001b[0;34m,\u001b[0m\u001b[0;34m\u001b[0m\u001b[0;34m\u001b[0m\u001b[0m\n\u001b[1;32m   2358\u001b[0m         )\n",
            "\u001b[0;32m/usr/local/lib/python3.8/dist-packages/datasets/arrow_dataset.py\u001b[0m in \u001b[0;36m_getitem\u001b[0;34m(self, key, decoded, **kwargs)\u001b[0m\n\u001b[1;32m   2338\u001b[0m         \u001b[0mformat_kwargs\u001b[0m \u001b[0;34m=\u001b[0m \u001b[0mformat_kwargs\u001b[0m \u001b[0;32mif\u001b[0m \u001b[0mformat_kwargs\u001b[0m \u001b[0;32mis\u001b[0m \u001b[0;32mnot\u001b[0m \u001b[0;32mNone\u001b[0m \u001b[0;32melse\u001b[0m \u001b[0;34m{\u001b[0m\u001b[0;34m}\u001b[0m\u001b[0;34m\u001b[0m\u001b[0;34m\u001b[0m\u001b[0m\n\u001b[1;32m   2339\u001b[0m         \u001b[0mformatter\u001b[0m \u001b[0;34m=\u001b[0m \u001b[0mget_formatter\u001b[0m\u001b[0;34m(\u001b[0m\u001b[0mformat_type\u001b[0m\u001b[0;34m,\u001b[0m \u001b[0mfeatures\u001b[0m\u001b[0;34m=\u001b[0m\u001b[0mself\u001b[0m\u001b[0;34m.\u001b[0m\u001b[0mfeatures\u001b[0m\u001b[0;34m,\u001b[0m \u001b[0mdecoded\u001b[0m\u001b[0;34m=\u001b[0m\u001b[0mdecoded\u001b[0m\u001b[0;34m,\u001b[0m \u001b[0;34m**\u001b[0m\u001b[0mformat_kwargs\u001b[0m\u001b[0;34m)\u001b[0m\u001b[0;34m\u001b[0m\u001b[0;34m\u001b[0m\u001b[0m\n\u001b[0;32m-> 2340\u001b[0;31m         \u001b[0mpa_subtable\u001b[0m \u001b[0;34m=\u001b[0m \u001b[0mquery_table\u001b[0m\u001b[0;34m(\u001b[0m\u001b[0mself\u001b[0m\u001b[0;34m.\u001b[0m\u001b[0m_data\u001b[0m\u001b[0;34m,\u001b[0m \u001b[0mkey\u001b[0m\u001b[0;34m,\u001b[0m \u001b[0mindices\u001b[0m\u001b[0;34m=\u001b[0m\u001b[0mself\u001b[0m\u001b[0;34m.\u001b[0m\u001b[0m_indices\u001b[0m \u001b[0;32mif\u001b[0m \u001b[0mself\u001b[0m\u001b[0;34m.\u001b[0m\u001b[0m_indices\u001b[0m \u001b[0;32mis\u001b[0m \u001b[0;32mnot\u001b[0m \u001b[0;32mNone\u001b[0m \u001b[0;32melse\u001b[0m \u001b[0;32mNone\u001b[0m\u001b[0;34m)\u001b[0m\u001b[0;34m\u001b[0m\u001b[0;34m\u001b[0m\u001b[0m\n\u001b[0m\u001b[1;32m   2341\u001b[0m         formatted_output = format_table(\n\u001b[1;32m   2342\u001b[0m             \u001b[0mpa_subtable\u001b[0m\u001b[0;34m,\u001b[0m \u001b[0mkey\u001b[0m\u001b[0;34m,\u001b[0m \u001b[0mformatter\u001b[0m\u001b[0;34m=\u001b[0m\u001b[0mformatter\u001b[0m\u001b[0;34m,\u001b[0m \u001b[0mformat_columns\u001b[0m\u001b[0;34m=\u001b[0m\u001b[0mformat_columns\u001b[0m\u001b[0;34m,\u001b[0m \u001b[0moutput_all_columns\u001b[0m\u001b[0;34m=\u001b[0m\u001b[0moutput_all_columns\u001b[0m\u001b[0;34m\u001b[0m\u001b[0;34m\u001b[0m\u001b[0m\n",
            "\u001b[0;32m/usr/local/lib/python3.8/dist-packages/datasets/formatting/formatting.py\u001b[0m in \u001b[0;36mquery_table\u001b[0;34m(table, key, indices)\u001b[0m\n\u001b[1;32m    458\u001b[0m         \u001b[0m_raise_bad_key_type\u001b[0m\u001b[0;34m(\u001b[0m\u001b[0mkey\u001b[0m\u001b[0;34m)\u001b[0m\u001b[0;34m\u001b[0m\u001b[0;34m\u001b[0m\u001b[0m\n\u001b[1;32m    459\u001b[0m     \u001b[0;32mif\u001b[0m \u001b[0misinstance\u001b[0m\u001b[0;34m(\u001b[0m\u001b[0mkey\u001b[0m\u001b[0;34m,\u001b[0m \u001b[0mstr\u001b[0m\u001b[0;34m)\u001b[0m\u001b[0;34m:\u001b[0m\u001b[0;34m\u001b[0m\u001b[0;34m\u001b[0m\u001b[0m\n\u001b[0;32m--> 460\u001b[0;31m         \u001b[0m_check_valid_column_key\u001b[0m\u001b[0;34m(\u001b[0m\u001b[0mkey\u001b[0m\u001b[0;34m,\u001b[0m \u001b[0mtable\u001b[0m\u001b[0;34m.\u001b[0m\u001b[0mcolumn_names\u001b[0m\u001b[0;34m)\u001b[0m\u001b[0;34m\u001b[0m\u001b[0;34m\u001b[0m\u001b[0m\n\u001b[0m\u001b[1;32m    461\u001b[0m     \u001b[0;32melse\u001b[0m\u001b[0;34m:\u001b[0m\u001b[0;34m\u001b[0m\u001b[0;34m\u001b[0m\u001b[0m\n\u001b[1;32m    462\u001b[0m         \u001b[0msize\u001b[0m \u001b[0;34m=\u001b[0m \u001b[0mindices\u001b[0m\u001b[0;34m.\u001b[0m\u001b[0mnum_rows\u001b[0m \u001b[0;32mif\u001b[0m \u001b[0mindices\u001b[0m \u001b[0;32mis\u001b[0m \u001b[0;32mnot\u001b[0m \u001b[0;32mNone\u001b[0m \u001b[0;32melse\u001b[0m \u001b[0mtable\u001b[0m\u001b[0;34m.\u001b[0m\u001b[0mnum_rows\u001b[0m\u001b[0;34m\u001b[0m\u001b[0;34m\u001b[0m\u001b[0m\n",
            "\u001b[0;32m/usr/local/lib/python3.8/dist-packages/datasets/formatting/formatting.py\u001b[0m in \u001b[0;36m_check_valid_column_key\u001b[0;34m(key, columns)\u001b[0m\n\u001b[1;32m    398\u001b[0m \u001b[0;32mdef\u001b[0m \u001b[0m_check_valid_column_key\u001b[0m\u001b[0;34m(\u001b[0m\u001b[0mkey\u001b[0m\u001b[0;34m:\u001b[0m \u001b[0mstr\u001b[0m\u001b[0;34m,\u001b[0m \u001b[0mcolumns\u001b[0m\u001b[0;34m:\u001b[0m \u001b[0mList\u001b[0m\u001b[0;34m[\u001b[0m\u001b[0mstr\u001b[0m\u001b[0;34m]\u001b[0m\u001b[0;34m)\u001b[0m \u001b[0;34m->\u001b[0m \u001b[0;32mNone\u001b[0m\u001b[0;34m:\u001b[0m\u001b[0;34m\u001b[0m\u001b[0;34m\u001b[0m\u001b[0m\n\u001b[1;32m    399\u001b[0m     \u001b[0;32mif\u001b[0m \u001b[0mkey\u001b[0m \u001b[0;32mnot\u001b[0m \u001b[0;32min\u001b[0m \u001b[0mcolumns\u001b[0m\u001b[0;34m:\u001b[0m\u001b[0;34m\u001b[0m\u001b[0;34m\u001b[0m\u001b[0m\n\u001b[0;32m--> 400\u001b[0;31m         \u001b[0;32mraise\u001b[0m \u001b[0mKeyError\u001b[0m\u001b[0;34m(\u001b[0m\u001b[0;34mf\"Column {key} not in the dataset. Current columns in the dataset: {columns}\"\u001b[0m\u001b[0;34m)\u001b[0m\u001b[0;34m\u001b[0m\u001b[0;34m\u001b[0m\u001b[0m\n\u001b[0m\u001b[1;32m    401\u001b[0m \u001b[0;34m\u001b[0m\u001b[0m\n\u001b[1;32m    402\u001b[0m \u001b[0;34m\u001b[0m\u001b[0m\n",
            "\u001b[0;31mKeyError\u001b[0m: \"Column train not in the dataset. Current columns in the dataset: ['img', 'habitat', 'month', 'substrate', 'labels', 'pixel_values']\""
          ]
        }
      ]
    },
    {
      "cell_type": "code",
      "source": [
        "id2label = {str(i): label for i, label in enumerate(img_class_labels)}\n",
        "label2id = {v: k for k, v in id2label.items()}\n",
        "\n",
        "num_train_epochs = 20\n",
        "train_batch_size = 32\n",
        "eval_batch_size = 32\n",
        "learning_rate = 3e-5\n",
        "#output_dir=model_id.split(\"/\")[1]"
      ],
      "metadata": {
        "id": "Rf1P472UuK8N"
      },
      "execution_count": null,
      "outputs": []
    },
    {
      "cell_type": "code",
      "source": [
        "id2label"
      ],
      "metadata": {
        "id": "Qt8iibUaweTc"
      },
      "execution_count": null,
      "outputs": []
    },
    {
      "cell_type": "markdown",
      "source": [
        "    from transformers import DefaultDataCollator\n",
        "\n",
        "    # Data collator that will dynamically pad the inputs received, as well as the labels.\n",
        "    data_collator = DefaultDataCollator(return_tensors=\"tf\")\n",
        "\n",
        "    # converting our train dataset to tf.data.Dataset\n",
        "    tf_train_dataset = data[\"train\"].to_tf_dataset(\n",
        "      columns=['pixel_values', 'month', 'substrate', 'habitat'],\n",
        "      label_cols=[\"labels\"],\n",
        "      shuffle=True,\n",
        "      batch_size=train_batch_size,\n",
        "      collate_fn=data_collator)\n",
        "\n",
        "    # converting our validation dataset to tf.data.Dataset\n",
        "    tf_val_dataset = data[\"test\"].to_tf_dataset(\n",
        "      columns=['pixel_values','month', 'substrate', 'habitat'],\n",
        "      label_cols=[\"labels\"],\n",
        "      shuffle=True,\n",
        "      batch_size=eval_batch_size,\n",
        "      collate_fn=data_collator)"
      ],
      "metadata": {
        "id": "IPe8O_129tpq"
      }
    },
    {
      "cell_type": "markdown",
      "source": [
        "## Loading baseline model"
      ],
      "metadata": {
        "id": "sLKuc975y2Ts"
      }
    },
    {
      "cell_type": "code",
      "source": [
        "# alternatively create Image Classification model using Keras Layer and ViTModel \n",
        "# here you can also add the processing layers of keras\n",
        "\n",
        "# import tensorflow as tf\n",
        "from transformers import TFViTModel\n",
        "\n",
        "base_model = TFViTModel.from_pretrained('google/vit-base-patch16-224-in21k')\n",
        "\n",
        "# inputs\n",
        "pixel_values = tf.keras.layers.Input(shape=(3,224,224), name='pixel_values', dtype='float32')\n",
        "data_augmentation = tf.keras.models.Sequential(\n",
        "    [\n",
        "        layers.RandomFlip(\"horizontal\"),\n",
        "        layers.RandomFlip(\"vertical\"),\n",
        "        layers.RandomRotation(factor=0.02),\n",
        "        layers.RandomZoom(\n",
        "            height_factor=0.2, width_factor=0.2),\n",
        "     \n",
        "    ],\n",
        "    name=\"data_augmentation\",\n",
        ")\n",
        "\n",
        "# # model layer\n",
        "vit = base_model.vit(data_augmentation(pixel_values))[0]\n",
        "\n",
        "\n",
        "classifier = tf.keras.layers.Dense(1, activation='sigmoid', name='outputs')(vit[:, 0, :])\n",
        "\n",
        "# # model\n",
        "keras_model = tf.keras.Model(inputs=[pixel_values], outputs=classifier)"
      ],
      "metadata": {
        "colab": {
          "base_uri": "https://localhost:8080/",
          "height": 653,
          "referenced_widgets": [
            "71a7fae144f5489c98f77ba93299dee7",
            "2bd70bdc48204594a1f8fb729ff9cc5e",
            "7402fc69cfeb4896b761f29af0fe5c76",
            "8ba55e9f595a48428d00ea06349bb9a7",
            "863a041980e648509a9d8b7b4cc7f22b",
            "197332356f2d4d7286e0a933d066e6e6",
            "13ce1cf092a84a1ba6ec55b82249f81a",
            "2a5a98a483bd48339eab317221546ea9",
            "6b2133bd72ab48acaaf4c8531a84def0",
            "40bac9a0b1b44359ba39b6173eb660dc",
            "c63b690f27c84333a6877812b53f005d",
            "0f00e331e7f0409fa7cdf0acb98e1c88",
            "690793183b524159b08fd4b4f65968e3",
            "019ac16ec86f4ebca13e4afbacf0b1f0",
            "63c8819c52764c12b7856bd73f8dfee8",
            "2aa539a88ea848f286cfe6fd28812ae1",
            "670734ea143a4a74bc446d5a07c5cb28",
            "8bac2d241e314c7eb80c7bcaff5fb7c5",
            "48565a900fdc464a9e1d71cb3ffdcf23",
            "b0b1cbbb9cbe4a65996ffb33fae6d459",
            "32dbb8ef782342c3b9f7cfa8b1c395e2",
            "71ec4a8ae7f24fbc931528f3fe838f18"
          ]
        },
        "id": "6UUimRGPEYgN",
        "outputId": "0b199189-0f93-4a71-934b-d3fc83f9a168"
      },
      "execution_count": null,
      "outputs": [
        {
          "output_type": "display_data",
          "data": {
            "text/plain": [
              "Downloading:   0%|          | 0.00/502 [00:00<?, ?B/s]"
            ],
            "application/vnd.jupyter.widget-view+json": {
              "version_major": 2,
              "version_minor": 0,
              "model_id": "71a7fae144f5489c98f77ba93299dee7"
            }
          },
          "metadata": {}
        },
        {
          "output_type": "display_data",
          "data": {
            "text/plain": [
              "Downloading:   0%|          | 0.00/346M [00:00<?, ?B/s]"
            ],
            "application/vnd.jupyter.widget-view+json": {
              "version_major": 2,
              "version_minor": 0,
              "model_id": "0f00e331e7f0409fa7cdf0acb98e1c88"
            }
          },
          "metadata": {}
        },
        {
          "output_type": "stream",
          "name": "stderr",
          "text": [
            "All model checkpoint layers were used when initializing TFViTModel.\n",
            "\n",
            "All the layers of TFViTModel were initialized from the model checkpoint at google/vit-base-patch16-224-in21k.\n",
            "If your task is similar to the task the model of the checkpoint was trained on, you can already use TFViTModel for predictions without further training.\n",
            "WARNING:tensorflow:Using a while_loop for converting RngReadAndSkip cause there is no registered converter for this op.\n",
            "WARNING:tensorflow:Using a while_loop for converting Bitcast cause there is no registered converter for this op.\n",
            "WARNING:tensorflow:Using a while_loop for converting Bitcast cause there is no registered converter for this op.\n",
            "WARNING:tensorflow:Using a while_loop for converting StatelessRandomUniformV2 cause there is no registered converter for this op.\n",
            "WARNING:tensorflow:Using a while_loop for converting ImageProjectiveTransformV3 cause there is no registered converter for this op.\n",
            "WARNING:tensorflow:Using a while_loop for converting RngReadAndSkip cause there is no registered converter for this op.\n",
            "WARNING:tensorflow:Using a while_loop for converting Bitcast cause there is no registered converter for this op.\n",
            "WARNING:tensorflow:Using a while_loop for converting Bitcast cause there is no registered converter for this op.\n",
            "WARNING:tensorflow:Using a while_loop for converting StatelessRandomUniformV2 cause there is no registered converter for this op.\n",
            "WARNING:tensorflow:Using a while_loop for converting RngReadAndSkip cause there is no registered converter for this op.\n",
            "WARNING:tensorflow:Using a while_loop for converting Bitcast cause there is no registered converter for this op.\n",
            "WARNING:tensorflow:Using a while_loop for converting Bitcast cause there is no registered converter for this op.\n",
            "WARNING:tensorflow:Using a while_loop for converting StatelessRandomUniformV2 cause there is no registered converter for this op.\n",
            "WARNING:tensorflow:Using a while_loop for converting ImageProjectiveTransformV3 cause there is no registered converter for this op.\n",
            "WARNING:tensorflow:Using a while_loop for converting RngReadAndSkip cause there is no registered converter for this op.\n",
            "WARNING:tensorflow:Using a while_loop for converting Bitcast cause there is no registered converter for this op.\n",
            "WARNING:tensorflow:Using a while_loop for converting Bitcast cause there is no registered converter for this op.\n",
            "WARNING:tensorflow:Using a while_loop for converting StatelessRandomUniformV2 cause there is no registered converter for this op.\n",
            "WARNING:tensorflow:Using a while_loop for converting ImageProjectiveTransformV3 cause there is no registered converter for this op.\n",
            "WARNING:tensorflow:Using a while_loop for converting RngReadAndSkip cause there is no registered converter for this op.\n",
            "WARNING:tensorflow:Using a while_loop for converting Bitcast cause there is no registered converter for this op.\n",
            "WARNING:tensorflow:Using a while_loop for converting Bitcast cause there is no registered converter for this op.\n",
            "WARNING:tensorflow:Using a while_loop for converting StatelessRandomUniformV2 cause there is no registered converter for this op.\n",
            "WARNING:tensorflow:Using a while_loop for converting RngReadAndSkip cause there is no registered converter for this op.\n",
            "WARNING:tensorflow:Using a while_loop for converting Bitcast cause there is no registered converter for this op.\n",
            "WARNING:tensorflow:Using a while_loop for converting Bitcast cause there is no registered converter for this op.\n",
            "WARNING:tensorflow:Using a while_loop for converting StatelessRandomUniformV2 cause there is no registered converter for this op.\n",
            "WARNING:tensorflow:Using a while_loop for converting ImageProjectiveTransformV3 cause there is no registered converter for this op.\n"
          ]
        }
      ]
    },
    {
      "cell_type": "code",
      "source": [
        "optimizer = optimizer=tf.keras.optimizers.Adam(learning_rate=5e-5)\n",
        "\n",
        "# define loss\n",
        "loss=tf.keras.losses.BinaryCrossentropy(from_logits=False)\n",
        "\n",
        "# define metrics \n",
        "metrics=[\n",
        "    tf.keras.metrics.BinaryAccuracy(name=\"accuracy\"), \n",
        "    tf.keras.metrics.TruePositives(name='tp'),\n",
        "    tf.keras.metrics.FalsePositives(name='fp'),\n",
        "    tf.keras.metrics.TrueNegatives(name='tn'),\n",
        "    tf.keras.metrics.FalseNegatives(name='fn'), \n",
        "    tf.keras.metrics.Precision(name='precision'),\n",
        "    tf.keras.metrics.Recall(name='recall'),\n",
        "    tf.keras.metrics.AUC(name='auc'),\n",
        "    tf.keras.metrics.AUC(name='prc', curve='PR'), # precision-recall curve\n",
        "\n",
        "]\n",
        "\n",
        "keras_model.compile(optimizer=optimizer,\n",
        "              loss=loss,\n",
        "              metrics=metrics\n",
        "              )"
      ],
      "metadata": {
        "id": "LVszR73XGGWl"
      },
      "execution_count": null,
      "outputs": []
    },
    {
      "cell_type": "code",
      "source": [
        "keras_model.summary()"
      ],
      "metadata": {
        "colab": {
          "base_uri": "https://localhost:8080/"
        },
        "id": "knwA20TBGUk1",
        "outputId": "2f485c14-c841-4bec-8623-4d45e14d09b0"
      },
      "execution_count": null,
      "outputs": [
        {
          "output_type": "stream",
          "name": "stdout",
          "text": [
            "Model: \"model\"\n",
            "_________________________________________________________________\n",
            " Layer (type)                Output Shape              Param #   \n",
            "=================================================================\n",
            " pixel_values (InputLayer)   [(None, 3, 224, 224)]     0         \n",
            "                                                                 \n",
            " data_augmentation (Sequenti  (None, 3, 224, 224)      0         \n",
            " al)                                                             \n",
            "                                                                 \n",
            " vit (TFViTMainLayer)        TFBaseModelOutputWithPoo  86389248  \n",
            "                             ling(last_hidden_state=(            \n",
            "                             None, 197, 768),                    \n",
            "                              pooler_output=(None, 76            \n",
            "                             8),                                 \n",
            "                              hidden_states=None, att            \n",
            "                             entions=None)                       \n",
            "                                                                 \n",
            " tf.__operators__.getitem (S  (None, 768)              0         \n",
            " licingOpLambda)                                                 \n",
            "                                                                 \n",
            " outputs (Dense)             (None, 1)                 769       \n",
            "                                                                 \n",
            "=================================================================\n",
            "Total params: 86,390,017\n",
            "Trainable params: 86,390,017\n",
            "Non-trainable params: 0\n",
            "_________________________________________________________________\n"
          ]
        }
      ]
    },
    {
      "cell_type": "code",
      "source": [
        "import os\n",
        "import transformers.keras_callbacks \n",
        "\n",
        "\n",
        "callbacks = [\n",
        "    tf.keras.callbacks.ModelCheckpoint(filepath='Xstr_corrmodel.{epoch:02d}-{val_loss:.2f}.h5'),\n",
        "    tf.keras.callbacks.TensorBoard(log_dir='./logs'),\n",
        "]"
      ],
      "metadata": {
        "id": "OFrlGFIYGgN1"
      },
      "execution_count": null,
      "outputs": []
    },
    {
      "cell_type": "code",
      "source": [
        "tf.debugging.set_log_device_placement(True)\n"
      ],
      "metadata": {
        "id": "SEGIhPYpmOjR"
      },
      "execution_count": null,
      "outputs": []
    },
    {
      "cell_type": "code",
      "source": [
        "test_results"
      ],
      "metadata": {
        "id": "w3UTgGPPDefz"
      },
      "execution_count": null,
      "outputs": []
    },
    {
      "cell_type": "markdown",
      "source": [
        "### Training each leaf of ensemble"
      ],
      "metadata": {
        "id": "gyL6AKBHC_RI"
      }
    },
    {
      "cell_type": "code",
      "source": [
        "Xstr.head()"
      ],
      "metadata": {
        "id": "VAr4josEDMx2",
        "colab": {
          "base_uri": "https://localhost:8080/",
          "height": 206
        },
        "outputId": "58bd93b7-9dd0-4de3-acb1-e8990e6dae86"
      },
      "execution_count": null,
      "outputs": [
        {
          "output_type": "execute_result",
          "data": {
            "text/plain": [
              "                  image_path  edibility  month Substrate  \\\n",
              "7837   2238530711-250153.JPG          0   11.0      soil   \n",
              "30358   2238344503-12385.JPG          1   10.0      soil   \n",
              "15126  2238564534-108870.JPG          1    9.0      soil   \n",
              "27573  2238145185-155612.JPG          0    6.0      soil   \n",
              "6803   2868472552-362798.JPG          0   10.0      soil   \n",
              "\n",
              "                                                 Habitat  \n",
              "7837   Mixed woodland (with coniferous and deciduous ...  \n",
              "30358  Mixed woodland (with coniferous and deciduous ...  \n",
              "15126                                 Deciduous woodland  \n",
              "27573                     coniferous woodland/plantation  \n",
              "6803                       Unmanaged coniferous woodland  "
            ],
            "text/html": [
              "\n",
              "  <div id=\"df-86cd4484-9bb8-45ac-89e2-db4be3a5c438\">\n",
              "    <div class=\"colab-df-container\">\n",
              "      <div>\n",
              "<style scoped>\n",
              "    .dataframe tbody tr th:only-of-type {\n",
              "        vertical-align: middle;\n",
              "    }\n",
              "\n",
              "    .dataframe tbody tr th {\n",
              "        vertical-align: top;\n",
              "    }\n",
              "\n",
              "    .dataframe thead th {\n",
              "        text-align: right;\n",
              "    }\n",
              "</style>\n",
              "<table border=\"1\" class=\"dataframe\">\n",
              "  <thead>\n",
              "    <tr style=\"text-align: right;\">\n",
              "      <th></th>\n",
              "      <th>image_path</th>\n",
              "      <th>edibility</th>\n",
              "      <th>month</th>\n",
              "      <th>Substrate</th>\n",
              "      <th>Habitat</th>\n",
              "    </tr>\n",
              "  </thead>\n",
              "  <tbody>\n",
              "    <tr>\n",
              "      <th>7837</th>\n",
              "      <td>2238530711-250153.JPG</td>\n",
              "      <td>0</td>\n",
              "      <td>11.0</td>\n",
              "      <td>soil</td>\n",
              "      <td>Mixed woodland (with coniferous and deciduous ...</td>\n",
              "    </tr>\n",
              "    <tr>\n",
              "      <th>30358</th>\n",
              "      <td>2238344503-12385.JPG</td>\n",
              "      <td>1</td>\n",
              "      <td>10.0</td>\n",
              "      <td>soil</td>\n",
              "      <td>Mixed woodland (with coniferous and deciduous ...</td>\n",
              "    </tr>\n",
              "    <tr>\n",
              "      <th>15126</th>\n",
              "      <td>2238564534-108870.JPG</td>\n",
              "      <td>1</td>\n",
              "      <td>9.0</td>\n",
              "      <td>soil</td>\n",
              "      <td>Deciduous woodland</td>\n",
              "    </tr>\n",
              "    <tr>\n",
              "      <th>27573</th>\n",
              "      <td>2238145185-155612.JPG</td>\n",
              "      <td>0</td>\n",
              "      <td>6.0</td>\n",
              "      <td>soil</td>\n",
              "      <td>coniferous woodland/plantation</td>\n",
              "    </tr>\n",
              "    <tr>\n",
              "      <th>6803</th>\n",
              "      <td>2868472552-362798.JPG</td>\n",
              "      <td>0</td>\n",
              "      <td>10.0</td>\n",
              "      <td>soil</td>\n",
              "      <td>Unmanaged coniferous woodland</td>\n",
              "    </tr>\n",
              "  </tbody>\n",
              "</table>\n",
              "</div>\n",
              "      <button class=\"colab-df-convert\" onclick=\"convertToInteractive('df-86cd4484-9bb8-45ac-89e2-db4be3a5c438')\"\n",
              "              title=\"Convert this dataframe to an interactive table.\"\n",
              "              style=\"display:none;\">\n",
              "        \n",
              "  <svg xmlns=\"http://www.w3.org/2000/svg\" height=\"24px\"viewBox=\"0 0 24 24\"\n",
              "       width=\"24px\">\n",
              "    <path d=\"M0 0h24v24H0V0z\" fill=\"none\"/>\n",
              "    <path d=\"M18.56 5.44l.94 2.06.94-2.06 2.06-.94-2.06-.94-.94-2.06-.94 2.06-2.06.94zm-11 1L8.5 8.5l.94-2.06 2.06-.94-2.06-.94L8.5 2.5l-.94 2.06-2.06.94zm10 10l.94 2.06.94-2.06 2.06-.94-2.06-.94-.94-2.06-.94 2.06-2.06.94z\"/><path d=\"M17.41 7.96l-1.37-1.37c-.4-.4-.92-.59-1.43-.59-.52 0-1.04.2-1.43.59L10.3 9.45l-7.72 7.72c-.78.78-.78 2.05 0 2.83L4 21.41c.39.39.9.59 1.41.59.51 0 1.02-.2 1.41-.59l7.78-7.78 2.81-2.81c.8-.78.8-2.07 0-2.86zM5.41 20L4 18.59l7.72-7.72 1.47 1.35L5.41 20z\"/>\n",
              "  </svg>\n",
              "      </button>\n",
              "      \n",
              "  <style>\n",
              "    .colab-df-container {\n",
              "      display:flex;\n",
              "      flex-wrap:wrap;\n",
              "      gap: 12px;\n",
              "    }\n",
              "\n",
              "    .colab-df-convert {\n",
              "      background-color: #E8F0FE;\n",
              "      border: none;\n",
              "      border-radius: 50%;\n",
              "      cursor: pointer;\n",
              "      display: none;\n",
              "      fill: #1967D2;\n",
              "      height: 32px;\n",
              "      padding: 0 0 0 0;\n",
              "      width: 32px;\n",
              "    }\n",
              "\n",
              "    .colab-df-convert:hover {\n",
              "      background-color: #E2EBFA;\n",
              "      box-shadow: 0px 1px 2px rgba(60, 64, 67, 0.3), 0px 1px 3px 1px rgba(60, 64, 67, 0.15);\n",
              "      fill: #174EA6;\n",
              "    }\n",
              "\n",
              "    [theme=dark] .colab-df-convert {\n",
              "      background-color: #3B4455;\n",
              "      fill: #D2E3FC;\n",
              "    }\n",
              "\n",
              "    [theme=dark] .colab-df-convert:hover {\n",
              "      background-color: #434B5C;\n",
              "      box-shadow: 0px 1px 3px 1px rgba(0, 0, 0, 0.15);\n",
              "      filter: drop-shadow(0px 1px 2px rgba(0, 0, 0, 0.3));\n",
              "      fill: #FFFFFF;\n",
              "    }\n",
              "  </style>\n",
              "\n",
              "      <script>\n",
              "        const buttonEl =\n",
              "          document.querySelector('#df-86cd4484-9bb8-45ac-89e2-db4be3a5c438 button.colab-df-convert');\n",
              "        buttonEl.style.display =\n",
              "          google.colab.kernel.accessAllowed ? 'block' : 'none';\n",
              "\n",
              "        async function convertToInteractive(key) {\n",
              "          const element = document.querySelector('#df-86cd4484-9bb8-45ac-89e2-db4be3a5c438');\n",
              "          const dataTable =\n",
              "            await google.colab.kernel.invokeFunction('convertToInteractive',\n",
              "                                                     [key], {});\n",
              "          if (!dataTable) return;\n",
              "\n",
              "          const docLinkHtml = 'Like what you see? Visit the ' +\n",
              "            '<a target=\"_blank\" href=https://colab.research.google.com/notebooks/data_table.ipynb>data table notebook</a>'\n",
              "            + ' to learn more about interactive tables.';\n",
              "          element.innerHTML = '';\n",
              "          dataTable['output_type'] = 'display_data';\n",
              "          await google.colab.output.renderOutput(dataTable, element);\n",
              "          const docLink = document.createElement('div');\n",
              "          docLink.innerHTML = docLinkHtml;\n",
              "          element.appendChild(docLink);\n",
              "        }\n",
              "      </script>\n",
              "    </div>\n",
              "  </div>\n",
              "  "
            ]
          },
          "metadata": {},
          "execution_count": 32
        }
      ]
    },
    {
      "cell_type": "code",
      "source": [],
      "metadata": {
        "id": "12UIadopLvrC"
      },
      "execution_count": null,
      "outputs": []
    },
    {
      "cell_type": "code",
      "source": [
        "keras_model.save('Xstr_baseline_model.06-0.60.h5')"
      ],
      "metadata": {
        "id": "RJePLr4LcAv6"
      },
      "execution_count": null,
      "outputs": []
    },
    {
      "cell_type": "code",
      "source": [
        "from transformers import DefaultDataCollator\n",
        "\n",
        "leaves = clf.apply(np.concatenate([Xtr, Xval], axis = 0))\n",
        "processed_dataset = datasets.load_from_disk(\"/content/drive/MyDrive/Github/ece539-metamushroom-project/data/processed_datasetXstr_corr\")\n",
        "\n",
        "for i in np.unique(leaves)[4:]: \n",
        "  index = np.where(leaves == i)[0]\n",
        "  sample = processed_dataset.select(index)\n",
        "\n",
        "  train_batch_size = 32\n",
        "  data_collator = DefaultDataCollator(return_tensors=\"tf\")\n",
        "\n",
        "  tf_leaf_dataset = sample.to_tf_dataset(\n",
        "    columns=['pixel_values'],\n",
        "    label_cols=[\"labels\"],\n",
        "    shuffle=True,\n",
        "    batch_size=train_batch_size,\n",
        "    collate_fn=data_collator)\n",
        "\n",
        "  keras_model.load_weights('Xstr_baseline_model.06-0.60.h5')\n",
        "\n",
        "  with tf.device('/GPU:0'):\n",
        "    training = keras_model.fit(tf_leaf_dataset, epochs = 5)\n",
        "\n",
        "  keras_model.save('metamodel_{0}.h5'.format(i))"
      ],
      "metadata": {
        "colab": {
          "base_uri": "https://localhost:8080/"
        },
        "id": "odSgVqBzAE-n",
        "outputId": "89ca1c18-29d4-41c2-d63c-b5569fce2cf0"
      },
      "execution_count": null,
      "outputs": [
        {
          "output_type": "stream",
          "name": "stdout",
          "text": [
            "Epoch 1/5\n"
          ]
        },
        {
          "output_type": "stream",
          "name": "stderr",
          "text": [
            "WARNING:tensorflow:Using a while_loop for converting RngReadAndSkip cause there is no registered converter for this op.\n",
            "WARNING:tensorflow:Using a while_loop for converting Bitcast cause there is no registered converter for this op.\n",
            "WARNING:tensorflow:Using a while_loop for converting Bitcast cause there is no registered converter for this op.\n",
            "WARNING:tensorflow:Using a while_loop for converting StatelessRandomUniformV2 cause there is no registered converter for this op.\n",
            "WARNING:tensorflow:Using a while_loop for converting ImageProjectiveTransformV3 cause there is no registered converter for this op.\n",
            "WARNING:tensorflow:Using a while_loop for converting RngReadAndSkip cause there is no registered converter for this op.\n",
            "WARNING:tensorflow:Using a while_loop for converting Bitcast cause there is no registered converter for this op.\n",
            "WARNING:tensorflow:Using a while_loop for converting Bitcast cause there is no registered converter for this op.\n",
            "WARNING:tensorflow:Using a while_loop for converting StatelessRandomUniformV2 cause there is no registered converter for this op.\n",
            "WARNING:tensorflow:Using a while_loop for converting RngReadAndSkip cause there is no registered converter for this op.\n",
            "WARNING:tensorflow:Using a while_loop for converting Bitcast cause there is no registered converter for this op.\n",
            "WARNING:tensorflow:Using a while_loop for converting Bitcast cause there is no registered converter for this op.\n",
            "WARNING:tensorflow:Using a while_loop for converting StatelessRandomUniformV2 cause there is no registered converter for this op.\n",
            "WARNING:tensorflow:Using a while_loop for converting ImageProjectiveTransformV3 cause there is no registered converter for this op.\n",
            "WARNING:tensorflow:Gradients do not exist for variables ['tf_vi_t_model/vit/pooler/dense/kernel:0', 'tf_vi_t_model/vit/pooler/dense/bias:0'] when minimizing the loss. If you're using `model.compile()`, did you forget to provide a `loss` argument?\n",
            "WARNING:tensorflow:Using a while_loop for converting RngReadAndSkip cause there is no registered converter for this op.\n",
            "WARNING:tensorflow:Using a while_loop for converting Bitcast cause there is no registered converter for this op.\n",
            "WARNING:tensorflow:Using a while_loop for converting Bitcast cause there is no registered converter for this op.\n",
            "WARNING:tensorflow:Using a while_loop for converting StatelessRandomUniformV2 cause there is no registered converter for this op.\n",
            "WARNING:tensorflow:Using a while_loop for converting ImageProjectiveTransformV3 cause there is no registered converter for this op.\n",
            "WARNING:tensorflow:Using a while_loop for converting RngReadAndSkip cause there is no registered converter for this op.\n",
            "WARNING:tensorflow:Using a while_loop for converting Bitcast cause there is no registered converter for this op.\n",
            "WARNING:tensorflow:Using a while_loop for converting Bitcast cause there is no registered converter for this op.\n",
            "WARNING:tensorflow:Using a while_loop for converting StatelessRandomUniformV2 cause there is no registered converter for this op.\n",
            "WARNING:tensorflow:Using a while_loop for converting RngReadAndSkip cause there is no registered converter for this op.\n",
            "WARNING:tensorflow:Using a while_loop for converting Bitcast cause there is no registered converter for this op.\n",
            "WARNING:tensorflow:Using a while_loop for converting Bitcast cause there is no registered converter for this op.\n",
            "WARNING:tensorflow:Using a while_loop for converting StatelessRandomUniformV2 cause there is no registered converter for this op.\n",
            "WARNING:tensorflow:Using a while_loop for converting ImageProjectiveTransformV3 cause there is no registered converter for this op.\n",
            "WARNING:tensorflow:Gradients do not exist for variables ['tf_vi_t_model/vit/pooler/dense/kernel:0', 'tf_vi_t_model/vit/pooler/dense/bias:0'] when minimizing the loss. If you're using `model.compile()`, did you forget to provide a `loss` argument?\n"
          ]
        },
        {
          "output_type": "stream",
          "name": "stdout",
          "text": [
            "2/2 [==============================] - 25s 91ms/step - loss: 0.1920 - accuracy: 0.9211 - tp: 10.0000 - fp: 1.0000 - tn: 25.0000 - fn: 2.0000 - precision: 0.9091 - recall: 0.8333 - auc: 0.9776 - prc: 0.9490\n",
            "Epoch 2/5\n",
            "2/2 [==============================] - 4s 412ms/step - loss: 0.0680 - accuracy: 1.0000 - tp: 12.0000 - fp: 0.0000e+00 - tn: 26.0000 - fn: 0.0000e+00 - precision: 1.0000 - recall: 1.0000 - auc: 1.0000 - prc: 1.0000\n",
            "Epoch 3/5\n",
            "2/2 [==============================] - 4s 274ms/step - loss: 0.0345 - accuracy: 1.0000 - tp: 12.0000 - fp: 0.0000e+00 - tn: 26.0000 - fn: 0.0000e+00 - precision: 1.0000 - recall: 1.0000 - auc: 1.0000 - prc: 1.0000\n",
            "Epoch 4/5\n",
            "2/2 [==============================] - 4s 436ms/step - loss: 0.0182 - accuracy: 1.0000 - tp: 12.0000 - fp: 0.0000e+00 - tn: 26.0000 - fn: 0.0000e+00 - precision: 1.0000 - recall: 1.0000 - auc: 1.0000 - prc: 1.0000\n",
            "Epoch 5/5\n",
            "2/2 [==============================] - 4s 403ms/step - loss: 0.0171 - accuracy: 1.0000 - tp: 12.0000 - fp: 0.0000e+00 - tn: 26.0000 - fn: 0.0000e+00 - precision: 1.0000 - recall: 1.0000 - auc: 1.0000 - prc: 1.0000\n",
            "Epoch 1/5\n",
            "8/8 [==============================] - 31s 4s/step - loss: 0.2319 - accuracy: 0.9322 - tp: 56.0000 - fp: 9.0000 - tn: 164.0000 - fn: 7.0000 - precision: 0.8615 - recall: 0.8889 - auc: 0.9488 - prc: 0.8900\n",
            "Epoch 2/5\n",
            "8/8 [==============================] - 22s 3s/step - loss: 0.0899 - accuracy: 0.9788 - tp: 60.0000 - fp: 2.0000 - tn: 171.0000 - fn: 3.0000 - precision: 0.9677 - recall: 0.9524 - auc: 0.9933 - prc: 0.9839\n",
            "Epoch 3/5\n",
            "8/8 [==============================] - 23s 3s/step - loss: 0.0396 - accuracy: 0.9958 - tp: 62.0000 - fp: 0.0000e+00 - tn: 173.0000 - fn: 1.0000 - precision: 1.0000 - recall: 0.9841 - auc: 1.0000 - prc: 1.0000\n",
            "Epoch 4/5\n",
            "8/8 [==============================] - 22s 3s/step - loss: 0.0222 - accuracy: 1.0000 - tp: 63.0000 - fp: 0.0000e+00 - tn: 173.0000 - fn: 0.0000e+00 - precision: 1.0000 - recall: 1.0000 - auc: 1.0000 - prc: 1.0000\n",
            "Epoch 5/5\n",
            "8/8 [==============================] - 22s 3s/step - loss: 0.0110 - accuracy: 1.0000 - tp: 63.0000 - fp: 0.0000e+00 - tn: 173.0000 - fn: 0.0000e+00 - precision: 1.0000 - recall: 1.0000 - auc: 1.0000 - prc: 1.0000\n",
            "Epoch 1/5\n",
            "2/2 [==============================] - 5s 2s/step - loss: 0.1445 - accuracy: 0.9667 - tp: 18.0000 - fp: 2.0000 - tn: 40.0000 - fn: 0.0000e+00 - precision: 0.9000 - recall: 1.0000 - auc: 0.9894 - prc: 0.9696\n",
            "Epoch 2/5\n",
            "2/2 [==============================] - 5s 2s/step - loss: 0.0931 - accuracy: 0.9833 - tp: 18.0000 - fp: 1.0000 - tn: 41.0000 - fn: 0.0000e+00 - precision: 0.9474 - recall: 1.0000 - auc: 0.9947 - prc: 0.9869\n",
            "Epoch 3/5\n",
            "2/2 [==============================] - 5s 2s/step - loss: 0.0568 - accuracy: 0.9833 - tp: 18.0000 - fp: 1.0000 - tn: 41.0000 - fn: 0.0000e+00 - precision: 0.9474 - recall: 1.0000 - auc: 1.0000 - prc: 1.0000\n",
            "Epoch 4/5\n",
            "2/2 [==============================] - 5s 2s/step - loss: 0.0369 - accuracy: 1.0000 - tp: 18.0000 - fp: 0.0000e+00 - tn: 42.0000 - fn: 0.0000e+00 - precision: 1.0000 - recall: 1.0000 - auc: 1.0000 - prc: 1.0000\n",
            "Epoch 5/5\n",
            "2/2 [==============================] - 5s 2s/step - loss: 0.0298 - accuracy: 1.0000 - tp: 18.0000 - fp: 0.0000e+00 - tn: 42.0000 - fn: 0.0000e+00 - precision: 1.0000 - recall: 1.0000 - auc: 1.0000 - prc: 1.0000\n",
            "Epoch 1/5\n",
            "2/2 [==============================] - 3s 248ms/step - loss: 0.2320 - accuracy: 0.9211 - tp: 10.0000 - fp: 1.0000 - tn: 25.0000 - fn: 2.0000 - precision: 0.9091 - recall: 0.8333 - auc: 0.9583 - prc: 0.9441\n",
            "Epoch 2/5\n",
            "2/2 [==============================] - 3s 320ms/step - loss: 0.1309 - accuracy: 0.9474 - tp: 11.0000 - fp: 1.0000 - tn: 25.0000 - fn: 1.0000 - precision: 0.9167 - recall: 0.9167 - auc: 0.9936 - prc: 0.9861\n",
            "Epoch 3/5\n",
            "2/2 [==============================] - 3s 270ms/step - loss: 0.0681 - accuracy: 1.0000 - tp: 12.0000 - fp: 0.0000e+00 - tn: 26.0000 - fn: 0.0000e+00 - precision: 1.0000 - recall: 1.0000 - auc: 1.0000 - prc: 1.0000\n",
            "Epoch 4/5\n",
            "2/2 [==============================] - 3s 224ms/step - loss: 0.0820 - accuracy: 0.9737 - tp: 12.0000 - fp: 1.0000 - tn: 25.0000 - fn: 0.0000e+00 - precision: 0.9231 - recall: 1.0000 - auc: 1.0000 - prc: 1.0000\n",
            "Epoch 5/5\n",
            "2/2 [==============================] - 3s 203ms/step - loss: 0.0325 - accuracy: 1.0000 - tp: 12.0000 - fp: 0.0000e+00 - tn: 26.0000 - fn: 0.0000e+00 - precision: 1.0000 - recall: 1.0000 - auc: 1.0000 - prc: 1.0000\n",
            "Epoch 1/5\n",
            "36/36 [==============================] - 259s 7s/step - loss: 0.2300 - accuracy: 0.9058 - tp: 216.0000 - fp: 46.0000 - tn: 823.0000 - fn: 62.0000 - precision: 0.8244 - recall: 0.7770 - auc: 0.9500 - prc: 0.8979\n",
            "Epoch 2/5\n",
            "36/36 [==============================] - 110s 3s/step - loss: 0.0894 - accuracy: 0.9756 - tp: 261.0000 - fp: 11.0000 - tn: 858.0000 - fn: 17.0000 - precision: 0.9596 - recall: 0.9388 - auc: 0.9923 - prc: 0.9840\n",
            "Epoch 3/5\n",
            "36/36 [==============================] - 111s 3s/step - loss: 0.0323 - accuracy: 0.9913 - tp: 271.0000 - fp: 3.0000 - tn: 866.0000 - fn: 7.0000 - precision: 0.9891 - recall: 0.9748 - auc: 0.9992 - prc: 0.9979\n",
            "Epoch 4/5\n",
            "36/36 [==============================] - 110s 3s/step - loss: 0.0140 - accuracy: 0.9991 - tp: 277.0000 - fp: 0.0000e+00 - tn: 869.0000 - fn: 1.0000 - precision: 1.0000 - recall: 0.9964 - auc: 1.0000 - prc: 0.9999\n",
            "Epoch 5/5\n",
            "36/36 [==============================] - 110s 3s/step - loss: 0.0157 - accuracy: 0.9974 - tp: 275.0000 - fp: 0.0000e+00 - tn: 869.0000 - fn: 3.0000 - precision: 1.0000 - recall: 0.9892 - auc: 0.9997 - prc: 0.9993\n",
            "Epoch 1/5\n",
            "2/2 [==============================] - 4s 872ms/step - loss: 0.1176 - accuracy: 0.9565 - tp: 10.0000 - fp: 2.0000 - tn: 34.0000 - fn: 0.0000e+00 - precision: 0.8333 - recall: 1.0000 - auc: 1.0000 - prc: 1.0000\n",
            "Epoch 2/5\n",
            "2/2 [==============================] - 4s 876ms/step - loss: 0.0883 - accuracy: 1.0000 - tp: 10.0000 - fp: 0.0000e+00 - tn: 36.0000 - fn: 0.0000e+00 - precision: 1.0000 - recall: 1.0000 - auc: 1.0000 - prc: 1.0000\n",
            "Epoch 3/5\n",
            "2/2 [==============================] - 4s 856ms/step - loss: 0.0436 - accuracy: 1.0000 - tp: 10.0000 - fp: 0.0000e+00 - tn: 36.0000 - fn: 0.0000e+00 - precision: 1.0000 - recall: 1.0000 - auc: 1.0000 - prc: 1.0000\n",
            "Epoch 4/5\n",
            "2/2 [==============================] - 4s 815ms/step - loss: 0.0260 - accuracy: 1.0000 - tp: 10.0000 - fp: 0.0000e+00 - tn: 36.0000 - fn: 0.0000e+00 - precision: 1.0000 - recall: 1.0000 - auc: 1.0000 - prc: 1.0000\n",
            "Epoch 5/5\n",
            "2/2 [==============================] - 4s 913ms/step - loss: 0.0148 - accuracy: 1.0000 - tp: 10.0000 - fp: 0.0000e+00 - tn: 36.0000 - fn: 0.0000e+00 - precision: 1.0000 - recall: 1.0000 - auc: 1.0000 - prc: 1.0000\n",
            "Epoch 1/5\n",
            "3/3 [==============================] - 7s 2s/step - loss: 0.2396 - accuracy: 0.9012 - tp: 14.0000 - fp: 3.0000 - tn: 59.0000 - fn: 5.0000 - precision: 0.8235 - recall: 0.7368 - auc: 0.9491 - prc: 0.8353\n",
            "Epoch 2/5\n",
            "3/3 [==============================] - 7s 2s/step - loss: 0.1079 - accuracy: 0.9630 - tp: 19.0000 - fp: 3.0000 - tn: 59.0000 - fn: 0.0000e+00 - precision: 0.8636 - recall: 1.0000 - auc: 0.9958 - prc: 0.9865\n",
            "Epoch 3/5\n",
            "3/3 [==============================] - 7s 2s/step - loss: 0.0883 - accuracy: 0.9630 - tp: 17.0000 - fp: 1.0000 - tn: 61.0000 - fn: 2.0000 - precision: 0.9444 - recall: 0.8947 - auc: 0.9953 - prc: 0.9869\n",
            "Epoch 4/5\n",
            "3/3 [==============================] - 7s 2s/step - loss: 0.0308 - accuracy: 1.0000 - tp: 19.0000 - fp: 0.0000e+00 - tn: 62.0000 - fn: 0.0000e+00 - precision: 1.0000 - recall: 1.0000 - auc: 1.0000 - prc: 1.0000\n",
            "Epoch 5/5\n",
            "3/3 [==============================] - 7s 2s/step - loss: 0.0249 - accuracy: 1.0000 - tp: 19.0000 - fp: 0.0000e+00 - tn: 62.0000 - fn: 0.0000e+00 - precision: 1.0000 - recall: 1.0000 - auc: 1.0000 - prc: 1.0000\n",
            "Epoch 1/5\n",
            "3/3 [==============================] - 7s 2s/step - loss: 0.1214 - accuracy: 0.9474 - tp: 15.0000 - fp: 4.0000 - tn: 57.0000 - fn: 0.0000e+00 - precision: 0.7895 - recall: 1.0000 - auc: 0.9962 - prc: 0.9835\n",
            "Epoch 2/5\n",
            "3/3 [==============================] - 6s 2s/step - loss: 0.0374 - accuracy: 1.0000 - tp: 15.0000 - fp: 0.0000e+00 - tn: 61.0000 - fn: 0.0000e+00 - precision: 1.0000 - recall: 1.0000 - auc: 1.0000 - prc: 1.0000\n",
            "Epoch 3/5\n",
            "3/3 [==============================] - 6s 2s/step - loss: 0.0652 - accuracy: 0.9868 - tp: 14.0000 - fp: 0.0000e+00 - tn: 61.0000 - fn: 1.0000 - precision: 1.0000 - recall: 0.9333 - auc: 0.9978 - prc: 0.9919\n",
            "Epoch 4/5\n",
            "3/3 [==============================] - 6s 2s/step - loss: 0.0195 - accuracy: 1.0000 - tp: 15.0000 - fp: 0.0000e+00 - tn: 61.0000 - fn: 0.0000e+00 - precision: 1.0000 - recall: 1.0000 - auc: 1.0000 - prc: 1.0000\n",
            "Epoch 5/5\n",
            "3/3 [==============================] - 6s 2s/step - loss: 0.0119 - accuracy: 1.0000 - tp: 15.0000 - fp: 0.0000e+00 - tn: 61.0000 - fn: 0.0000e+00 - precision: 1.0000 - recall: 1.0000 - auc: 1.0000 - prc: 1.0000\n",
            "Epoch 1/5\n",
            "1/1 [==============================] - 2s 2s/step - loss: 0.2173 - accuracy: 0.8421 - tp: 6.0000 - fp: 2.0000 - tn: 10.0000 - fn: 1.0000 - precision: 0.7500 - recall: 0.8571 - auc: 0.9762 - prc: 0.9663\n",
            "Epoch 2/5\n",
            "1/1 [==============================] - 2s 2s/step - loss: 0.1059 - accuracy: 1.0000 - tp: 7.0000 - fp: 0.0000e+00 - tn: 12.0000 - fn: 0.0000e+00 - precision: 1.0000 - recall: 1.0000 - auc: 1.0000 - prc: 1.0000\n",
            "Epoch 3/5\n",
            "1/1 [==============================] - 2s 2s/step - loss: 0.0688 - accuracy: 1.0000 - tp: 7.0000 - fp: 0.0000e+00 - tn: 12.0000 - fn: 0.0000e+00 - precision: 1.0000 - recall: 1.0000 - auc: 1.0000 - prc: 1.0000\n",
            "Epoch 4/5\n",
            "1/1 [==============================] - 2s 2s/step - loss: 0.0401 - accuracy: 1.0000 - tp: 7.0000 - fp: 0.0000e+00 - tn: 12.0000 - fn: 0.0000e+00 - precision: 1.0000 - recall: 1.0000 - auc: 1.0000 - prc: 1.0000\n",
            "Epoch 5/5\n",
            "1/1 [==============================] - 2s 2s/step - loss: 0.0435 - accuracy: 1.0000 - tp: 7.0000 - fp: 0.0000e+00 - tn: 12.0000 - fn: 0.0000e+00 - precision: 1.0000 - recall: 1.0000 - auc: 1.0000 - prc: 1.0000\n",
            "Epoch 1/5\n",
            "1/1 [==============================] - 3s 3s/step - loss: 0.0666 - accuracy: 1.0000 - tp: 5.0000 - fp: 0.0000e+00 - tn: 21.0000 - fn: 0.0000e+00 - precision: 1.0000 - recall: 1.0000 - auc: 1.0000 - prc: 1.0000\n",
            "Epoch 2/5\n",
            "1/1 [==============================] - 3s 3s/step - loss: 0.0690 - accuracy: 0.9615 - tp: 5.0000 - fp: 1.0000 - tn: 20.0000 - fn: 0.0000e+00 - precision: 0.8333 - recall: 1.0000 - auc: 1.0000 - prc: 1.0000\n",
            "Epoch 3/5\n",
            "1/1 [==============================] - 3s 3s/step - loss: 0.0228 - accuracy: 1.0000 - tp: 5.0000 - fp: 0.0000e+00 - tn: 21.0000 - fn: 0.0000e+00 - precision: 1.0000 - recall: 1.0000 - auc: 1.0000 - prc: 1.0000\n",
            "Epoch 4/5\n",
            "1/1 [==============================] - 3s 3s/step - loss: 0.0219 - accuracy: 1.0000 - tp: 5.0000 - fp: 0.0000e+00 - tn: 21.0000 - fn: 0.0000e+00 - precision: 1.0000 - recall: 1.0000 - auc: 1.0000 - prc: 1.0000\n",
            "Epoch 5/5\n",
            "1/1 [==============================] - 3s 3s/step - loss: 0.0214 - accuracy: 1.0000 - tp: 5.0000 - fp: 0.0000e+00 - tn: 21.0000 - fn: 0.0000e+00 - precision: 1.0000 - recall: 1.0000 - auc: 1.0000 - prc: 1.0000\n",
            "Epoch 1/5\n",
            "3/3 [==============================] - 7s 2s/step - loss: 0.2051 - accuracy: 0.9077 - tp: 10.0000 - fp: 5.0000 - tn: 49.0000 - fn: 1.0000 - precision: 0.6667 - recall: 0.9091 - auc: 0.9613 - prc: 0.7931\n",
            "Epoch 2/5\n",
            "3/3 [==============================] - 7s 2s/step - loss: 0.0720 - accuracy: 0.9846 - tp: 10.0000 - fp: 0.0000e+00 - tn: 54.0000 - fn: 1.0000 - precision: 1.0000 - recall: 0.9091 - auc: 1.0000 - prc: 1.0000\n",
            "Epoch 3/5\n",
            "3/3 [==============================] - 7s 1s/step - loss: 0.0739 - accuracy: 0.9846 - tp: 11.0000 - fp: 1.0000 - tn: 53.0000 - fn: 0.0000e+00 - precision: 0.9167 - recall: 1.0000 - auc: 0.9933 - prc: 0.9631\n",
            "Epoch 4/5\n",
            "3/3 [==============================] - 7s 2s/step - loss: 0.1284 - accuracy: 0.9538 - tp: 11.0000 - fp: 3.0000 - tn: 51.0000 - fn: 0.0000e+00 - precision: 0.7857 - recall: 1.0000 - auc: 0.9983 - prc: 0.9921\n",
            "Epoch 5/5\n",
            "3/3 [==============================] - 7s 2s/step - loss: 0.0742 - accuracy: 0.9846 - tp: 11.0000 - fp: 1.0000 - tn: 53.0000 - fn: 0.0000e+00 - precision: 0.9167 - recall: 1.0000 - auc: 1.0000 - prc: 1.0000\n",
            "Epoch 1/5\n",
            "2/2 [==============================] - 4s 1s/step - loss: 0.2290 - accuracy: 0.9231 - tp: 9.0000 - fp: 1.0000 - tn: 39.0000 - fn: 3.0000 - precision: 0.9000 - recall: 0.7500 - auc: 0.9385 - prc: 0.8890\n",
            "Epoch 2/5\n",
            "2/2 [==============================] - 4s 2s/step - loss: 0.1249 - accuracy: 0.9808 - tp: 11.0000 - fp: 0.0000e+00 - tn: 40.0000 - fn: 1.0000 - precision: 1.0000 - recall: 0.9167 - auc: 0.9854 - prc: 0.9685\n",
            "Epoch 3/5\n",
            "2/2 [==============================] - 4s 2s/step - loss: 0.0585 - accuracy: 1.0000 - tp: 12.0000 - fp: 0.0000e+00 - tn: 40.0000 - fn: 0.0000e+00 - precision: 1.0000 - recall: 1.0000 - auc: 1.0000 - prc: 1.0000\n",
            "Epoch 4/5\n",
            "2/2 [==============================] - 4s 1s/step - loss: 0.0465 - accuracy: 1.0000 - tp: 12.0000 - fp: 0.0000e+00 - tn: 40.0000 - fn: 0.0000e+00 - precision: 1.0000 - recall: 1.0000 - auc: 1.0000 - prc: 1.0000\n",
            "Epoch 5/5\n",
            "2/2 [==============================] - 4s 1s/step - loss: 0.0514 - accuracy: 0.9808 - tp: 11.0000 - fp: 0.0000e+00 - tn: 40.0000 - fn: 1.0000 - precision: 1.0000 - recall: 0.9167 - auc: 1.0000 - prc: 1.0000\n",
            "Epoch 1/5\n",
            "2/2 [==============================] - 4s 690ms/step - loss: 0.1074 - accuracy: 1.0000 - tp: 7.0000 - fp: 0.0000e+00 - tn: 36.0000 - fn: 0.0000e+00 - precision: 1.0000 - recall: 1.0000 - auc: 1.0000 - prc: 1.0000\n",
            "Epoch 2/5\n",
            "2/2 [==============================] - 4s 732ms/step - loss: 0.1083 - accuracy: 0.9535 - tp: 7.0000 - fp: 2.0000 - tn: 34.0000 - fn: 0.0000e+00 - precision: 0.7778 - recall: 1.0000 - auc: 1.0000 - prc: 1.0000\n",
            "Epoch 3/5\n",
            "2/2 [==============================] - 4s 760ms/step - loss: 0.0535 - accuracy: 1.0000 - tp: 7.0000 - fp: 0.0000e+00 - tn: 36.0000 - fn: 0.0000e+00 - precision: 1.0000 - recall: 1.0000 - auc: 1.0000 - prc: 1.0000\n",
            "Epoch 4/5\n",
            "2/2 [==============================] - 4s 592ms/step - loss: 0.0378 - accuracy: 1.0000 - tp: 7.0000 - fp: 0.0000e+00 - tn: 36.0000 - fn: 0.0000e+00 - precision: 1.0000 - recall: 1.0000 - auc: 1.0000 - prc: 1.0000\n",
            "Epoch 5/5\n",
            "2/2 [==============================] - 4s 651ms/step - loss: 0.0168 - accuracy: 1.0000 - tp: 7.0000 - fp: 0.0000e+00 - tn: 36.0000 - fn: 0.0000e+00 - precision: 1.0000 - recall: 1.0000 - auc: 1.0000 - prc: 1.0000\n",
            "Epoch 1/5\n",
            "1/1 [==============================] - 2s 2s/step - loss: 0.1662 - accuracy: 0.9444 - tp: 4.0000 - fp: 1.0000 - tn: 13.0000 - fn: 0.0000e+00 - precision: 0.8000 - recall: 1.0000 - auc: 0.9821 - prc: 0.9442\n",
            "Epoch 2/5\n",
            "1/1 [==============================] - 2s 2s/step - loss: 0.1817 - accuracy: 0.8889 - tp: 4.0000 - fp: 2.0000 - tn: 12.0000 - fn: 0.0000e+00 - precision: 0.6667 - recall: 1.0000 - auc: 1.0000 - prc: 1.0000\n",
            "Epoch 3/5\n",
            "1/1 [==============================] - 2s 2s/step - loss: 0.0786 - accuracy: 0.9444 - tp: 4.0000 - fp: 1.0000 - tn: 13.0000 - fn: 0.0000e+00 - precision: 0.8000 - recall: 1.0000 - auc: 1.0000 - prc: 1.0000\n",
            "Epoch 4/5\n",
            "1/1 [==============================] - 2s 2s/step - loss: 0.0551 - accuracy: 1.0000 - tp: 4.0000 - fp: 0.0000e+00 - tn: 14.0000 - fn: 0.0000e+00 - precision: 1.0000 - recall: 1.0000 - auc: 1.0000 - prc: 1.0000\n",
            "Epoch 5/5\n",
            "1/1 [==============================] - 2s 2s/step - loss: 0.0256 - accuracy: 1.0000 - tp: 4.0000 - fp: 0.0000e+00 - tn: 14.0000 - fn: 0.0000e+00 - precision: 1.0000 - recall: 1.0000 - auc: 1.0000 - prc: 1.0000\n",
            "Epoch 1/5\n",
            "1/1 [==============================] - 3s 3s/step - loss: 0.3396 - accuracy: 0.9333 - tp: 11.0000 - fp: 0.0000e+00 - tn: 17.0000 - fn: 2.0000 - precision: 1.0000 - recall: 0.8462 - auc: 0.9253 - prc: 0.9513\n",
            "Epoch 2/5\n",
            "1/1 [==============================] - 3s 3s/step - loss: 0.3916 - accuracy: 0.8667 - tp: 10.0000 - fp: 1.0000 - tn: 16.0000 - fn: 3.0000 - precision: 0.9091 - recall: 0.7692 - auc: 0.9095 - prc: 0.9246\n",
            "Epoch 3/5\n",
            "1/1 [==============================] - 3s 3s/step - loss: 0.3011 - accuracy: 0.9667 - tp: 12.0000 - fp: 0.0000e+00 - tn: 17.0000 - fn: 1.0000 - precision: 1.0000 - recall: 0.9231 - auc: 0.9457 - prc: 0.9624\n",
            "Epoch 4/5\n",
            "1/1 [==============================] - 3s 3s/step - loss: 0.2551 - accuracy: 0.9333 - tp: 11.0000 - fp: 0.0000e+00 - tn: 17.0000 - fn: 2.0000 - precision: 1.0000 - recall: 0.8462 - auc: 0.9502 - prc: 0.9597\n",
            "Epoch 5/5\n",
            "1/1 [==============================] - 3s 3s/step - loss: 0.1889 - accuracy: 0.9667 - tp: 12.0000 - fp: 0.0000e+00 - tn: 17.0000 - fn: 1.0000 - precision: 1.0000 - recall: 0.9231 - auc: 0.9774 - prc: 0.9781\n",
            "Epoch 1/5\n",
            "1/1 [==============================] - 2s 2s/step - loss: 0.2373 - accuracy: 0.8421 - tp: 2.0000 - fp: 2.0000 - tn: 14.0000 - fn: 1.0000 - precision: 0.5000 - recall: 0.6667 - auc: 0.9375 - prc: 0.8177\n",
            "Epoch 2/5\n",
            "1/1 [==============================] - 2s 2s/step - loss: 0.1729 - accuracy: 0.9474 - tp: 3.0000 - fp: 1.0000 - tn: 15.0000 - fn: 0.0000e+00 - precision: 0.7500 - recall: 1.0000 - auc: 1.0000 - prc: 1.0000\n",
            "Epoch 3/5\n",
            "1/1 [==============================] - 2s 2s/step - loss: 0.1145 - accuracy: 1.0000 - tp: 3.0000 - fp: 0.0000e+00 - tn: 16.0000 - fn: 0.0000e+00 - precision: 1.0000 - recall: 1.0000 - auc: 1.0000 - prc: 1.0000\n",
            "Epoch 4/5\n",
            "1/1 [==============================] - 2s 2s/step - loss: 0.0578 - accuracy: 1.0000 - tp: 3.0000 - fp: 0.0000e+00 - tn: 16.0000 - fn: 0.0000e+00 - precision: 1.0000 - recall: 1.0000 - auc: 1.0000 - prc: 1.0000\n",
            "Epoch 5/5\n",
            "1/1 [==============================] - 2s 2s/step - loss: 0.0430 - accuracy: 1.0000 - tp: 3.0000 - fp: 0.0000e+00 - tn: 16.0000 - fn: 0.0000e+00 - precision: 1.0000 - recall: 1.0000 - auc: 1.0000 - prc: 1.0000\n",
            "Epoch 1/5\n",
            "8/8 [==============================] - 32s 4s/step - loss: 0.1798 - accuracy: 0.9463 - tp: 46.0000 - fp: 5.0000 - tn: 183.0000 - fn: 8.0000 - precision: 0.9020 - recall: 0.8519 - auc: 0.9571 - prc: 0.9113\n",
            "Epoch 2/5\n",
            "8/8 [==============================] - 22s 3s/step - loss: 0.1262 - accuracy: 0.9628 - tp: 47.0000 - fp: 2.0000 - tn: 186.0000 - fn: 7.0000 - precision: 0.9592 - recall: 0.8704 - auc: 0.9875 - prc: 0.9479\n",
            "Epoch 3/5\n",
            "8/8 [==============================] - 23s 3s/step - loss: 0.0610 - accuracy: 0.9876 - tp: 51.0000 - fp: 0.0000e+00 - tn: 188.0000 - fn: 3.0000 - precision: 1.0000 - recall: 0.9444 - auc: 0.9994 - prc: 0.9980\n",
            "Epoch 4/5\n",
            "8/8 [==============================] - 23s 3s/step - loss: 0.0339 - accuracy: 0.9959 - tp: 54.0000 - fp: 1.0000 - tn: 187.0000 - fn: 0.0000e+00 - precision: 0.9818 - recall: 1.0000 - auc: 1.0000 - prc: 1.0000\n",
            "Epoch 5/5\n",
            "8/8 [==============================] - 22s 3s/step - loss: 0.0184 - accuracy: 1.0000 - tp: 54.0000 - fp: 0.0000e+00 - tn: 188.0000 - fn: 0.0000e+00 - precision: 1.0000 - recall: 1.0000 - auc: 1.0000 - prc: 1.0000\n",
            "Epoch 1/5\n",
            "1/1 [==============================] - 1s 1s/step - loss: 0.0353 - accuracy: 1.0000 - tp: 2.0000 - fp: 0.0000e+00 - tn: 12.0000 - fn: 0.0000e+00 - precision: 1.0000 - recall: 1.0000 - auc: 1.0000 - prc: 1.0000\n",
            "Epoch 2/5\n",
            "1/1 [==============================] - 1s 1s/step - loss: 0.0306 - accuracy: 1.0000 - tp: 2.0000 - fp: 0.0000e+00 - tn: 12.0000 - fn: 0.0000e+00 - precision: 1.0000 - recall: 1.0000 - auc: 1.0000 - prc: 1.0000\n",
            "Epoch 3/5\n",
            "1/1 [==============================] - 1s 1s/step - loss: 0.0239 - accuracy: 1.0000 - tp: 2.0000 - fp: 0.0000e+00 - tn: 12.0000 - fn: 0.0000e+00 - precision: 1.0000 - recall: 1.0000 - auc: 1.0000 - prc: 1.0000\n",
            "Epoch 4/5\n",
            "1/1 [==============================] - 1s 1s/step - loss: 0.0215 - accuracy: 1.0000 - tp: 2.0000 - fp: 0.0000e+00 - tn: 12.0000 - fn: 0.0000e+00 - precision: 1.0000 - recall: 1.0000 - auc: 1.0000 - prc: 1.0000\n",
            "Epoch 5/5\n",
            "1/1 [==============================] - 1s 1s/step - loss: 0.0257 - accuracy: 1.0000 - tp: 2.0000 - fp: 0.0000e+00 - tn: 12.0000 - fn: 0.0000e+00 - precision: 1.0000 - recall: 1.0000 - auc: 1.0000 - prc: 1.0000\n",
            "Epoch 1/5\n",
            "1/1 [==============================] - 1s 1s/step - loss: 0.1798 - accuracy: 0.9333 - tp: 4.0000 - fp: 1.0000 - tn: 10.0000 - fn: 0.0000e+00 - precision: 0.8000 - recall: 1.0000 - auc: 1.0000 - prc: 1.0000\n",
            "Epoch 2/5\n",
            "1/1 [==============================] - 1s 1s/step - loss: 0.1230 - accuracy: 1.0000 - tp: 4.0000 - fp: 0.0000e+00 - tn: 11.0000 - fn: 0.0000e+00 - precision: 1.0000 - recall: 1.0000 - auc: 1.0000 - prc: 1.0000\n",
            "Epoch 3/5\n",
            "1/1 [==============================] - 1s 1s/step - loss: 0.0824 - accuracy: 1.0000 - tp: 4.0000 - fp: 0.0000e+00 - tn: 11.0000 - fn: 0.0000e+00 - precision: 1.0000 - recall: 1.0000 - auc: 1.0000 - prc: 1.0000\n",
            "Epoch 4/5\n",
            "1/1 [==============================] - 1s 1s/step - loss: 0.0969 - accuracy: 1.0000 - tp: 4.0000 - fp: 0.0000e+00 - tn: 11.0000 - fn: 0.0000e+00 - precision: 1.0000 - recall: 1.0000 - auc: 1.0000 - prc: 1.0000\n",
            "Epoch 5/5\n",
            "1/1 [==============================] - 1s 1s/step - loss: 0.1220 - accuracy: 0.9333 - tp: 3.0000 - fp: 0.0000e+00 - tn: 11.0000 - fn: 1.0000 - precision: 1.0000 - recall: 0.7500 - auc: 1.0000 - prc: 1.0000\n",
            "Epoch 1/5\n",
            "4/4 [==============================] - 9s 2s/step - loss: 0.3295 - accuracy: 0.8889 - tp: 14.0000 - fp: 3.0000 - tn: 74.0000 - fn: 8.0000 - precision: 0.8235 - recall: 0.6364 - auc: 0.8890 - prc: 0.7826\n",
            "Epoch 2/5\n",
            "4/4 [==============================] - 9s 2s/step - loss: 0.1679 - accuracy: 0.9192 - tp: 17.0000 - fp: 3.0000 - tn: 74.0000 - fn: 5.0000 - precision: 0.8500 - recall: 0.7727 - auc: 0.9787 - prc: 0.9416\n",
            "Epoch 3/5\n",
            "4/4 [==============================] - 9s 2s/step - loss: 0.0804 - accuracy: 0.9798 - tp: 21.0000 - fp: 1.0000 - tn: 76.0000 - fn: 1.0000 - precision: 0.9545 - recall: 0.9545 - auc: 0.9982 - prc: 0.9944\n",
            "Epoch 4/5\n",
            "4/4 [==============================] - 9s 2s/step - loss: 0.0504 - accuracy: 1.0000 - tp: 22.0000 - fp: 0.0000e+00 - tn: 77.0000 - fn: 0.0000e+00 - precision: 1.0000 - recall: 1.0000 - auc: 1.0000 - prc: 1.0000\n",
            "Epoch 5/5\n",
            "4/4 [==============================] - 9s 2s/step - loss: 0.0268 - accuracy: 1.0000 - tp: 22.0000 - fp: 0.0000e+00 - tn: 77.0000 - fn: 0.0000e+00 - precision: 1.0000 - recall: 1.0000 - auc: 1.0000 - prc: 1.0000\n",
            "Epoch 1/5\n",
            "1/1 [==============================] - 1s 1s/step - loss: 0.1011 - accuracy: 0.9231 - tp: 4.0000 - fp: 1.0000 - tn: 8.0000 - fn: 0.0000e+00 - precision: 0.8000 - recall: 1.0000 - auc: 1.0000 - prc: 1.0000\n",
            "Epoch 2/5\n",
            "1/1 [==============================] - 1s 1s/step - loss: 0.0985 - accuracy: 0.9231 - tp: 4.0000 - fp: 1.0000 - tn: 8.0000 - fn: 0.0000e+00 - precision: 0.8000 - recall: 1.0000 - auc: 1.0000 - prc: 1.0000\n",
            "Epoch 3/5\n",
            "1/1 [==============================] - 1s 1s/step - loss: 0.0144 - accuracy: 1.0000 - tp: 4.0000 - fp: 0.0000e+00 - tn: 9.0000 - fn: 0.0000e+00 - precision: 1.0000 - recall: 1.0000 - auc: 1.0000 - prc: 1.0000\n",
            "Epoch 4/5\n",
            "1/1 [==============================] - 1s 1s/step - loss: 0.0151 - accuracy: 1.0000 - tp: 4.0000 - fp: 0.0000e+00 - tn: 9.0000 - fn: 0.0000e+00 - precision: 1.0000 - recall: 1.0000 - auc: 1.0000 - prc: 1.0000\n",
            "Epoch 5/5\n",
            "1/1 [==============================] - 1s 1s/step - loss: 0.0116 - accuracy: 1.0000 - tp: 4.0000 - fp: 0.0000e+00 - tn: 9.0000 - fn: 0.0000e+00 - precision: 1.0000 - recall: 1.0000 - auc: 1.0000 - prc: 1.0000\n",
            "Epoch 1/5\n",
            "5/5 [==============================] - 16s 3s/step - loss: 0.2050 - accuracy: 0.9073 - tp: 34.0000 - fp: 8.0000 - tn: 103.0000 - fn: 6.0000 - precision: 0.8095 - recall: 0.8500 - auc: 0.9698 - prc: 0.8862\n",
            "Epoch 2/5\n",
            "5/5 [==============================] - 14s 3s/step - loss: 0.1037 - accuracy: 0.9669 - tp: 38.0000 - fp: 3.0000 - tn: 108.0000 - fn: 2.0000 - precision: 0.9268 - recall: 0.9500 - auc: 0.9908 - prc: 0.9650\n",
            "Epoch 3/5\n",
            "5/5 [==============================] - 14s 3s/step - loss: 0.0754 - accuracy: 0.9801 - tp: 39.0000 - fp: 2.0000 - tn: 109.0000 - fn: 1.0000 - precision: 0.9512 - recall: 0.9750 - auc: 0.9947 - prc: 0.9795\n",
            "Epoch 4/5\n",
            "5/5 [==============================] - 14s 3s/step - loss: 0.0400 - accuracy: 0.9934 - tp: 40.0000 - fp: 1.0000 - tn: 110.0000 - fn: 0.0000e+00 - precision: 0.9756 - recall: 1.0000 - auc: 0.9995 - prc: 0.9987\n",
            "Epoch 5/5\n",
            "5/5 [==============================] - 14s 3s/step - loss: 0.0249 - accuracy: 1.0000 - tp: 40.0000 - fp: 0.0000e+00 - tn: 111.0000 - fn: 0.0000e+00 - precision: 1.0000 - recall: 1.0000 - auc: 1.0000 - prc: 1.0000\n",
            "Epoch 1/5\n",
            "6/6 [==============================] - 22s 4s/step - loss: 0.1757 - accuracy: 0.9375 - tp: 45.0000 - fp: 5.0000 - tn: 135.0000 - fn: 7.0000 - precision: 0.9000 - recall: 0.8654 - auc: 0.9733 - prc: 0.9487\n",
            "Epoch 2/5\n",
            "6/6 [==============================] - 17s 3s/step - loss: 0.0983 - accuracy: 0.9792 - tp: 48.0000 - fp: 0.0000e+00 - tn: 140.0000 - fn: 4.0000 - precision: 1.0000 - recall: 0.9231 - auc: 0.9827 - prc: 0.9839\n",
            "Epoch 3/5\n",
            "6/6 [==============================] - 17s 3s/step - loss: 0.0589 - accuracy: 0.9844 - tp: 50.0000 - fp: 1.0000 - tn: 139.0000 - fn: 2.0000 - precision: 0.9804 - recall: 0.9615 - auc: 0.9990 - prc: 0.9974\n",
            "Epoch 4/5\n",
            "6/6 [==============================] - 17s 3s/step - loss: 0.0339 - accuracy: 0.9948 - tp: 51.0000 - fp: 0.0000e+00 - tn: 140.0000 - fn: 1.0000 - precision: 1.0000 - recall: 0.9808 - auc: 1.0000 - prc: 1.0000\n",
            "Epoch 5/5\n",
            "6/6 [==============================] - 17s 3s/step - loss: 0.0188 - accuracy: 1.0000 - tp: 52.0000 - fp: 0.0000e+00 - tn: 140.0000 - fn: 0.0000e+00 - precision: 1.0000 - recall: 1.0000 - auc: 1.0000 - prc: 1.0000\n",
            "Epoch 1/5\n",
            "5/5 [==============================] - 17s 3s/step - loss: 0.2255 - accuracy: 0.9295 - tp: 28.0000 - fp: 6.0000 - tn: 117.0000 - fn: 5.0000 - precision: 0.8235 - recall: 0.8485 - auc: 0.9458 - prc: 0.8717\n",
            "Epoch 2/5\n",
            "5/5 [==============================] - 14s 3s/step - loss: 0.1116 - accuracy: 0.9679 - tp: 28.0000 - fp: 0.0000e+00 - tn: 123.0000 - fn: 5.0000 - precision: 1.0000 - recall: 0.8485 - auc: 0.9892 - prc: 0.9722\n",
            "Epoch 3/5\n",
            "5/5 [==============================] - 14s 3s/step - loss: 0.0498 - accuracy: 0.9936 - tp: 32.0000 - fp: 0.0000e+00 - tn: 123.0000 - fn: 1.0000 - precision: 1.0000 - recall: 0.9697 - auc: 1.0000 - prc: 1.0000\n",
            "Epoch 4/5\n",
            "5/5 [==============================] - 14s 3s/step - loss: 0.0340 - accuracy: 1.0000 - tp: 33.0000 - fp: 0.0000e+00 - tn: 123.0000 - fn: 0.0000e+00 - precision: 1.0000 - recall: 1.0000 - auc: 1.0000 - prc: 1.0000\n",
            "Epoch 5/5\n",
            "5/5 [==============================] - 14s 3s/step - loss: 0.0222 - accuracy: 1.0000 - tp: 33.0000 - fp: 0.0000e+00 - tn: 123.0000 - fn: 0.0000e+00 - precision: 1.0000 - recall: 1.0000 - auc: 1.0000 - prc: 1.0000\n",
            "Epoch 1/5\n",
            "2/2 [==============================] - 5s 2s/step - loss: 0.1641 - accuracy: 0.9464 - tp: 14.0000 - fp: 1.0000 - tn: 39.0000 - fn: 2.0000 - precision: 0.9333 - recall: 0.8750 - auc: 0.9789 - prc: 0.9650\n",
            "Epoch 2/5\n",
            "2/2 [==============================] - 5s 2s/step - loss: 0.0722 - accuracy: 0.9821 - tp: 15.0000 - fp: 0.0000e+00 - tn: 40.0000 - fn: 1.0000 - precision: 1.0000 - recall: 0.9375 - auc: 1.0000 - prc: 1.0000\n",
            "Epoch 3/5\n",
            "2/2 [==============================] - 5s 2s/step - loss: 0.0731 - accuracy: 0.9643 - tp: 14.0000 - fp: 0.0000e+00 - tn: 40.0000 - fn: 2.0000 - precision: 1.0000 - recall: 0.8750 - auc: 1.0000 - prc: 1.0000\n",
            "Epoch 4/5\n",
            "2/2 [==============================] - 5s 2s/step - loss: 0.0365 - accuracy: 1.0000 - tp: 16.0000 - fp: 0.0000e+00 - tn: 40.0000 - fn: 0.0000e+00 - precision: 1.0000 - recall: 1.0000 - auc: 1.0000 - prc: 1.0000\n",
            "Epoch 5/5\n",
            "2/2 [==============================] - 5s 2s/step - loss: 0.0223 - accuracy: 1.0000 - tp: 16.0000 - fp: 0.0000e+00 - tn: 40.0000 - fn: 0.0000e+00 - precision: 1.0000 - recall: 1.0000 - auc: 1.0000 - prc: 1.0000\n",
            "Epoch 1/5\n",
            "3/3 [==============================] - 7s 2s/step - loss: 0.3200 - accuracy: 0.9067 - tp: 20.0000 - fp: 3.0000 - tn: 48.0000 - fn: 4.0000 - precision: 0.8696 - recall: 0.8333 - auc: 0.9350 - prc: 0.8691\n",
            "Epoch 2/5\n",
            "3/3 [==============================] - 7s 2s/step - loss: 0.1703 - accuracy: 0.9600 - tp: 22.0000 - fp: 1.0000 - tn: 50.0000 - fn: 2.0000 - precision: 0.9565 - recall: 0.9167 - auc: 0.9783 - prc: 0.9312\n",
            "Epoch 3/5\n",
            "3/3 [==============================] - 7s 2s/step - loss: 0.1214 - accuracy: 0.9733 - tp: 23.0000 - fp: 1.0000 - tn: 50.0000 - fn: 1.0000 - precision: 0.9583 - recall: 0.9583 - auc: 0.9869 - prc: 0.9603\n",
            "Epoch 4/5\n",
            "3/3 [==============================] - 7s 2s/step - loss: 0.1070 - accuracy: 0.9867 - tp: 24.0000 - fp: 1.0000 - tn: 50.0000 - fn: 0.0000e+00 - precision: 0.9600 - recall: 1.0000 - auc: 0.9877 - prc: 0.9616\n",
            "Epoch 5/5\n",
            "3/3 [==============================] - 7s 2s/step - loss: 0.0655 - accuracy: 0.9867 - tp: 24.0000 - fp: 1.0000 - tn: 50.0000 - fn: 0.0000e+00 - precision: 0.9600 - recall: 1.0000 - auc: 1.0000 - prc: 1.0000\n",
            "Epoch 1/5\n",
            "1/1 [==============================] - 1s 1s/step - loss: 0.5799 - accuracy: 0.8000 - tp: 1.0000 - fp: 1.0000 - tn: 11.0000 - fn: 2.0000 - precision: 0.5000 - recall: 0.3333 - auc: 0.6528 - prc: 0.3644\n",
            "Epoch 2/5\n",
            "1/1 [==============================] - 1s 1s/step - loss: 0.4580 - accuracy: 0.9333 - tp: 2.0000 - fp: 0.0000e+00 - tn: 12.0000 - fn: 1.0000 - precision: 1.0000 - recall: 0.6667 - auc: 0.7361 - prc: 0.7360\n",
            "Epoch 3/5\n",
            "1/1 [==============================] - 1s 1s/step - loss: 0.2947 - accuracy: 0.9333 - tp: 2.0000 - fp: 0.0000e+00 - tn: 12.0000 - fn: 1.0000 - precision: 1.0000 - recall: 0.6667 - auc: 0.8750 - prc: 0.7854\n",
            "Epoch 4/5\n",
            "1/1 [==============================] - 1s 1s/step - loss: 0.1724 - accuracy: 0.9333 - tp: 2.0000 - fp: 0.0000e+00 - tn: 12.0000 - fn: 1.0000 - precision: 1.0000 - recall: 0.6667 - auc: 0.9722 - prc: 0.9041\n",
            "Epoch 5/5\n",
            "1/1 [==============================] - 1s 1s/step - loss: 0.1321 - accuracy: 0.9333 - tp: 2.0000 - fp: 0.0000e+00 - tn: 12.0000 - fn: 1.0000 - precision: 1.0000 - recall: 0.6667 - auc: 1.0000 - prc: 1.0000\n",
            "Epoch 1/5\n",
            "2/2 [==============================] - 5s 1s/step - loss: 0.1255 - accuracy: 0.9600 - tp: 9.0000 - fp: 2.0000 - tn: 39.0000 - fn: 0.0000e+00 - precision: 0.8182 - recall: 1.0000 - auc: 1.0000 - prc: 1.0000\n",
            "Epoch 2/5\n",
            "2/2 [==============================] - 5s 1s/step - loss: 0.0977 - accuracy: 0.9800 - tp: 9.0000 - fp: 1.0000 - tn: 40.0000 - fn: 0.0000e+00 - precision: 0.9000 - recall: 1.0000 - auc: 1.0000 - prc: 1.0000\n",
            "Epoch 3/5\n",
            "2/2 [==============================] - 5s 1s/step - loss: 0.0389 - accuracy: 1.0000 - tp: 9.0000 - fp: 0.0000e+00 - tn: 41.0000 - fn: 0.0000e+00 - precision: 1.0000 - recall: 1.0000 - auc: 1.0000 - prc: 1.0000\n",
            "Epoch 4/5\n",
            "2/2 [==============================] - 5s 2s/step - loss: 0.0338 - accuracy: 1.0000 - tp: 9.0000 - fp: 0.0000e+00 - tn: 41.0000 - fn: 0.0000e+00 - precision: 1.0000 - recall: 1.0000 - auc: 1.0000 - prc: 1.0000\n",
            "Epoch 5/5\n",
            "2/2 [==============================] - 5s 2s/step - loss: 0.0330 - accuracy: 1.0000 - tp: 9.0000 - fp: 0.0000e+00 - tn: 41.0000 - fn: 0.0000e+00 - precision: 1.0000 - recall: 1.0000 - auc: 1.0000 - prc: 1.0000\n",
            "Epoch 1/5\n",
            "1/1 [==============================] - 2s 2s/step - loss: 0.0943 - accuracy: 1.0000 - tp: 2.0000 - fp: 0.0000e+00 - tn: 14.0000 - fn: 0.0000e+00 - precision: 1.0000 - recall: 1.0000 - auc: 1.0000 - prc: 1.0000\n",
            "Epoch 2/5\n",
            "1/1 [==============================] - 2s 2s/step - loss: 0.0616 - accuracy: 1.0000 - tp: 2.0000 - fp: 0.0000e+00 - tn: 14.0000 - fn: 0.0000e+00 - precision: 1.0000 - recall: 1.0000 - auc: 1.0000 - prc: 1.0000\n",
            "Epoch 3/5\n",
            "1/1 [==============================] - 2s 2s/step - loss: 0.0474 - accuracy: 1.0000 - tp: 2.0000 - fp: 0.0000e+00 - tn: 14.0000 - fn: 0.0000e+00 - precision: 1.0000 - recall: 1.0000 - auc: 1.0000 - prc: 1.0000\n",
            "Epoch 4/5\n",
            "1/1 [==============================] - 2s 2s/step - loss: 0.0427 - accuracy: 1.0000 - tp: 2.0000 - fp: 0.0000e+00 - tn: 14.0000 - fn: 0.0000e+00 - precision: 1.0000 - recall: 1.0000 - auc: 1.0000 - prc: 1.0000\n",
            "Epoch 5/5\n",
            "1/1 [==============================] - 2s 2s/step - loss: 0.0231 - accuracy: 1.0000 - tp: 2.0000 - fp: 0.0000e+00 - tn: 14.0000 - fn: 0.0000e+00 - precision: 1.0000 - recall: 1.0000 - auc: 1.0000 - prc: 1.0000\n",
            "Epoch 1/5\n",
            "7/7 [==============================] - 28s 4s/step - loss: 0.2447 - accuracy: 0.9144 - tp: 46.0000 - fp: 5.0000 - tn: 157.0000 - fn: 14.0000 - precision: 0.9020 - recall: 0.7667 - auc: 0.9513 - prc: 0.9077\n",
            "Epoch 2/5\n",
            "7/7 [==============================] - 22s 3s/step - loss: 0.1099 - accuracy: 0.9595 - tp: 54.0000 - fp: 3.0000 - tn: 159.0000 - fn: 6.0000 - precision: 0.9474 - recall: 0.9000 - auc: 0.9902 - prc: 0.9798\n",
            "Epoch 3/5\n",
            "7/7 [==============================] - 21s 3s/step - loss: 0.0477 - accuracy: 0.9955 - tp: 59.0000 - fp: 0.0000e+00 - tn: 162.0000 - fn: 1.0000 - precision: 1.0000 - recall: 0.9833 - auc: 0.9991 - prc: 0.9978\n",
            "Epoch 4/5\n",
            "7/7 [==============================] - 21s 3s/step - loss: 0.0271 - accuracy: 1.0000 - tp: 60.0000 - fp: 0.0000e+00 - tn: 162.0000 - fn: 0.0000e+00 - precision: 1.0000 - recall: 1.0000 - auc: 1.0000 - prc: 1.0000\n",
            "Epoch 5/5\n",
            "7/7 [==============================] - 21s 3s/step - loss: 0.0264 - accuracy: 0.9955 - tp: 59.0000 - fp: 0.0000e+00 - tn: 162.0000 - fn: 1.0000 - precision: 1.0000 - recall: 0.9833 - auc: 1.0000 - prc: 1.0000\n",
            "Epoch 1/5\n",
            "2/2 [==============================] - 4s 87ms/step - loss: 0.1520 - accuracy: 0.9730 - tp: 6.0000 - fp: 1.0000 - tn: 30.0000 - fn: 0.0000e+00 - precision: 0.8571 - recall: 1.0000 - auc: 0.9785 - prc: 0.8588\n",
            "Epoch 2/5\n",
            "2/2 [==============================] - 4s 198ms/step - loss: 0.1799 - accuracy: 0.9189 - tp: 5.0000 - fp: 2.0000 - tn: 29.0000 - fn: 1.0000 - precision: 0.7143 - recall: 0.8333 - auc: 0.9677 - prc: 0.8622\n",
            "Epoch 3/5\n",
            "2/2 [==============================] - 4s 77ms/step - loss: 0.0874 - accuracy: 0.9730 - tp: 6.0000 - fp: 1.0000 - tn: 30.0000 - fn: 0.0000e+00 - precision: 0.8571 - recall: 1.0000 - auc: 1.0000 - prc: 1.0000\n",
            "Epoch 4/5\n",
            "2/2 [==============================] - 4s 308ms/step - loss: 0.0683 - accuracy: 0.9730 - tp: 5.0000 - fp: 0.0000e+00 - tn: 31.0000 - fn: 1.0000 - precision: 1.0000 - recall: 0.8333 - auc: 0.9946 - prc: 0.9743\n",
            "Epoch 5/5\n",
            "2/2 [==============================] - 4s 82ms/step - loss: 0.0291 - accuracy: 1.0000 - tp: 6.0000 - fp: 0.0000e+00 - tn: 31.0000 - fn: 0.0000e+00 - precision: 1.0000 - recall: 1.0000 - auc: 1.0000 - prc: 1.0000\n",
            "Epoch 1/5\n",
            "2/2 [==============================] - 5s 2s/step - loss: 0.2189 - accuracy: 0.9138 - tp: 19.0000 - fp: 3.0000 - tn: 34.0000 - fn: 2.0000 - precision: 0.8636 - recall: 0.9048 - auc: 0.9743 - prc: 0.9623\n",
            "Epoch 2/5\n",
            "2/2 [==============================] - 5s 2s/step - loss: 0.1660 - accuracy: 0.9310 - tp: 18.0000 - fp: 1.0000 - tn: 36.0000 - fn: 3.0000 - precision: 0.9474 - recall: 0.8571 - auc: 0.9884 - prc: 0.9795\n",
            "Epoch 3/5\n",
            "2/2 [==============================] - 5s 2s/step - loss: 0.0857 - accuracy: 0.9828 - tp: 21.0000 - fp: 1.0000 - tn: 36.0000 - fn: 0.0000e+00 - precision: 0.9545 - recall: 1.0000 - auc: 1.0000 - prc: 1.0000\n",
            "Epoch 4/5\n",
            "2/2 [==============================] - 5s 2s/step - loss: 0.0560 - accuracy: 1.0000 - tp: 21.0000 - fp: 0.0000e+00 - tn: 37.0000 - fn: 0.0000e+00 - precision: 1.0000 - recall: 1.0000 - auc: 1.0000 - prc: 1.0000\n",
            "Epoch 5/5\n",
            "2/2 [==============================] - 5s 2s/step - loss: 0.0362 - accuracy: 1.0000 - tp: 21.0000 - fp: 0.0000e+00 - tn: 37.0000 - fn: 0.0000e+00 - precision: 1.0000 - recall: 1.0000 - auc: 1.0000 - prc: 1.0000\n",
            "Epoch 1/5\n",
            "1/1 [==============================] - 1s 1s/step - loss: 0.4622 - accuracy: 0.8333 - tp: 3.0000 - fp: 1.0000 - tn: 7.0000 - fn: 1.0000 - precision: 0.7500 - recall: 0.7500 - auc: 0.8281 - prc: 0.8471\n",
            "Epoch 2/5\n",
            "1/1 [==============================] - 1s 1s/step - loss: 0.4060 - accuracy: 0.8333 - tp: 3.0000 - fp: 1.0000 - tn: 7.0000 - fn: 1.0000 - precision: 0.7500 - recall: 0.7500 - auc: 0.9062 - prc: 0.8844\n",
            "Epoch 3/5\n",
            "1/1 [==============================] - 1s 1s/step - loss: 0.1836 - accuracy: 0.9167 - tp: 3.0000 - fp: 0.0000e+00 - tn: 8.0000 - fn: 1.0000 - precision: 1.0000 - recall: 0.7500 - auc: 1.0000 - prc: 1.0000\n",
            "Epoch 4/5\n",
            "1/1 [==============================] - 1s 1s/step - loss: 0.1391 - accuracy: 0.9167 - tp: 3.0000 - fp: 0.0000e+00 - tn: 8.0000 - fn: 1.0000 - precision: 1.0000 - recall: 0.7500 - auc: 1.0000 - prc: 1.0000\n",
            "Epoch 5/5\n",
            "1/1 [==============================] - 1s 1s/step - loss: 0.0359 - accuracy: 1.0000 - tp: 4.0000 - fp: 0.0000e+00 - tn: 8.0000 - fn: 0.0000e+00 - precision: 1.0000 - recall: 1.0000 - auc: 1.0000 - prc: 1.0000\n",
            "Epoch 1/5\n",
            "1/1 [==============================] - 2s 2s/step - loss: 0.2178 - accuracy: 0.8333 - tp: 6.0000 - fp: 1.0000 - tn: 9.0000 - fn: 2.0000 - precision: 0.8571 - recall: 0.7500 - auc: 0.9750 - prc: 0.9686\n",
            "Epoch 2/5\n",
            "1/1 [==============================] - 2s 2s/step - loss: 0.1118 - accuracy: 1.0000 - tp: 8.0000 - fp: 0.0000e+00 - tn: 10.0000 - fn: 0.0000e+00 - precision: 1.0000 - recall: 1.0000 - auc: 1.0000 - prc: 1.0000\n",
            "Epoch 3/5\n",
            "1/1 [==============================] - 2s 2s/step - loss: 0.0545 - accuracy: 1.0000 - tp: 8.0000 - fp: 0.0000e+00 - tn: 10.0000 - fn: 0.0000e+00 - precision: 1.0000 - recall: 1.0000 - auc: 1.0000 - prc: 1.0000\n",
            "Epoch 4/5\n",
            "1/1 [==============================] - 2s 2s/step - loss: 0.0454 - accuracy: 1.0000 - tp: 8.0000 - fp: 0.0000e+00 - tn: 10.0000 - fn: 0.0000e+00 - precision: 1.0000 - recall: 1.0000 - auc: 1.0000 - prc: 1.0000\n",
            "Epoch 5/5\n",
            "1/1 [==============================] - 2s 2s/step - loss: 0.0628 - accuracy: 1.0000 - tp: 8.0000 - fp: 0.0000e+00 - tn: 10.0000 - fn: 0.0000e+00 - precision: 1.0000 - recall: 1.0000 - auc: 1.0000 - prc: 1.0000\n",
            "Epoch 1/5\n",
            "4/4 [==============================] - 11s 3s/step - loss: 0.1208 - accuracy: 0.9633 - tp: 26.0000 - fp: 3.0000 - tn: 79.0000 - fn: 1.0000 - precision: 0.8966 - recall: 0.9630 - auc: 0.9898 - prc: 0.9799\n",
            "Epoch 2/5\n",
            "4/4 [==============================] - 10s 2s/step - loss: 0.1063 - accuracy: 0.9725 - tp: 24.0000 - fp: 0.0000e+00 - tn: 82.0000 - fn: 3.0000 - precision: 1.0000 - recall: 0.8889 - auc: 0.9858 - prc: 0.9714\n",
            "Epoch 3/5\n",
            "4/4 [==============================] - 10s 2s/step - loss: 0.0733 - accuracy: 0.9725 - tp: 25.0000 - fp: 1.0000 - tn: 81.0000 - fn: 2.0000 - precision: 0.9615 - recall: 0.9259 - auc: 0.9964 - prc: 0.9881\n",
            "Epoch 4/5\n",
            "4/4 [==============================] - 10s 2s/step - loss: 0.0449 - accuracy: 0.9908 - tp: 26.0000 - fp: 0.0000e+00 - tn: 82.0000 - fn: 1.0000 - precision: 1.0000 - recall: 0.9630 - auc: 0.9993 - prc: 0.9980\n",
            "Epoch 5/5\n",
            "4/4 [==============================] - 10s 2s/step - loss: 0.0339 - accuracy: 0.9908 - tp: 26.0000 - fp: 0.0000e+00 - tn: 82.0000 - fn: 1.0000 - precision: 1.0000 - recall: 0.9630 - auc: 0.9995 - prc: 0.9987\n",
            "Epoch 1/5\n",
            "6/6 [==============================] - 20s 3s/step - loss: 0.1704 - accuracy: 0.9329 - tp: 31.0000 - fp: 7.0000 - tn: 122.0000 - fn: 4.0000 - precision: 0.8158 - recall: 0.8857 - auc: 0.9698 - prc: 0.9322\n",
            "Epoch 2/5\n",
            "6/6 [==============================] - 17s 3s/step - loss: 0.0677 - accuracy: 0.9878 - tp: 33.0000 - fp: 0.0000e+00 - tn: 129.0000 - fn: 2.0000 - precision: 1.0000 - recall: 0.9429 - auc: 0.9963 - prc: 0.9903\n",
            "Epoch 3/5\n",
            "6/6 [==============================] - 17s 3s/step - loss: 0.0657 - accuracy: 0.9817 - tp: 32.0000 - fp: 0.0000e+00 - tn: 129.0000 - fn: 3.0000 - precision: 1.0000 - recall: 0.9143 - auc: 0.9967 - prc: 0.9909\n",
            "Epoch 4/5\n",
            "6/6 [==============================] - 17s 3s/step - loss: 0.0381 - accuracy: 0.9878 - tp: 33.0000 - fp: 0.0000e+00 - tn: 129.0000 - fn: 2.0000 - precision: 1.0000 - recall: 0.9429 - auc: 1.0000 - prc: 1.0000\n",
            "Epoch 5/5\n",
            "6/6 [==============================] - 17s 3s/step - loss: 0.0291 - accuracy: 0.9878 - tp: 33.0000 - fp: 0.0000e+00 - tn: 129.0000 - fn: 2.0000 - precision: 1.0000 - recall: 0.9429 - auc: 1.0000 - prc: 1.0000\n",
            "Epoch 1/5\n",
            "1/1 [==============================] - 1s 1s/step - loss: 0.3834 - accuracy: 0.8333 - tp: 5.0000 - fp: 0.0000e+00 - tn: 5.0000 - fn: 2.0000 - precision: 1.0000 - recall: 0.7143 - auc: 0.9714 - prc: 0.9809\n",
            "Epoch 2/5\n",
            "1/1 [==============================] - 1s 1s/step - loss: 0.2414 - accuracy: 0.9167 - tp: 6.0000 - fp: 0.0000e+00 - tn: 5.0000 - fn: 1.0000 - precision: 1.0000 - recall: 0.8571 - auc: 1.0000 - prc: 1.0000\n",
            "Epoch 3/5\n",
            "1/1 [==============================] - 1s 1s/step - loss: 0.0960 - accuracy: 1.0000 - tp: 7.0000 - fp: 0.0000e+00 - tn: 5.0000 - fn: 0.0000e+00 - precision: 1.0000 - recall: 1.0000 - auc: 1.0000 - prc: 1.0000\n",
            "Epoch 4/5\n",
            "1/1 [==============================] - 1s 1s/step - loss: 0.0387 - accuracy: 1.0000 - tp: 7.0000 - fp: 0.0000e+00 - tn: 5.0000 - fn: 0.0000e+00 - precision: 1.0000 - recall: 1.0000 - auc: 1.0000 - prc: 1.0000\n",
            "Epoch 5/5\n",
            "1/1 [==============================] - 1s 1s/step - loss: 0.0340 - accuracy: 1.0000 - tp: 7.0000 - fp: 0.0000e+00 - tn: 5.0000 - fn: 0.0000e+00 - precision: 1.0000 - recall: 1.0000 - auc: 1.0000 - prc: 1.0000\n",
            "Epoch 1/5\n",
            "1/1 [==============================] - 3s 3s/step - loss: 0.0833 - accuracy: 1.0000 - tp: 5.0000 - fp: 0.0000e+00 - tn: 22.0000 - fn: 0.0000e+00 - precision: 1.0000 - recall: 1.0000 - auc: 1.0000 - prc: 1.0000\n",
            "Epoch 2/5\n",
            "1/1 [==============================] - 3s 3s/step - loss: 0.0732 - accuracy: 1.0000 - tp: 5.0000 - fp: 0.0000e+00 - tn: 22.0000 - fn: 0.0000e+00 - precision: 1.0000 - recall: 1.0000 - auc: 1.0000 - prc: 1.0000\n",
            "Epoch 3/5\n",
            "1/1 [==============================] - 3s 3s/step - loss: 0.0929 - accuracy: 0.9630 - tp: 5.0000 - fp: 1.0000 - tn: 21.0000 - fn: 0.0000e+00 - precision: 0.8333 - recall: 1.0000 - auc: 1.0000 - prc: 1.0000\n",
            "Epoch 4/5\n",
            "1/1 [==============================] - 3s 3s/step - loss: 0.0690 - accuracy: 1.0000 - tp: 5.0000 - fp: 0.0000e+00 - tn: 22.0000 - fn: 0.0000e+00 - precision: 1.0000 - recall: 1.0000 - auc: 1.0000 - prc: 1.0000\n",
            "Epoch 5/5\n",
            "1/1 [==============================] - 3s 3s/step - loss: 0.0565 - accuracy: 1.0000 - tp: 5.0000 - fp: 0.0000e+00 - tn: 22.0000 - fn: 0.0000e+00 - precision: 1.0000 - recall: 1.0000 - auc: 1.0000 - prc: 1.0000\n",
            "Epoch 1/5\n",
            "1/1 [==============================] - 1s 1s/step - loss: 0.0402 - accuracy: 1.0000 - tp: 0.0000e+00 - fp: 0.0000e+00 - tn: 12.0000 - fn: 0.0000e+00 - precision: 0.0000e+00 - recall: 0.0000e+00 - auc: 0.0000e+00 - prc: 0.0000e+00\n",
            "Epoch 2/5\n",
            "1/1 [==============================] - 1s 1s/step - loss: 0.0233 - accuracy: 1.0000 - tp: 0.0000e+00 - fp: 0.0000e+00 - tn: 12.0000 - fn: 0.0000e+00 - precision: 0.0000e+00 - recall: 0.0000e+00 - auc: 0.0000e+00 - prc: 0.0000e+00\n",
            "Epoch 3/5\n",
            "1/1 [==============================] - 1s 1s/step - loss: 0.0168 - accuracy: 1.0000 - tp: 0.0000e+00 - fp: 0.0000e+00 - tn: 12.0000 - fn: 0.0000e+00 - precision: 0.0000e+00 - recall: 0.0000e+00 - auc: 0.0000e+00 - prc: 0.0000e+00\n",
            "Epoch 4/5\n",
            "1/1 [==============================] - 1s 1s/step - loss: 0.0185 - accuracy: 1.0000 - tp: 0.0000e+00 - fp: 0.0000e+00 - tn: 12.0000 - fn: 0.0000e+00 - precision: 0.0000e+00 - recall: 0.0000e+00 - auc: 0.0000e+00 - prc: 0.0000e+00\n",
            "Epoch 5/5\n",
            "1/1 [==============================] - 1s 1s/step - loss: 0.0095 - accuracy: 1.0000 - tp: 0.0000e+00 - fp: 0.0000e+00 - tn: 12.0000 - fn: 0.0000e+00 - precision: 0.0000e+00 - recall: 0.0000e+00 - auc: 0.0000e+00 - prc: 0.0000e+00\n",
            "Epoch 1/5\n",
            "2/2 [==============================] - 3s 73ms/step - loss: 0.0713 - accuracy: 1.0000 - tp: 7.0000 - fp: 0.0000e+00 - tn: 29.0000 - fn: 0.0000e+00 - precision: 1.0000 - recall: 1.0000 - auc: 1.0000 - prc: 1.0000\n",
            "Epoch 2/5\n",
            "2/2 [==============================] - 3s 73ms/step - loss: 0.0513 - accuracy: 1.0000 - tp: 7.0000 - fp: 0.0000e+00 - tn: 29.0000 - fn: 0.0000e+00 - precision: 1.0000 - recall: 1.0000 - auc: 1.0000 - prc: 1.0000\n",
            "Epoch 3/5\n",
            "2/2 [==============================] - 3s 210ms/step - loss: 0.0352 - accuracy: 1.0000 - tp: 7.0000 - fp: 0.0000e+00 - tn: 29.0000 - fn: 0.0000e+00 - precision: 1.0000 - recall: 1.0000 - auc: 1.0000 - prc: 1.0000\n",
            "Epoch 4/5\n",
            "2/2 [==============================] - 3s 71ms/step - loss: 0.0336 - accuracy: 1.0000 - tp: 7.0000 - fp: 0.0000e+00 - tn: 29.0000 - fn: 0.0000e+00 - precision: 1.0000 - recall: 1.0000 - auc: 1.0000 - prc: 1.0000\n",
            "Epoch 5/5\n",
            "2/2 [==============================] - 3s 79ms/step - loss: 0.0224 - accuracy: 1.0000 - tp: 7.0000 - fp: 0.0000e+00 - tn: 29.0000 - fn: 0.0000e+00 - precision: 1.0000 - recall: 1.0000 - auc: 1.0000 - prc: 1.0000\n",
            "Epoch 1/5\n",
            "4/4 [==============================] - 10s 2s/step - loss: 0.1850 - accuracy: 0.9388 - tp: 25.0000 - fp: 3.0000 - tn: 67.0000 - fn: 3.0000 - precision: 0.8929 - recall: 0.8929 - auc: 0.9763 - prc: 0.9320\n",
            "Epoch 2/5\n",
            "4/4 [==============================] - 10s 2s/step - loss: 0.1590 - accuracy: 0.9286 - tp: 25.0000 - fp: 4.0000 - tn: 66.0000 - fn: 3.0000 - precision: 0.8621 - recall: 0.8929 - auc: 0.9847 - prc: 0.9632\n",
            "Epoch 3/5\n",
            "4/4 [==============================] - 10s 2s/step - loss: 0.0684 - accuracy: 0.9796 - tp: 27.0000 - fp: 1.0000 - tn: 69.0000 - fn: 1.0000 - precision: 0.9643 - recall: 0.9643 - auc: 0.9995 - prc: 0.9987\n",
            "Epoch 4/5\n",
            "4/4 [==============================] - 10s 2s/step - loss: 0.0328 - accuracy: 1.0000 - tp: 28.0000 - fp: 0.0000e+00 - tn: 70.0000 - fn: 0.0000e+00 - precision: 1.0000 - recall: 1.0000 - auc: 1.0000 - prc: 1.0000\n",
            "Epoch 5/5\n",
            "4/4 [==============================] - 10s 2s/step - loss: 0.0294 - accuracy: 1.0000 - tp: 28.0000 - fp: 0.0000e+00 - tn: 70.0000 - fn: 0.0000e+00 - precision: 1.0000 - recall: 1.0000 - auc: 1.0000 - prc: 1.0000\n",
            "Epoch 1/5\n",
            "2/2 [==============================] - 4s 748ms/step - loss: 0.2186 - accuracy: 0.9091 - tp: 10.0000 - fp: 3.0000 - tn: 30.0000 - fn: 1.0000 - precision: 0.7692 - recall: 0.9091 - auc: 0.9669 - prc: 0.9515\n",
            "Epoch 2/5\n",
            "2/2 [==============================] - 4s 641ms/step - loss: 0.1094 - accuracy: 0.9545 - tp: 10.0000 - fp: 1.0000 - tn: 32.0000 - fn: 1.0000 - precision: 0.9091 - recall: 0.9091 - auc: 0.9917 - prc: 0.9768\n",
            "Epoch 3/5\n",
            "2/2 [==============================] - 4s 972ms/step - loss: 0.0527 - accuracy: 1.0000 - tp: 11.0000 - fp: 0.0000e+00 - tn: 33.0000 - fn: 0.0000e+00 - precision: 1.0000 - recall: 1.0000 - auc: 1.0000 - prc: 1.0000\n",
            "Epoch 4/5\n",
            "2/2 [==============================] - 4s 780ms/step - loss: 0.0361 - accuracy: 1.0000 - tp: 11.0000 - fp: 0.0000e+00 - tn: 33.0000 - fn: 0.0000e+00 - precision: 1.0000 - recall: 1.0000 - auc: 1.0000 - prc: 1.0000\n",
            "Epoch 5/5\n",
            "2/2 [==============================] - 4s 1s/step - loss: 0.0231 - accuracy: 1.0000 - tp: 11.0000 - fp: 0.0000e+00 - tn: 33.0000 - fn: 0.0000e+00 - precision: 1.0000 - recall: 1.0000 - auc: 1.0000 - prc: 1.0000\n",
            "Epoch 1/5\n",
            "3/3 [==============================] - 7s 2s/step - loss: 0.1913 - accuracy: 0.9178 - tp: 17.0000 - fp: 3.0000 - tn: 50.0000 - fn: 3.0000 - precision: 0.8500 - recall: 0.8500 - auc: 0.9774 - prc: 0.9506\n",
            "Epoch 2/5\n",
            "3/3 [==============================] - 7s 2s/step - loss: 0.0876 - accuracy: 0.9863 - tp: 19.0000 - fp: 0.0000e+00 - tn: 53.0000 - fn: 1.0000 - precision: 1.0000 - recall: 0.9500 - auc: 0.9981 - prc: 0.9953\n",
            "Epoch 3/5\n",
            "3/3 [==============================] - 7s 2s/step - loss: 0.0622 - accuracy: 1.0000 - tp: 20.0000 - fp: 0.0000e+00 - tn: 53.0000 - fn: 0.0000e+00 - precision: 1.0000 - recall: 1.0000 - auc: 1.0000 - prc: 1.0000\n",
            "Epoch 4/5\n",
            "3/3 [==============================] - 7s 2s/step - loss: 0.0456 - accuracy: 1.0000 - tp: 20.0000 - fp: 0.0000e+00 - tn: 53.0000 - fn: 0.0000e+00 - precision: 1.0000 - recall: 1.0000 - auc: 1.0000 - prc: 1.0000\n",
            "Epoch 5/5\n",
            "3/3 [==============================] - 7s 2s/step - loss: 0.0300 - accuracy: 1.0000 - tp: 20.0000 - fp: 0.0000e+00 - tn: 53.0000 - fn: 0.0000e+00 - precision: 1.0000 - recall: 1.0000 - auc: 1.0000 - prc: 1.0000\n"
          ]
        }
      ]
    },
    {
      "cell_type": "code",
      "source": [
        "print(np.unique(clf.apply(Xtr)))\n",
        "print(np.unique(clf.apply(Xte)))"
      ],
      "metadata": {
        "colab": {
          "base_uri": "https://localhost:8080/"
        },
        "id": "Noxmie2gnFfW",
        "outputId": "f46f244f-1226-4c47-aa65-e6b6fbf02820"
      },
      "execution_count": null,
      "outputs": [
        {
          "output_type": "stream",
          "name": "stdout",
          "text": [
            "[ 6  7  9 10 13 14 16 17 21 22 24 25 28 29 31 32 37 38 39 40 44 45 47 48\n",
            " 49 54 56 57 59 61 62 65 67 68 71 72 74 75 80 81 82 84 85 88 90 91 92]\n",
            "[ 6  9 10 13 14 16 17 21 22 24 25 31 32 37 38 39 40 44 47 48 54 56 57 59\n",
            " 61 62 65 67 68 72 74 75 80 81 84 85 88 90 91 92]\n"
          ]
        }
      ]
    },
    {
      "cell_type": "markdown",
      "source": [
        "## Evaluation"
      ],
      "metadata": {
        "id": "WcLUaEo-zOX6"
      }
    },
    {
      "cell_type": "code",
      "source": [
        "#testing\n",
        "\n",
        "leaves = clf.apply(Xte)\n",
        "processed_dataset_test = datasets.load_from_disk(\"/content/drive/MyDrive/Github/ece539-metamushroom-project/data/processed_datasetXste_corr\")\n"
      ],
      "metadata": {
        "id": "DwrSaLE5NLUY"
      },
      "execution_count": null,
      "outputs": []
    },
    {
      "cell_type": "code",
      "source": [
        "from sklearn.metrics import confusion_matrix\n",
        "from transformers import DefaultDataCollator\n",
        "import numpy as np\n",
        "\n",
        "pred_results = []\n",
        "true_results = []\n",
        "\n",
        "for i in np.unique(leaves): \n",
        "  print('LEAF #', i)\n",
        "\n",
        "  index = np.where(leaves == i)[0]\n",
        "  sample = processed_dataset_test.select(index)\n",
        "\n",
        "  train_batch_size = 32\n",
        "  data_collator = DefaultDataCollator(return_tensors=\"tf\")\n",
        "\n",
        "  tf_leaf_dataset = sample.to_tf_dataset(\n",
        "    columns=['pixel_values'],\n",
        "    label_cols=[\"labels\"],\n",
        "    shuffle=False,\n",
        "    batch_size=train_batch_size,\n",
        "    collate_fn=data_collator)\n",
        "  \n",
        "  keras_model.load_weights('metamodel_{}.h5'.format(i))\n",
        "\n",
        "  with tf.device('/GPU:0'):\n",
        "    test_pred = keras_model.predict(tf_leaf_dataset)\n",
        "\n",
        "  pred_results.append(test_pred)\n",
        "\n",
        "  y_true = np.concatenate([y for x, y in tf_leaf_dataset], axis=0)\n",
        "  true_results.append(y_true)\n",
        "\n"
      ],
      "metadata": {
        "colab": {
          "base_uri": "https://localhost:8080/"
        },
        "id": "fTnrz5ev2nJ_",
        "outputId": "cc820f4a-0a71-482e-a0c9-1f6f7bef1e75"
      },
      "execution_count": null,
      "outputs": [
        {
          "output_type": "stream",
          "name": "stdout",
          "text": [
            "LEAF # 6\n",
            "2/2 [==============================] - 6s 35ms/step\n",
            "LEAF # 9\n",
            "1/1 [==============================] - 1s 723ms/step\n",
            "LEAF # 10\n",
            "1/1 [==============================] - 1s 619ms/step\n",
            "LEAF # 13\n",
            "1/1 [==============================] - 2s 2s/step\n",
            "LEAF # 14\n",
            "2/2 [==============================] - 7s 3s/step\n",
            "LEAF # 16\n",
            "1/1 [==============================] - 0s 356ms/step\n",
            "LEAF # 17\n",
            "1/1 [==============================] - 1s 867ms/step\n",
            "LEAF # 21\n",
            "10/10 [==============================] - 45s 4s/step\n",
            "LEAF # 22\n",
            "1/1 [==============================] - 1s 1s/step\n",
            "LEAF # 24\n",
            "1/1 [==============================] - 0s 197ms/step\n",
            "LEAF # 25\n",
            "1/1 [==============================] - 1s 1s/step\n",
            "LEAF # 31\n",
            "1/1 [==============================] - 2s 2s/step\n",
            "LEAF # 32\n",
            "1/1 [==============================] - 1s 1s/step\n",
            "LEAF # 37\n",
            "1/1 [==============================] - 0s 467ms/step\n",
            "LEAF # 38\n",
            "1/1 [==============================] - 1s 582ms/step\n",
            "LEAF # 39\n",
            "1/1 [==============================] - 1s 768ms/step\n",
            "LEAF # 40\n",
            "1/1 [==============================] - 1s 894ms/step\n",
            "LEAF # 44\n",
            "3/3 [==============================] - 7s 2s/step\n",
            "LEAF # 47\n",
            "1/1 [==============================] - 0s 460ms/step\n",
            "LEAF # 48\n",
            "1/1 [==============================] - 1s 1s/step\n",
            "LEAF # 54\n",
            "2/2 [==============================] - 5s 2s/step\n",
            "LEAF # 56\n",
            "2/2 [==============================] - 4s 1s/step\n",
            "LEAF # 57\n",
            "2/2 [==============================] - 5s 1s/step\n",
            "LEAF # 59\n",
            "1/1 [==============================] - 2s 2s/step\n",
            "LEAF # 61\n",
            "1/1 [==============================] - 2s 2s/step\n",
            "LEAF # 62\n",
            "1/1 [==============================] - 0s 200ms/step\n",
            "LEAF # 65\n",
            "1/1 [==============================] - 1s 1s/step\n",
            "LEAF # 67\n",
            "1/1 [==============================] - 1s 1s/step\n",
            "LEAF # 68\n",
            "2/2 [==============================] - 5s 1s/step\n",
            "LEAF # 72\n",
            "1/1 [==============================] - 0s 487ms/step\n",
            "LEAF # 74\n",
            "1/1 [==============================] - 0s 466ms/step\n",
            "LEAF # 75\n",
            "1/1 [==============================] - 0s 484ms/step\n",
            "LEAF # 80\n",
            "1/1 [==============================] - 4s 4s/step\n",
            "LEAF # 81\n",
            "2/2 [==============================] - 5s 1s/step\n",
            "LEAF # 84\n",
            "1/1 [==============================] - 1s 796ms/step\n",
            "LEAF # 85\n",
            "1/1 [==============================] - 0s 203ms/step\n",
            "LEAF # 88\n",
            "1/1 [==============================] - 1s 840ms/step\n",
            "LEAF # 90\n",
            "1/1 [==============================] - 3s 3s/step\n",
            "LEAF # 91\n",
            "1/1 [==============================] - 1s 616ms/step\n",
            "LEAF # 92\n",
            "1/1 [==============================] - 2s 2s/step\n"
          ]
        }
      ]
    },
    {
      "cell_type": "code",
      "source": [
        "import csv\n",
        "\n",
        "with open('results_test_byleaf.csv', 'w') as myfile:\n",
        "    wr = csv.writer(myfile)\n",
        "    for leaf in pred_results:\n",
        "      wr.writerow(leaf)\n",
        "\n",
        "with open('labels_test_byleaf.csv', 'w') as myfile:\n",
        "    wr = csv.writer(myfile)\n",
        "    for leaf in true_results:\n",
        "      wr.writerow(leaf)"
      ],
      "metadata": {
        "id": "nbFUJ-9AtJP1"
      },
      "execution_count": null,
      "outputs": []
    },
    {
      "cell_type": "code",
      "source": [
        "import csv\n",
        "\n",
        "pred_labels = np.zeros((1041,))\n",
        "i = 0\n",
        "\n",
        "with open('results_test_byleaf.csv', newline='') as csvfile:\n",
        "    spamreader = csv.reader(csvfile, delimiter=',')\n",
        "    for row in spamreader:\n",
        "      for num in row: \n",
        "        num = float(num.strip(\"[]\"))\n",
        "        pred_labels[i] = num\n",
        "        i += 1 "
      ],
      "metadata": {
        "id": "nvpzPLu7jrtr"
      },
      "execution_count": null,
      "outputs": []
    },
    {
      "cell_type": "code",
      "source": [
        "import csv\n",
        "\n",
        "true_labels = np.zeros((1041,))\n",
        "i = 0\n",
        "\n",
        "with open('labels_test_byleaf.csv', newline='') as csvfile:\n",
        "    spamreader = csv.reader(csvfile, delimiter=',')\n",
        "    for row in spamreader:\n",
        "      for num in row: \n",
        "        true_labels[i] = int(num)\n",
        "        i += 1 "
      ],
      "metadata": {
        "id": "ysM1EvPLlkQB"
      },
      "execution_count": null,
      "outputs": []
    },
    {
      "cell_type": "code",
      "source": [
        "from sklearn.metrics import confusion_matrix\n",
        "from transformers import DefaultDataCollator\n",
        "import numpy as np\n",
        "\n",
        "pred_results = []\n",
        "true_results = []\n",
        "\n",
        "keras_model.load_weights('Xstr_baseline_model.06-0.60.h5'.format(i))\n",
        "\n",
        "\n",
        "for i in np.unique(leaves): \n",
        "  print('LEAF #', i)\n",
        "\n",
        "  index = np.where(leaves == i)[0]\n",
        "  sample = processed_dataset_test.select(index)\n",
        "\n",
        "  train_batch_size = 32\n",
        "  data_collator = DefaultDataCollator(return_tensors=\"tf\")\n",
        "\n",
        "  tf_leaf_dataset = sample.to_tf_dataset(\n",
        "    columns=['pixel_values'],\n",
        "    label_cols=[\"labels\"],\n",
        "    shuffle=False,\n",
        "    batch_size=train_batch_size,\n",
        "    collate_fn=data_collator)\n",
        "  \n",
        "  with tf.device('/GPU:0'):\n",
        "    test_pred = keras_model.predict(tf_leaf_dataset)\n",
        "\n",
        "  pred_results.append(test_pred)\n",
        "\n",
        "  y_true = np.concatenate([y for x, y in tf_leaf_dataset], axis=0)\n",
        "  true_results.append(y_true)\n"
      ],
      "metadata": {
        "colab": {
          "base_uri": "https://localhost:8080/"
        },
        "id": "7lALA_4zqQoa",
        "outputId": "81da5fa7-bd96-4e0a-94b2-bbb9d6ec396d"
      },
      "execution_count": null,
      "outputs": [
        {
          "output_type": "stream",
          "name": "stdout",
          "text": [
            "LEAF # 6\n",
            "2/2 [==============================] - 5s 58ms/step\n",
            "LEAF # 9\n",
            "1/1 [==============================] - 0s 470ms/step\n",
            "LEAF # 10\n",
            "1/1 [==============================] - 1s 661ms/step\n",
            "LEAF # 13\n",
            "1/1 [==============================] - 2s 2s/step\n",
            "LEAF # 14\n",
            "2/2 [==============================] - 7s 3s/step\n",
            "LEAF # 16\n",
            "1/1 [==============================] - 0s 351ms/step\n",
            "LEAF # 17\n",
            "1/1 [==============================] - 1s 938ms/step\n",
            "LEAF # 21\n",
            "10/10 [==============================] - 87s 8s/step\n",
            "LEAF # 22\n",
            "1/1 [==============================] - 1s 1s/step\n",
            "LEAF # 24\n",
            "1/1 [==============================] - 0s 219ms/step\n",
            "LEAF # 25\n",
            "1/1 [==============================] - 1s 1s/step\n",
            "LEAF # 31\n",
            "1/1 [==============================] - 2s 2s/step\n",
            "LEAF # 32\n",
            "1/1 [==============================] - 1s 1s/step\n",
            "LEAF # 37\n",
            "1/1 [==============================] - 1s 517ms/step\n",
            "LEAF # 38\n",
            "1/1 [==============================] - 1s 624ms/step\n",
            "LEAF # 39\n",
            "1/1 [==============================] - 1s 831ms/step\n",
            "LEAF # 40\n",
            "1/1 [==============================] - 1s 1s/step\n",
            "LEAF # 44\n",
            "3/3 [==============================] - 8s 2s/step\n",
            "LEAF # 47\n",
            "1/1 [==============================] - 1s 550ms/step\n",
            "LEAF # 48\n",
            "1/1 [==============================] - 1s 1s/step\n",
            "LEAF # 54\n",
            "2/2 [==============================] - 5s 1s/step\n",
            "LEAF # 56\n",
            "2/2 [==============================] - 4s 709ms/step\n",
            "LEAF # 57\n",
            "2/2 [==============================] - 4s 1s/step\n",
            "LEAF # 59\n",
            "1/1 [==============================] - 2s 2s/step\n",
            "LEAF # 61\n",
            "1/1 [==============================] - 2s 2s/step\n",
            "LEAF # 62\n",
            "1/1 [==============================] - 0s 216ms/step\n",
            "LEAF # 65\n",
            "1/1 [==============================] - 2s 2s/step\n",
            "LEAF # 67\n",
            "1/1 [==============================] - 1s 1s/step\n",
            "LEAF # 68\n",
            "2/2 [==============================] - 5s 718ms/step\n",
            "LEAF # 72\n",
            "1/1 [==============================] - 1s 516ms/step\n",
            "LEAF # 74\n",
            "1/1 [==============================] - 1s 564ms/step\n",
            "LEAF # 75\n",
            "1/1 [==============================] - 1s 508ms/step\n",
            "LEAF # 80\n",
            "1/1 [==============================] - 4s 4s/step\n",
            "LEAF # 81\n",
            "2/2 [==============================] - 5s 1s/step\n",
            "LEAF # 84\n",
            "1/1 [==============================] - 1s 813ms/step\n",
            "LEAF # 85\n",
            "1/1 [==============================] - 0s 227ms/step\n",
            "LEAF # 88\n",
            "1/1 [==============================] - 1s 887ms/step\n",
            "LEAF # 90\n",
            "1/1 [==============================] - 3s 3s/step\n",
            "LEAF # 91\n",
            "1/1 [==============================] - 1s 655ms/step\n",
            "LEAF # 92\n",
            "1/1 [==============================] - 2s 2s/step\n"
          ]
        }
      ]
    },
    {
      "cell_type": "code",
      "source": [
        "import csv\n",
        "\n",
        "with open('results_test_baseline_byleaf.csv', 'w') as myfile:\n",
        "    wr = csv.writer(myfile)\n",
        "    for leaf in pred_results:\n",
        "      wr.writerow(leaf)\n",
        "\n",
        "with open('labels_test_baseline_byleaf.csv', 'w') as myfile:\n",
        "    wr = csv.writer(myfile)\n",
        "    for leaf in true_results:\n",
        "      wr.writerow(leaf)"
      ],
      "metadata": {
        "id": "Au9bX8qNqZC6"
      },
      "execution_count": null,
      "outputs": []
    },
    {
      "cell_type": "code",
      "source": [
        "import csv\n",
        "\n",
        "pred_labels_baseline = np.zeros((1041,))\n",
        "i = 0\n",
        "\n",
        "with open('results_test_baseline_byleaf.csv', newline='') as csvfile:\n",
        "    spamreader = csv.reader(csvfile, delimiter=',')\n",
        "    for row in spamreader:\n",
        "      for num in row: \n",
        "        num = float(num.strip(\"[]\"))\n",
        "        pred_labels_baseline[i] = num\n",
        "        i += 1 "
      ],
      "metadata": {
        "id": "OMDYmlblz3wH"
      },
      "execution_count": null,
      "outputs": []
    },
    {
      "cell_type": "code",
      "source": [
        "import csv\n",
        "\n",
        "true_labels_baseline = np.zeros((1041,))\n",
        "i = 0\n",
        "\n",
        "with open('labels_test_baseline_byleaf.csv', newline='') as csvfile:\n",
        "    spamreader = csv.reader(csvfile, delimiter=',')\n",
        "    for row in spamreader:\n",
        "      for num in row: \n",
        "        true_labels_baseline[i] = int(num)\n",
        "        i += 1"
      ],
      "metadata": {
        "id": "wgFonOA10CjG"
      },
      "execution_count": null,
      "outputs": []
    },
    {
      "cell_type": "code",
      "source": [
        "flat_results.shape, flat_labels.shape"
      ],
      "metadata": {
        "colab": {
          "base_uri": "https://localhost:8080/"
        },
        "id": "Sj3VOlbD5GRJ",
        "outputId": "c02acb21-f1fd-48ed-fa78-6c41c1974acb"
      },
      "execution_count": null,
      "outputs": [
        {
          "output_type": "execute_result",
          "data": {
            "text/plain": [
              "((1041, 1), (1041,))"
            ]
          },
          "metadata": {},
          "execution_count": 78
        }
      ]
    },
    {
      "cell_type": "code",
      "source": [
        "from sklearn.metrics import confusion_matrix\n",
        "\n",
        "y_pred = (pred_labels_baseline > .5).astype(int) #convert to binary\n",
        "print(confusion_matrix(true_labels_baseline, y_pred))"
      ],
      "metadata": {
        "colab": {
          "base_uri": "https://localhost:8080/"
        },
        "id": "AU4RrkUC0ohM",
        "outputId": "701c8531-786e-4de6-9f9d-c9307e41c421"
      },
      "execution_count": null,
      "outputs": [
        {
          "output_type": "stream",
          "name": "stdout",
          "text": [
            "[[638 146]\n",
            " [116 141]]\n"
          ]
        }
      ]
    },
    {
      "cell_type": "code",
      "source": [
        "from sklearn.metrics import confusion_matrix\n",
        "\n",
        "y_pred = (pred_labels > .5).astype(int) #convert to binary\n",
        "print(confusion_matrix(true_labels, y_pred))"
      ],
      "metadata": {
        "colab": {
          "base_uri": "https://localhost:8080/"
        },
        "id": "Xp6KjwRX2t2W",
        "outputId": "2147b213-0f06-4607-88bf-91efbf1256eb"
      },
      "execution_count": null,
      "outputs": [
        {
          "output_type": "stream",
          "name": "stdout",
          "text": [
            "[[679 105]\n",
            " [131 126]]\n"
          ]
        }
      ]
    },
    {
      "cell_type": "code",
      "source": [
        "df = ystr.value_counts().reset_index(name='total').sort_values('species')"
      ],
      "metadata": {
        "id": "YYMHyPfUoLf4"
      },
      "execution_count": null,
      "outputs": []
    },
    {
      "cell_type": "code",
      "source": [
        "df['total_test'] = yste.value_counts().reset_index(name='total').sort_values('species')['total'].to_numpy()"
      ],
      "metadata": {
        "id": "s9x8_dew0bOj"
      },
      "execution_count": null,
      "outputs": []
    },
    {
      "cell_type": "code",
      "source": [
        "order = np.argsort(clf.apply(Xte), kind = 'mergesort')\n",
        "pred_labels = (pred_labels > .5).astype(int) #convert to binary\n",
        "pred_labels_baseline = (pred_labels_baseline > .5).astype(int) #convert to binary\n",
        "true_classification = np.where(pred_labels - true_labels == 0.)\n",
        "true_classification_baseline = np.where(pred_labels_baseline - true_labels == 0.)\n",
        "class_array = np.zeros((1041,))\n",
        "class_array_baseline = np.zeros((1041,))\n",
        "class_array[true_classification] = 1\n",
        "class_array_baseline[true_classification_baseline] = 1\n",
        "class_array_ordered = class_array[order]\n",
        "class_array_ordered_baseline = class_array_baseline[order]"
      ],
      "metadata": {
        "id": "2p5AcyGb30kE"
      },
      "execution_count": null,
      "outputs": []
    },
    {
      "cell_type": "code",
      "source": [
        "species_dict = {}\n",
        "\n",
        "for species, classified in zip(yste.to_numpy().flatten(), class_array_ordered):\n",
        "  species_dict[species] = species_dict.get(species, 0) + classified"
      ],
      "metadata": {
        "id": "MZ5lM1MRsowm"
      },
      "execution_count": null,
      "outputs": []
    },
    {
      "cell_type": "code",
      "source": [
        "species_dict_baseline = {}\n",
        "\n",
        "for species, classified in zip(yste.to_numpy().flatten(), class_array_ordered_baseline):\n",
        "  species_dict_baseline[species] = species_dict_baseline.get(species, 0) + classified"
      ],
      "metadata": {
        "id": "wftkCf5X47K7"
      },
      "execution_count": null,
      "outputs": []
    },
    {
      "cell_type": "code",
      "source": [
        "species_dict_sorted = {key:species_dict[key] for key in sorted(species_dict.keys())}"
      ],
      "metadata": {
        "id": "7rhb7XaJrps3"
      },
      "execution_count": null,
      "outputs": []
    },
    {
      "cell_type": "code",
      "source": [
        "species_dict_sorted_baseline = {key:species_dict_baseline[key] for key in sorted(species_dict_baseline.keys())}"
      ],
      "metadata": {
        "id": "LbbPZrQX5BFm"
      },
      "execution_count": null,
      "outputs": []
    },
    {
      "cell_type": "code",
      "source": [
        "df_tmp  = pd.DataFrame.from_dict(species_dict_sorted, orient = 'index', columns = ['counts'])\n",
        "df_tmp_baseline = pd.DataFrame.from_dict(species_dict_sorted_baseline, orient = 'index', columns = ['counts'])"
      ],
      "metadata": {
        "id": "RbFvhmgO5dXD"
      },
      "execution_count": null,
      "outputs": []
    },
    {
      "cell_type": "code",
      "source": [
        "df['counts'] = df_tmp['counts'].to_numpy()"
      ],
      "metadata": {
        "id": "I8FiTtqkFPoU"
      },
      "execution_count": null,
      "outputs": []
    },
    {
      "cell_type": "code",
      "source": [
        "df['counts_baseline'] = df_tmp_baseline['counts'].to_numpy()"
      ],
      "metadata": {
        "id": "_-yIIVEL5N_5"
      },
      "execution_count": null,
      "outputs": []
    },
    {
      "cell_type": "code",
      "source": [
        "df = df.sort_values('total', ascending = False)"
      ],
      "metadata": {
        "id": "QecLSAARymR-"
      },
      "execution_count": null,
      "outputs": []
    },
    {
      "cell_type": "code",
      "source": [
        "import matplotlib.pyplot as plt\n",
        "plt.rcParams.update({'font.size': 22})\n",
        "\n",
        "x = np.arange(1, 180)[:50]\n",
        "y1 = df['total'].to_numpy()[:50]\n",
        "y2 = df['counts'].to_numpy()[:50]/df['total_test'].to_numpy()[:50]*100\n",
        "y3 = df['counts_baseline'].to_numpy()[:50]/df['total_test'].to_numpy()[:50]*100\n",
        "\n",
        "fig, ax1 = plt.subplots()\n",
        "\n",
        "fig.set_size_inches(18.5, 10.5)\n",
        "\n",
        "ax2 = ax1.twinx()\n",
        "ax1.bar(x, y1, color = 'black', alpha = 0.5, label = 'species count')\n",
        "ax2.bar(x, y2, color = 'yellow', alpha = 0.7, label = 'ensemble')\n",
        "ax2.bar(x, y3, color = 'teal', alpha = 0.5, label = 'baseline')\n",
        "\n",
        "ax1.set_xlabel('species index')\n",
        "ax1.set_ylabel('total training samples')\n",
        "ax2.set_ylabel('test accuracy')\n",
        "\n",
        "ax1.set_zorder(10)\n",
        "ax1.patch.set_visible(False)\n",
        "\n",
        "\n",
        "\n",
        "plt.legend(loc = 'best', framealpha= 1)\n",
        "plt.show()"
      ],
      "metadata": {
        "colab": {
          "base_uri": "https://localhost:8080/",
          "height": 653
        },
        "id": "e7YwXHLn4DOt",
        "outputId": "1665ee9c-a28d-442a-a275-5e328fde4c9e"
      },
      "execution_count": null,
      "outputs": [
        {
          "output_type": "display_data",
          "data": {
            "text/plain": [
              "<Figure size 1332x756 with 2 Axes>"
            ],
            "image/png": "[encoded data removed]"
          },
          "metadata": {
            "needs_background": "light"
          }
        }
      ]
    },
    {
      "cell_type": "code",
      "source": [
        "common_species = df['species'][:50].to_numpy()"
      ],
      "metadata": {
        "id": "bOnb6HBW8sDt"
      },
      "execution_count": null,
      "outputs": []
    },
    {
      "cell_type": "code",
      "source": [
        "with open('edible_mushrooms.txt') as f: \n",
        "  edibles = f.read().split('\\n')"
      ],
      "metadata": {
        "id": "wkrPkUwj8x8p"
      },
      "execution_count": null,
      "outputs": []
    },
    {
      "cell_type": "code",
      "source": [
        "from sklearn.metrics import roc_curve\n",
        "\n",
        "fpr, tpr, thresholds = roc_curve(flat_labels, flat_results, pos_label=1)"
      ],
      "metadata": {
        "id": "fxhTUKyy6ebS"
      },
      "execution_count": null,
      "outputs": []
    },
    {
      "cell_type": "code",
      "source": [
        "from sklearn.metrics import auc\n",
        "\n",
        "auc(fpr, tpr)"
      ],
      "metadata": {
        "colab": {
          "base_uri": "https://localhost:8080/"
        },
        "id": "T92ICE3V_Pl7",
        "outputId": "b978bf33-b901-4deb-f116-252dcd11fb31"
      },
      "execution_count": null,
      "outputs": [
        {
          "output_type": "execute_result",
          "data": {
            "text/plain": [
              "0.7710384737552609"
            ]
          },
          "metadata": {},
          "execution_count": 111
        }
      ]
    },
    {
      "cell_type": "code",
      "source": [
        "from matplotlib import pyplot as plt\n",
        "\n",
        "plt.plot(fpr, tpr, label = 'classifier')\n",
        "plt.plot(fpr, fpr, '--', label = 'random')\n",
        "plt.xlabel(\"false positive rate\")\n",
        "plt.ylabel(\"true positive rate\")\n",
        "plt.title(\"ROC curve\")\n",
        "plt.legend()\n",
        "plt.show()"
      ],
      "metadata": {
        "colab": {
          "base_uri": "https://localhost:8080/",
          "height": 295
        },
        "id": "aCYUsqLO6Sdr",
        "outputId": "bd000be1-0d5e-479c-d682-7c1effc19d53"
      },
      "execution_count": null,
      "outputs": [
        {
          "output_type": "display_data",
          "data": {
            "text/plain": [
              "<Figure size 432x288 with 1 Axes>"
            ],
            "image/png": "[encoded data removed]"
          },
          "metadata": {
            "needs_background": "light"
          }
        }
      ]
    },
    {
      "cell_type": "code",
      "source": [
        "from sklearn.metrics import precision_recall_curve\n",
        "\n",
        "precision, recall, thresholds = precision_recall_curve(flat_labels, flat_results, pos_label=1)"
      ],
      "metadata": {
        "id": "a0BDJ6W26ZKo"
      },
      "execution_count": null,
      "outputs": []
    },
    {
      "cell_type": "code",
      "source": [
        "from matplotlib import pyplot as plt\n",
        "\n",
        "plt.plot(recall, precision)\n",
        "plt.xlabel(\"recall\")\n",
        "plt.ylabel(\"precision\")\n",
        "plt.title(\"Precision Recall curve\")\n",
        "plt.show()"
      ],
      "metadata": {
        "colab": {
          "base_uri": "https://localhost:8080/",
          "height": 295
        },
        "id": "stvgFO066FKX",
        "outputId": "28fd8319-343e-45b5-8275-c1f517294a08"
      },
      "execution_count": null,
      "outputs": [
        {
          "output_type": "display_data",
          "data": {
            "text/plain": [
              "<Figure size 432x288 with 1 Axes>"
            ],
            "image/png": "[encoded data removed]"
          },
          "metadata": {
            "needs_background": "light"
          }
        }
      ]
    },
    {
      "cell_type": "code",
      "source": [
        "from sklearn.metrics import precision_recall_fscore_support\n",
        "\n",
        "precision_recall_fscore_support(flat_labels, y_pred, average='binary')"
      ],
      "metadata": {
        "colab": {
          "base_uri": "https://localhost:8080/"
        },
        "id": "RsgKEgxB63jp",
        "outputId": "18cbdd5a-709a-4834-ca57-d294cea84fbd"
      },
      "execution_count": null,
      "outputs": [
        {
          "output_type": "execute_result",
          "data": {
            "text/plain": [
              "(0.5454545454545454, 0.490272373540856, 0.5163934426229507, None)"
            ]
          },
          "metadata": {},
          "execution_count": 92
        }
      ]
    },
    {
      "cell_type": "code",
      "source": [
        "\n",
        "pred_results_dt = []\n",
        "true_results_dt = []\n",
        "\n",
        "for i in np.unique(leaves): \n",
        "  print('LEAF #', i)\n",
        "\n",
        "  index = np.where(leaves == i)[0]\n",
        "  sample = Xte[index, :]\n",
        "\n",
        "  test_pred = clf.predict(sample)\n",
        "\n",
        "  pred_results_dt.append(test_pred)\n",
        "\n",
        "  y_true = Xste.iloc[index]['edibility'].to_numpy()\n",
        "  true_results_dt.append(y_true)\n",
        "\n"
      ],
      "metadata": {
        "colab": {
          "base_uri": "https://localhost:8080/"
        },
        "id": "O2-XDQ1ft2nl",
        "outputId": "314cf230-2781-4865-dc79-d3760ff09515"
      },
      "execution_count": null,
      "outputs": [
        {
          "output_type": "stream",
          "name": "stdout",
          "text": [
            "LEAF # 6\n",
            "LEAF # 9\n",
            "LEAF # 10\n",
            "LEAF # 13\n",
            "LEAF # 14\n",
            "LEAF # 16\n",
            "LEAF # 17\n",
            "LEAF # 21\n",
            "LEAF # 22\n",
            "LEAF # 24\n",
            "LEAF # 25\n",
            "LEAF # 31\n",
            "LEAF # 32\n",
            "LEAF # 37\n",
            "LEAF # 38\n",
            "LEAF # 39\n",
            "LEAF # 40\n",
            "LEAF # 44\n",
            "LEAF # 47\n",
            "LEAF # 48\n",
            "LEAF # 54\n",
            "LEAF # 56\n",
            "LEAF # 57\n",
            "LEAF # 59\n",
            "LEAF # 61\n",
            "LEAF # 62\n",
            "LEAF # 65\n",
            "LEAF # 67\n",
            "LEAF # 68\n",
            "LEAF # 72\n",
            "LEAF # 74\n",
            "LEAF # 75\n",
            "LEAF # 80\n",
            "LEAF # 81\n",
            "LEAF # 84\n",
            "LEAF # 85\n",
            "LEAF # 88\n",
            "LEAF # 90\n",
            "LEAF # 91\n",
            "LEAF # 92\n"
          ]
        }
      ]
    },
    {
      "cell_type": "code",
      "source": [
        "flat_results_dt = np.array([item for sublist in pred_results_dt for item in sublist])\n",
        "flat_labels_dt = np.array([item for sublist in true_results_dt for item in sublist])"
      ],
      "metadata": {
        "id": "bThYwzA0qwDE"
      },
      "execution_count": null,
      "outputs": []
    },
    {
      "cell_type": "code",
      "source": [
        "y_pred_dt = (flat_results_dt > 0.5).astype(int) #convert to binary\n",
        "y_pred_dt.shape"
      ],
      "metadata": {
        "colab": {
          "base_uri": "https://localhost:8080/"
        },
        "id": "ZOJfEkihAChk",
        "outputId": "178d9f33-679a-465f-b9f5-a89cc5c58dd8"
      },
      "execution_count": null,
      "outputs": [
        {
          "output_type": "execute_result",
          "data": {
            "text/plain": [
              "(1041,)"
            ]
          },
          "metadata": {},
          "execution_count": 143
        }
      ]
    },
    {
      "cell_type": "code",
      "source": [
        "missclass_dt = np.where(flat_labels_dt-y_pred_dt != 0)[0]\n",
        "missclass_model = np.where(flat_labels-y_pred.reshape(-1) != 0)[0]"
      ],
      "metadata": {
        "id": "S7aTOYLp-xl6"
      },
      "execution_count": null,
      "outputs": []
    },
    {
      "cell_type": "markdown",
      "source": [
        "### Deleting images with no metadata"
      ],
      "metadata": {
        "id": "hSwzd2LUkwGP"
      }
    },
    {
      "cell_type": "code",
      "source": [
        "#a = set(os.listdir(DATA_DIR))\n",
        "#b = set(metadata_sorted['image_path'].values)"
      ],
      "metadata": {
        "id": "zfCPXfNC9ZZy"
      },
      "execution_count": null,
      "outputs": []
    },
    {
      "cell_type": "code",
      "source": [
        "#for filename in os.listdir(DATA_DIR):\n",
        "#    if filename not in list(metadata_sorted['image_path'].values):\n",
        "#        os.remove(os.path.join(DATA_DIR, filename))\n",
        "#        print('file removed!')"
      ],
      "metadata": {
        "id": "WLztSMGv6YEY"
      },
      "execution_count": null,
      "outputs": []
    },
    {
      "cell_type": "code",
      "source": [
        "normalization_layer = layers.Rescaling(1./255)\n",
        "\n",
        "\n",
        "data_augmentation = tf.keras.Sequential(\n",
        "  [\n",
        "    layers.RandomFlip(\"horizontal\",\n",
        "                      input_shape=(img_height,\n",
        "                                  img_width,\n",
        "                                  3)),\n",
        "    layers.RandomRotation(0.1),\n",
        "    layers.RandomZoom(0.1),\n",
        "  ]\n",
        ")"
      ],
      "metadata": {
        "id": "aqyT2kgYmBRT"
      },
      "execution_count": null,
      "outputs": []
    },
    {
      "cell_type": "code",
      "source": [
        "for images, labels in tf_train_dataset.take(1):\n",
        "  print(images['pixel_values'][1], labels[1])"
      ],
      "metadata": {
        "id": "MqMEppwuwZxS"
      },
      "execution_count": null,
      "outputs": []
    },
    {
      "cell_type": "code",
      "source": [
        "import matplotlib.pyplot as plt\n",
        "\n",
        "plt.figure(figsize=(10, 10))\n",
        "for images, labels in tf_train_dataset.take(1):\n",
        "  for i in range(9):\n",
        "    ax = plt.subplot(3, 3, i + 1)\n",
        "    plt.imshow(images['pixel_values'][i].astype(\"uint8\"))\n",
        "    ax.title(labels[i])\n",
        "    plt.axis(\"off\")"
      ],
      "metadata": {
        "id": "_h7H4vC0uAmy"
      },
      "execution_count": null,
      "outputs": []
    },
    {
      "cell_type": "code",
      "source": [
        "plt.figure(figsize=(10, 10))\n",
        "for images, _ in train_ds.take(1):\n",
        "  for i in range(9):\n",
        "    augmented_images = data_augmentation(images)\n",
        "    ax = plt.subplot(3, 3, i + 1)\n",
        "    plt.imshow(augmented_images[0].numpy().astype(\"uint8\"))\n",
        "    plt.axis(\"off\")"
      ],
      "metadata": {
        "id": "WFsGs49OmKt0"
      },
      "execution_count": null,
      "outputs": []
    }
  ]
}