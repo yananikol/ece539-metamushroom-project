{
  "nbformat": 4,
  "nbformat_minor": 0,
  "metadata": {
    "colab": {
      "provenance": [],
      "machine_shape": "hm",
      "collapsed_sections": [
        "IkpNBZfISyeV"
      ]
    },
    "kernelspec": {
      "name": "python3",
      "display_name": "Python 3"
    },
    "language_info": {
      "name": "python"
    },
    "gpuClass": "premium",
    "accelerator": "GPU",
    "widgets": {
      "application/vnd.jupyter.widget-state+json": {
        "e412f5ca4eb04071b3f9a05d7db078e5": {
          "model_module": "@jupyter-widgets/controls",
          "model_name": "HBoxModel",
          "model_module_version": "1.5.0",
          "state": {
            "_dom_classes": [],
            "_model_module": "@jupyter-widgets/controls",
            "_model_module_version": "1.5.0",
            "_model_name": "HBoxModel",
            "_view_count": null,
            "_view_module": "@jupyter-widgets/controls",
            "_view_module_version": "1.5.0",
            "_view_name": "HBoxView",
            "box_style": "",
            "children": [
              "IPY_MODEL_b29bcacaf4d74cfcbc4fa725429ce172",
              "IPY_MODEL_2cecbc614ac3438abb52e453002594bd",
              "IPY_MODEL_6129254505a846398ef63c96deaaec21"
            ],
            "layout": "IPY_MODEL_be3b49ad0a7a41d392c40b7136bfd67d"
          }
        },
        "b29bcacaf4d74cfcbc4fa725429ce172": {
          "model_module": "@jupyter-widgets/controls",
          "model_name": "HTMLModel",
          "model_module_version": "1.5.0",
          "state": {
            "_dom_classes": [],
            "_model_module": "@jupyter-widgets/controls",
            "_model_module_version": "1.5.0",
            "_model_name": "HTMLModel",
            "_view_count": null,
            "_view_module": "@jupyter-widgets/controls",
            "_view_module_version": "1.5.0",
            "_view_name": "HTMLView",
            "description": "",
            "description_tooltip": null,
            "layout": "IPY_MODEL_2ad01586994e4f6b996844455f4138e2",
            "placeholder": "​",
            "style": "IPY_MODEL_4f947de99da14ac6b7c75cad5915a381",
            "value": "Downloading: 100%"
          }
        },
        "2cecbc614ac3438abb52e453002594bd": {
          "model_module": "@jupyter-widgets/controls",
          "model_name": "FloatProgressModel",
          "model_module_version": "1.5.0",
          "state": {
            "_dom_classes": [],
            "_model_module": "@jupyter-widgets/controls",
            "_model_module_version": "1.5.0",
            "_model_name": "FloatProgressModel",
            "_view_count": null,
            "_view_module": "@jupyter-widgets/controls",
            "_view_module_version": "1.5.0",
            "_view_name": "ProgressView",
            "bar_style": "success",
            "description": "",
            "description_tooltip": null,
            "layout": "IPY_MODEL_51b5a22e09274b43902841edc137f3d0",
            "max": 160,
            "min": 0,
            "orientation": "horizontal",
            "style": "IPY_MODEL_6bfc16074e2c4e55b7d8693ba52f4aa2",
            "value": 160
          }
        },
        "6129254505a846398ef63c96deaaec21": {
          "model_module": "@jupyter-widgets/controls",
          "model_name": "HTMLModel",
          "model_module_version": "1.5.0",
          "state": {
            "_dom_classes": [],
            "_model_module": "@jupyter-widgets/controls",
            "_model_module_version": "1.5.0",
            "_model_name": "HTMLModel",
            "_view_count": null,
            "_view_module": "@jupyter-widgets/controls",
            "_view_module_version": "1.5.0",
            "_view_name": "HTMLView",
            "description": "",
            "description_tooltip": null,
            "layout": "IPY_MODEL_ce4e7cfeff8d49c39fde12332945fed9",
            "placeholder": "​",
            "style": "IPY_MODEL_4791dd966fec4f87bb12a2b3fa5b4281",
            "value": " 160/160 [00:00&lt;00:00, 6.31kB/s]"
          }
        },
        "be3b49ad0a7a41d392c40b7136bfd67d": {
          "model_module": "@jupyter-widgets/base",
          "model_name": "LayoutModel",
          "model_module_version": "1.2.0",
          "state": {
            "_model_module": "@jupyter-widgets/base",
            "_model_module_version": "1.2.0",
            "_model_name": "LayoutModel",
            "_view_count": null,
            "_view_module": "@jupyter-widgets/base",
            "_view_module_version": "1.2.0",
            "_view_name": "LayoutView",
            "align_content": null,
            "align_items": null,
            "align_self": null,
            "border": null,
            "bottom": null,
            "display": null,
            "flex": null,
            "flex_flow": null,
            "grid_area": null,
            "grid_auto_columns": null,
            "grid_auto_flow": null,
            "grid_auto_rows": null,
            "grid_column": null,
            "grid_gap": null,
            "grid_row": null,
            "grid_template_areas": null,
            "grid_template_columns": null,
            "grid_template_rows": null,
            "height": null,
            "justify_content": null,
            "justify_items": null,
            "left": null,
            "margin": null,
            "max_height": null,
            "max_width": null,
            "min_height": null,
            "min_width": null,
            "object_fit": null,
            "object_position": null,
            "order": null,
            "overflow": null,
            "overflow_x": null,
            "overflow_y": null,
            "padding": null,
            "right": null,
            "top": null,
            "visibility": null,
            "width": null
          }
        },
        "2ad01586994e4f6b996844455f4138e2": {
          "model_module": "@jupyter-widgets/base",
          "model_name": "LayoutModel",
          "model_module_version": "1.2.0",
          "state": {
            "_model_module": "@jupyter-widgets/base",
            "_model_module_version": "1.2.0",
            "_model_name": "LayoutModel",
            "_view_count": null,
            "_view_module": "@jupyter-widgets/base",
            "_view_module_version": "1.2.0",
            "_view_name": "LayoutView",
            "align_content": null,
            "align_items": null,
            "align_self": null,
            "border": null,
            "bottom": null,
            "display": null,
            "flex": null,
            "flex_flow": null,
            "grid_area": null,
            "grid_auto_columns": null,
            "grid_auto_flow": null,
            "grid_auto_rows": null,
            "grid_column": null,
            "grid_gap": null,
            "grid_row": null,
            "grid_template_areas": null,
            "grid_template_columns": null,
            "grid_template_rows": null,
            "height": null,
            "justify_content": null,
            "justify_items": null,
            "left": null,
            "margin": null,
            "max_height": null,
            "max_width": null,
            "min_height": null,
            "min_width": null,
            "object_fit": null,
            "object_position": null,
            "order": null,
            "overflow": null,
            "overflow_x": null,
            "overflow_y": null,
            "padding": null,
            "right": null,
            "top": null,
            "visibility": null,
            "width": null
          }
        },
        "4f947de99da14ac6b7c75cad5915a381": {
          "model_module": "@jupyter-widgets/controls",
          "model_name": "DescriptionStyleModel",
          "model_module_version": "1.5.0",
          "state": {
            "_model_module": "@jupyter-widgets/controls",
            "_model_module_version": "1.5.0",
            "_model_name": "DescriptionStyleModel",
            "_view_count": null,
            "_view_module": "@jupyter-widgets/base",
            "_view_module_version": "1.2.0",
            "_view_name": "StyleView",
            "description_width": ""
          }
        },
        "51b5a22e09274b43902841edc137f3d0": {
          "model_module": "@jupyter-widgets/base",
          "model_name": "LayoutModel",
          "model_module_version": "1.2.0",
          "state": {
            "_model_module": "@jupyter-widgets/base",
            "_model_module_version": "1.2.0",
            "_model_name": "LayoutModel",
            "_view_count": null,
            "_view_module": "@jupyter-widgets/base",
            "_view_module_version": "1.2.0",
            "_view_name": "LayoutView",
            "align_content": null,
            "align_items": null,
            "align_self": null,
            "border": null,
            "bottom": null,
            "display": null,
            "flex": null,
            "flex_flow": null,
            "grid_area": null,
            "grid_auto_columns": null,
            "grid_auto_flow": null,
            "grid_auto_rows": null,
            "grid_column": null,
            "grid_gap": null,
            "grid_row": null,
            "grid_template_areas": null,
            "grid_template_columns": null,
            "grid_template_rows": null,
            "height": null,
            "justify_content": null,
            "justify_items": null,
            "left": null,
            "margin": null,
            "max_height": null,
            "max_width": null,
            "min_height": null,
            "min_width": null,
            "object_fit": null,
            "object_position": null,
            "order": null,
            "overflow": null,
            "overflow_x": null,
            "overflow_y": null,
            "padding": null,
            "right": null,
            "top": null,
            "visibility": null,
            "width": null
          }
        },
        "6bfc16074e2c4e55b7d8693ba52f4aa2": {
          "model_module": "@jupyter-widgets/controls",
          "model_name": "ProgressStyleModel",
          "model_module_version": "1.5.0",
          "state": {
            "_model_module": "@jupyter-widgets/controls",
            "_model_module_version": "1.5.0",
            "_model_name": "ProgressStyleModel",
            "_view_count": null,
            "_view_module": "@jupyter-widgets/base",
            "_view_module_version": "1.2.0",
            "_view_name": "StyleView",
            "bar_color": null,
            "description_width": ""
          }
        },
        "ce4e7cfeff8d49c39fde12332945fed9": {
          "model_module": "@jupyter-widgets/base",
          "model_name": "LayoutModel",
          "model_module_version": "1.2.0",
          "state": {
            "_model_module": "@jupyter-widgets/base",
            "_model_module_version": "1.2.0",
            "_model_name": "LayoutModel",
            "_view_count": null,
            "_view_module": "@jupyter-widgets/base",
            "_view_module_version": "1.2.0",
            "_view_name": "LayoutView",
            "align_content": null,
            "align_items": null,
            "align_self": null,
            "border": null,
            "bottom": null,
            "display": null,
            "flex": null,
            "flex_flow": null,
            "grid_area": null,
            "grid_auto_columns": null,
            "grid_auto_flow": null,
            "grid_auto_rows": null,
            "grid_column": null,
            "grid_gap": null,
            "grid_row": null,
            "grid_template_areas": null,
            "grid_template_columns": null,
            "grid_template_rows": null,
            "height": null,
            "justify_content": null,
            "justify_items": null,
            "left": null,
            "margin": null,
            "max_height": null,
            "max_width": null,
            "min_height": null,
            "min_width": null,
            "object_fit": null,
            "object_position": null,
            "order": null,
            "overflow": null,
            "overflow_x": null,
            "overflow_y": null,
            "padding": null,
            "right": null,
            "top": null,
            "visibility": null,
            "width": null
          }
        },
        "4791dd966fec4f87bb12a2b3fa5b4281": {
          "model_module": "@jupyter-widgets/controls",
          "model_name": "DescriptionStyleModel",
          "model_module_version": "1.5.0",
          "state": {
            "_model_module": "@jupyter-widgets/controls",
            "_model_module_version": "1.5.0",
            "_model_name": "DescriptionStyleModel",
            "_view_count": null,
            "_view_module": "@jupyter-widgets/base",
            "_view_module_version": "1.2.0",
            "_view_name": "StyleView",
            "description_width": ""
          }
        },
        "11d96cf4d25e45e98acaaf98b1f4ffac": {
          "model_module": "@jupyter-widgets/controls",
          "model_name": "HBoxModel",
          "model_module_version": "1.5.0",
          "state": {
            "_dom_classes": [],
            "_model_module": "@jupyter-widgets/controls",
            "_model_module_version": "1.5.0",
            "_model_name": "HBoxModel",
            "_view_count": null,
            "_view_module": "@jupyter-widgets/controls",
            "_view_module_version": "1.5.0",
            "_view_name": "HBoxView",
            "box_style": "",
            "children": [
              "IPY_MODEL_3604a441bed74115beeeabbfbb49281b",
              "IPY_MODEL_6e06b746c61a45b786ef1ce25506af77",
              "IPY_MODEL_d2e21b4e8fc1459e9d34138fdef233b5"
            ],
            "layout": "IPY_MODEL_9a7d6c8520ef451a9f3e60ed7a32598a"
          }
        },
        "3604a441bed74115beeeabbfbb49281b": {
          "model_module": "@jupyter-widgets/controls",
          "model_name": "HTMLModel",
          "model_module_version": "1.5.0",
          "state": {
            "_dom_classes": [],
            "_model_module": "@jupyter-widgets/controls",
            "_model_module_version": "1.5.0",
            "_model_name": "HTMLModel",
            "_view_count": null,
            "_view_module": "@jupyter-widgets/controls",
            "_view_module_version": "1.5.0",
            "_view_name": "HTMLView",
            "description": "",
            "description_tooltip": null,
            "layout": "IPY_MODEL_afd71d42941b4ef1bf4d61cb0e0713fe",
            "placeholder": "​",
            "style": "IPY_MODEL_f4a4abb55d774484a11692e79cdd64f6",
            "value": "Downloading: 100%"
          }
        },
        "6e06b746c61a45b786ef1ce25506af77": {
          "model_module": "@jupyter-widgets/controls",
          "model_name": "FloatProgressModel",
          "model_module_version": "1.5.0",
          "state": {
            "_dom_classes": [],
            "_model_module": "@jupyter-widgets/controls",
            "_model_module_version": "1.5.0",
            "_model_name": "FloatProgressModel",
            "_view_count": null,
            "_view_module": "@jupyter-widgets/controls",
            "_view_module_version": "1.5.0",
            "_view_name": "ProgressView",
            "bar_style": "success",
            "description": "",
            "description_tooltip": null,
            "layout": "IPY_MODEL_a07534f5b22e4494987b44b5e77bc7cc",
            "max": 502,
            "min": 0,
            "orientation": "horizontal",
            "style": "IPY_MODEL_6166c55f4ffa4ac696ca19a4818a78b3",
            "value": 502
          }
        },
        "d2e21b4e8fc1459e9d34138fdef233b5": {
          "model_module": "@jupyter-widgets/controls",
          "model_name": "HTMLModel",
          "model_module_version": "1.5.0",
          "state": {
            "_dom_classes": [],
            "_model_module": "@jupyter-widgets/controls",
            "_model_module_version": "1.5.0",
            "_model_name": "HTMLModel",
            "_view_count": null,
            "_view_module": "@jupyter-widgets/controls",
            "_view_module_version": "1.5.0",
            "_view_name": "HTMLView",
            "description": "",
            "description_tooltip": null,
            "layout": "IPY_MODEL_ba17a266860b444489ed8dad71f2e307",
            "placeholder": "​",
            "style": "IPY_MODEL_b56db44d6e3545dc9b8b5c70956093a5",
            "value": " 502/502 [00:00&lt;00:00, 21.1kB/s]"
          }
        },
        "9a7d6c8520ef451a9f3e60ed7a32598a": {
          "model_module": "@jupyter-widgets/base",
          "model_name": "LayoutModel",
          "model_module_version": "1.2.0",
          "state": {
            "_model_module": "@jupyter-widgets/base",
            "_model_module_version": "1.2.0",
            "_model_name": "LayoutModel",
            "_view_count": null,
            "_view_module": "@jupyter-widgets/base",
            "_view_module_version": "1.2.0",
            "_view_name": "LayoutView",
            "align_content": null,
            "align_items": null,
            "align_self": null,
            "border": null,
            "bottom": null,
            "display": null,
            "flex": null,
            "flex_flow": null,
            "grid_area": null,
            "grid_auto_columns": null,
            "grid_auto_flow": null,
            "grid_auto_rows": null,
            "grid_column": null,
            "grid_gap": null,
            "grid_row": null,
            "grid_template_areas": null,
            "grid_template_columns": null,
            "grid_template_rows": null,
            "height": null,
            "justify_content": null,
            "justify_items": null,
            "left": null,
            "margin": null,
            "max_height": null,
            "max_width": null,
            "min_height": null,
            "min_width": null,
            "object_fit": null,
            "object_position": null,
            "order": null,
            "overflow": null,
            "overflow_x": null,
            "overflow_y": null,
            "padding": null,
            "right": null,
            "top": null,
            "visibility": null,
            "width": null
          }
        },
        "afd71d42941b4ef1bf4d61cb0e0713fe": {
          "model_module": "@jupyter-widgets/base",
          "model_name": "LayoutModel",
          "model_module_version": "1.2.0",
          "state": {
            "_model_module": "@jupyter-widgets/base",
            "_model_module_version": "1.2.0",
            "_model_name": "LayoutModel",
            "_view_count": null,
            "_view_module": "@jupyter-widgets/base",
            "_view_module_version": "1.2.0",
            "_view_name": "LayoutView",
            "align_content": null,
            "align_items": null,
            "align_self": null,
            "border": null,
            "bottom": null,
            "display": null,
            "flex": null,
            "flex_flow": null,
            "grid_area": null,
            "grid_auto_columns": null,
            "grid_auto_flow": null,
            "grid_auto_rows": null,
            "grid_column": null,
            "grid_gap": null,
            "grid_row": null,
            "grid_template_areas": null,
            "grid_template_columns": null,
            "grid_template_rows": null,
            "height": null,
            "justify_content": null,
            "justify_items": null,
            "left": null,
            "margin": null,
            "max_height": null,
            "max_width": null,
            "min_height": null,
            "min_width": null,
            "object_fit": null,
            "object_position": null,
            "order": null,
            "overflow": null,
            "overflow_x": null,
            "overflow_y": null,
            "padding": null,
            "right": null,
            "top": null,
            "visibility": null,
            "width": null
          }
        },
        "f4a4abb55d774484a11692e79cdd64f6": {
          "model_module": "@jupyter-widgets/controls",
          "model_name": "DescriptionStyleModel",
          "model_module_version": "1.5.0",
          "state": {
            "_model_module": "@jupyter-widgets/controls",
            "_model_module_version": "1.5.0",
            "_model_name": "DescriptionStyleModel",
            "_view_count": null,
            "_view_module": "@jupyter-widgets/base",
            "_view_module_version": "1.2.0",
            "_view_name": "StyleView",
            "description_width": ""
          }
        },
        "a07534f5b22e4494987b44b5e77bc7cc": {
          "model_module": "@jupyter-widgets/base",
          "model_name": "LayoutModel",
          "model_module_version": "1.2.0",
          "state": {
            "_model_module": "@jupyter-widgets/base",
            "_model_module_version": "1.2.0",
            "_model_name": "LayoutModel",
            "_view_count": null,
            "_view_module": "@jupyter-widgets/base",
            "_view_module_version": "1.2.0",
            "_view_name": "LayoutView",
            "align_content": null,
            "align_items": null,
            "align_self": null,
            "border": null,
            "bottom": null,
            "display": null,
            "flex": null,
            "flex_flow": null,
            "grid_area": null,
            "grid_auto_columns": null,
            "grid_auto_flow": null,
            "grid_auto_rows": null,
            "grid_column": null,
            "grid_gap": null,
            "grid_row": null,
            "grid_template_areas": null,
            "grid_template_columns": null,
            "grid_template_rows": null,
            "height": null,
            "justify_content": null,
            "justify_items": null,
            "left": null,
            "margin": null,
            "max_height": null,
            "max_width": null,
            "min_height": null,
            "min_width": null,
            "object_fit": null,
            "object_position": null,
            "order": null,
            "overflow": null,
            "overflow_x": null,
            "overflow_y": null,
            "padding": null,
            "right": null,
            "top": null,
            "visibility": null,
            "width": null
          }
        },
        "6166c55f4ffa4ac696ca19a4818a78b3": {
          "model_module": "@jupyter-widgets/controls",
          "model_name": "ProgressStyleModel",
          "model_module_version": "1.5.0",
          "state": {
            "_model_module": "@jupyter-widgets/controls",
            "_model_module_version": "1.5.0",
            "_model_name": "ProgressStyleModel",
            "_view_count": null,
            "_view_module": "@jupyter-widgets/base",
            "_view_module_version": "1.2.0",
            "_view_name": "StyleView",
            "bar_color": null,
            "description_width": ""
          }
        },
        "ba17a266860b444489ed8dad71f2e307": {
          "model_module": "@jupyter-widgets/base",
          "model_name": "LayoutModel",
          "model_module_version": "1.2.0",
          "state": {
            "_model_module": "@jupyter-widgets/base",
            "_model_module_version": "1.2.0",
            "_model_name": "LayoutModel",
            "_view_count": null,
            "_view_module": "@jupyter-widgets/base",
            "_view_module_version": "1.2.0",
            "_view_name": "LayoutView",
            "align_content": null,
            "align_items": null,
            "align_self": null,
            "border": null,
            "bottom": null,
            "display": null,
            "flex": null,
            "flex_flow": null,
            "grid_area": null,
            "grid_auto_columns": null,
            "grid_auto_flow": null,
            "grid_auto_rows": null,
            "grid_column": null,
            "grid_gap": null,
            "grid_row": null,
            "grid_template_areas": null,
            "grid_template_columns": null,
            "grid_template_rows": null,
            "height": null,
            "justify_content": null,
            "justify_items": null,
            "left": null,
            "margin": null,
            "max_height": null,
            "max_width": null,
            "min_height": null,
            "min_width": null,
            "object_fit": null,
            "object_position": null,
            "order": null,
            "overflow": null,
            "overflow_x": null,
            "overflow_y": null,
            "padding": null,
            "right": null,
            "top": null,
            "visibility": null,
            "width": null
          }
        },
        "b56db44d6e3545dc9b8b5c70956093a5": {
          "model_module": "@jupyter-widgets/controls",
          "model_name": "DescriptionStyleModel",
          "model_module_version": "1.5.0",
          "state": {
            "_model_module": "@jupyter-widgets/controls",
            "_model_module_version": "1.5.0",
            "_model_name": "DescriptionStyleModel",
            "_view_count": null,
            "_view_module": "@jupyter-widgets/base",
            "_view_module_version": "1.2.0",
            "_view_name": "StyleView",
            "description_width": ""
          }
        },
        "6992ba873b6c40579df0d1a6d7f0a3a8": {
          "model_module": "@jupyter-widgets/controls",
          "model_name": "HBoxModel",
          "model_module_version": "1.5.0",
          "state": {
            "_dom_classes": [],
            "_model_module": "@jupyter-widgets/controls",
            "_model_module_version": "1.5.0",
            "_model_name": "HBoxModel",
            "_view_count": null,
            "_view_module": "@jupyter-widgets/controls",
            "_view_module_version": "1.5.0",
            "_view_name": "HBoxView",
            "box_style": "",
            "children": [
              "IPY_MODEL_f8b594d4cdf742b18738a27738a629ab",
              "IPY_MODEL_94c63f02fc244c298da45a424285b856",
              "IPY_MODEL_a5e6b7a59e454ff2aa5ae9a33bf94934"
            ],
            "layout": "IPY_MODEL_fb290e97d8cd454c87777779416d353a"
          }
        },
        "f8b594d4cdf742b18738a27738a629ab": {
          "model_module": "@jupyter-widgets/controls",
          "model_name": "HTMLModel",
          "model_module_version": "1.5.0",
          "state": {
            "_dom_classes": [],
            "_model_module": "@jupyter-widgets/controls",
            "_model_module_version": "1.5.0",
            "_model_name": "HTMLModel",
            "_view_count": null,
            "_view_module": "@jupyter-widgets/controls",
            "_view_module_version": "1.5.0",
            "_view_name": "HTMLView",
            "description": "",
            "description_tooltip": null,
            "layout": "IPY_MODEL_de7d0b31870941a2a468286236c3c702",
            "placeholder": "​",
            "style": "IPY_MODEL_891c13d8480c49ab859fbbc00fee3657",
            "value": "Downloading: 100%"
          }
        },
        "94c63f02fc244c298da45a424285b856": {
          "model_module": "@jupyter-widgets/controls",
          "model_name": "FloatProgressModel",
          "model_module_version": "1.5.0",
          "state": {
            "_dom_classes": [],
            "_model_module": "@jupyter-widgets/controls",
            "_model_module_version": "1.5.0",
            "_model_name": "FloatProgressModel",
            "_view_count": null,
            "_view_module": "@jupyter-widgets/controls",
            "_view_module_version": "1.5.0",
            "_view_name": "ProgressView",
            "bar_style": "success",
            "description": "",
            "description_tooltip": null,
            "layout": "IPY_MODEL_49ac3d79f7b0414bb3f4d818b4276917",
            "max": 345823776,
            "min": 0,
            "orientation": "horizontal",
            "style": "IPY_MODEL_1c931251f605446bb2c608c898a8b522",
            "value": 345823776
          }
        },
        "a5e6b7a59e454ff2aa5ae9a33bf94934": {
          "model_module": "@jupyter-widgets/controls",
          "model_name": "HTMLModel",
          "model_module_version": "1.5.0",
          "state": {
            "_dom_classes": [],
            "_model_module": "@jupyter-widgets/controls",
            "_model_module_version": "1.5.0",
            "_model_name": "HTMLModel",
            "_view_count": null,
            "_view_module": "@jupyter-widgets/controls",
            "_view_module_version": "1.5.0",
            "_view_name": "HTMLView",
            "description": "",
            "description_tooltip": null,
            "layout": "IPY_MODEL_2e3f9b05be5c4361b4ed7e12628b727e",
            "placeholder": "​",
            "style": "IPY_MODEL_8ecd0c1b408e4cafacf897112cf0019f",
            "value": " 346M/346M [00:07&lt;00:00, 47.2MB/s]"
          }
        },
        "fb290e97d8cd454c87777779416d353a": {
          "model_module": "@jupyter-widgets/base",
          "model_name": "LayoutModel",
          "model_module_version": "1.2.0",
          "state": {
            "_model_module": "@jupyter-widgets/base",
            "_model_module_version": "1.2.0",
            "_model_name": "LayoutModel",
            "_view_count": null,
            "_view_module": "@jupyter-widgets/base",
            "_view_module_version": "1.2.0",
            "_view_name": "LayoutView",
            "align_content": null,
            "align_items": null,
            "align_self": null,
            "border": null,
            "bottom": null,
            "display": null,
            "flex": null,
            "flex_flow": null,
            "grid_area": null,
            "grid_auto_columns": null,
            "grid_auto_flow": null,
            "grid_auto_rows": null,
            "grid_column": null,
            "grid_gap": null,
            "grid_row": null,
            "grid_template_areas": null,
            "grid_template_columns": null,
            "grid_template_rows": null,
            "height": null,
            "justify_content": null,
            "justify_items": null,
            "left": null,
            "margin": null,
            "max_height": null,
            "max_width": null,
            "min_height": null,
            "min_width": null,
            "object_fit": null,
            "object_position": null,
            "order": null,
            "overflow": null,
            "overflow_x": null,
            "overflow_y": null,
            "padding": null,
            "right": null,
            "top": null,
            "visibility": null,
            "width": null
          }
        },
        "de7d0b31870941a2a468286236c3c702": {
          "model_module": "@jupyter-widgets/base",
          "model_name": "LayoutModel",
          "model_module_version": "1.2.0",
          "state": {
            "_model_module": "@jupyter-widgets/base",
            "_model_module_version": "1.2.0",
            "_model_name": "LayoutModel",
            "_view_count": null,
            "_view_module": "@jupyter-widgets/base",
            "_view_module_version": "1.2.0",
            "_view_name": "LayoutView",
            "align_content": null,
            "align_items": null,
            "align_self": null,
            "border": null,
            "bottom": null,
            "display": null,
            "flex": null,
            "flex_flow": null,
            "grid_area": null,
            "grid_auto_columns": null,
            "grid_auto_flow": null,
            "grid_auto_rows": null,
            "grid_column": null,
            "grid_gap": null,
            "grid_row": null,
            "grid_template_areas": null,
            "grid_template_columns": null,
            "grid_template_rows": null,
            "height": null,
            "justify_content": null,
            "justify_items": null,
            "left": null,
            "margin": null,
            "max_height": null,
            "max_width": null,
            "min_height": null,
            "min_width": null,
            "object_fit": null,
            "object_position": null,
            "order": null,
            "overflow": null,
            "overflow_x": null,
            "overflow_y": null,
            "padding": null,
            "right": null,
            "top": null,
            "visibility": null,
            "width": null
          }
        },
        "891c13d8480c49ab859fbbc00fee3657": {
          "model_module": "@jupyter-widgets/controls",
          "model_name": "DescriptionStyleModel",
          "model_module_version": "1.5.0",
          "state": {
            "_model_module": "@jupyter-widgets/controls",
            "_model_module_version": "1.5.0",
            "_model_name": "DescriptionStyleModel",
            "_view_count": null,
            "_view_module": "@jupyter-widgets/base",
            "_view_module_version": "1.2.0",
            "_view_name": "StyleView",
            "description_width": ""
          }
        },
        "49ac3d79f7b0414bb3f4d818b4276917": {
          "model_module": "@jupyter-widgets/base",
          "model_name": "LayoutModel",
          "model_module_version": "1.2.0",
          "state": {
            "_model_module": "@jupyter-widgets/base",
            "_model_module_version": "1.2.0",
            "_model_name": "LayoutModel",
            "_view_count": null,
            "_view_module": "@jupyter-widgets/base",
            "_view_module_version": "1.2.0",
            "_view_name": "LayoutView",
            "align_content": null,
            "align_items": null,
            "align_self": null,
            "border": null,
            "bottom": null,
            "display": null,
            "flex": null,
            "flex_flow": null,
            "grid_area": null,
            "grid_auto_columns": null,
            "grid_auto_flow": null,
            "grid_auto_rows": null,
            "grid_column": null,
            "grid_gap": null,
            "grid_row": null,
            "grid_template_areas": null,
            "grid_template_columns": null,
            "grid_template_rows": null,
            "height": null,
            "justify_content": null,
            "justify_items": null,
            "left": null,
            "margin": null,
            "max_height": null,
            "max_width": null,
            "min_height": null,
            "min_width": null,
            "object_fit": null,
            "object_position": null,
            "order": null,
            "overflow": null,
            "overflow_x": null,
            "overflow_y": null,
            "padding": null,
            "right": null,
            "top": null,
            "visibility": null,
            "width": null
          }
        },
        "1c931251f605446bb2c608c898a8b522": {
          "model_module": "@jupyter-widgets/controls",
          "model_name": "ProgressStyleModel",
          "model_module_version": "1.5.0",
          "state": {
            "_model_module": "@jupyter-widgets/controls",
            "_model_module_version": "1.5.0",
            "_model_name": "ProgressStyleModel",
            "_view_count": null,
            "_view_module": "@jupyter-widgets/base",
            "_view_module_version": "1.2.0",
            "_view_name": "StyleView",
            "bar_color": null,
            "description_width": ""
          }
        },
        "2e3f9b05be5c4361b4ed7e12628b727e": {
          "model_module": "@jupyter-widgets/base",
          "model_name": "LayoutModel",
          "model_module_version": "1.2.0",
          "state": {
            "_model_module": "@jupyter-widgets/base",
            "_model_module_version": "1.2.0",
            "_model_name": "LayoutModel",
            "_view_count": null,
            "_view_module": "@jupyter-widgets/base",
            "_view_module_version": "1.2.0",
            "_view_name": "LayoutView",
            "align_content": null,
            "align_items": null,
            "align_self": null,
            "border": null,
            "bottom": null,
            "display": null,
            "flex": null,
            "flex_flow": null,
            "grid_area": null,
            "grid_auto_columns": null,
            "grid_auto_flow": null,
            "grid_auto_rows": null,
            "grid_column": null,
            "grid_gap": null,
            "grid_row": null,
            "grid_template_areas": null,
            "grid_template_columns": null,
            "grid_template_rows": null,
            "height": null,
            "justify_content": null,
            "justify_items": null,
            "left": null,
            "margin": null,
            "max_height": null,
            "max_width": null,
            "min_height": null,
            "min_width": null,
            "object_fit": null,
            "object_position": null,
            "order": null,
            "overflow": null,
            "overflow_x": null,
            "overflow_y": null,
            "padding": null,
            "right": null,
            "top": null,
            "visibility": null,
            "width": null
          }
        },
        "8ecd0c1b408e4cafacf897112cf0019f": {
          "model_module": "@jupyter-widgets/controls",
          "model_name": "DescriptionStyleModel",
          "model_module_version": "1.5.0",
          "state": {
            "_model_module": "@jupyter-widgets/controls",
            "_model_module_version": "1.5.0",
            "_model_name": "DescriptionStyleModel",
            "_view_count": null,
            "_view_module": "@jupyter-widgets/base",
            "_view_module_version": "1.2.0",
            "_view_name": "StyleView",
            "description_width": ""
          }
        }
      }
    }
  },
  "cells": [
    {
      "cell_type": "markdown",
      "source": [
        "# Concatenation Model"
      ],
      "metadata": {
        "id": "zEsdDIIgq5W3"
      }
    },
    {
      "cell_type": "markdown",
      "source": [
        "## Install Prerequsities"
      ],
      "metadata": {
        "id": "IkpNBZfISyeV"
      }
    },
    {
      "cell_type": "code",
      "source": [
        "! pip install virtualenv"
      ],
      "metadata": {
        "id": "nDKXHrdnfE06",
        "colab": {
          "base_uri": "https://localhost:8080/"
        },
        "outputId": "1b6d7d77-7366-4747-e33c-b48fec4d1b1d"
      },
      "execution_count": null,
      "outputs": [
        {
          "output_type": "stream",
          "name": "stdout",
          "text": [
            "Looking in indexes: https://pypi.org/simple, https://us-python.pkg.dev/colab-wheels/public/simple/\n",
            "Collecting virtualenv\n",
            "  Downloading virtualenv-20.17.1-py3-none-any.whl (8.8 MB)\n",
            "\u001b[K     |████████████████████████████████| 8.8 MB 4.9 MB/s \n",
            "\u001b[?25hRequirement already satisfied: platformdirs<3,>=2.4 in /usr/local/lib/python3.8/dist-packages (from virtualenv) (2.5.4)\n",
            "Requirement already satisfied: filelock<4,>=3.4.1 in /usr/local/lib/python3.8/dist-packages (from virtualenv) (3.8.0)\n",
            "Collecting distlib<1,>=0.3.6\n",
            "  Downloading distlib-0.3.6-py2.py3-none-any.whl (468 kB)\n",
            "\u001b[K     |████████████████████████████████| 468 kB 92.7 MB/s \n",
            "\u001b[?25hInstalling collected packages: distlib, virtualenv\n",
            "Successfully installed distlib-0.3.6 virtualenv-20.17.1\n"
          ]
        }
      ]
    },
    {
      "cell_type": "code",
      "source": [
        "! virtualenv env"
      ],
      "metadata": {
        "id": "FjBYs5oyfJDo",
        "colab": {
          "base_uri": "https://localhost:8080/"
        },
        "outputId": "724ece27-69f4-4d06-c4cc-e192c3067b81"
      },
      "execution_count": null,
      "outputs": [
        {
          "output_type": "stream",
          "name": "stdout",
          "text": [
            "created virtual environment CPython3.8.16.final.0-64 in 398ms\n",
            "  creator CPython3Posix(dest=/content/env, clear=False, no_vcs_ignore=False, global=False)\n",
            "  seeder FromAppData(download=False, pip=bundle, setuptools=bundle, wheel=bundle, via=copy, app_data_dir=/root/.local/share/virtualenv)\n",
            "    added seed packages: pip==22.3.1, setuptools==65.6.3, wheel==0.38.4\n",
            "  activators BashActivator,CShellActivator,FishActivator,NushellActivator,PowerShellActivator,PythonActivator\n"
          ]
        }
      ]
    },
    {
      "cell_type": "code",
      "source": [
        "! source env/bin/activate"
      ],
      "metadata": {
        "id": "CWlocNXxfTPu"
      },
      "execution_count": null,
      "outputs": []
    },
    {
      "cell_type": "code",
      "source": [
        "!pip install transformers[tf-cpu]"
      ],
      "metadata": {
        "id": "m5qZ-plqSw7y",
        "colab": {
          "base_uri": "https://localhost:8080/"
        },
        "outputId": "0e19b380-3b7f-47af-d243-b3ae52ae2a30"
      },
      "execution_count": null,
      "outputs": [
        {
          "output_type": "stream",
          "name": "stdout",
          "text": [
            "Looking in indexes: https://pypi.org/simple, https://us-python.pkg.dev/colab-wheels/public/simple/\n",
            "Collecting transformers[tf-cpu]\n",
            "  Downloading transformers-4.25.1-py3-none-any.whl (5.8 MB)\n",
            "\u001b[K     |████████████████████████████████| 5.8 MB 4.5 MB/s \n",
            "\u001b[?25hRequirement already satisfied: filelock in /usr/local/lib/python3.8/dist-packages (from transformers[tf-cpu]) (3.8.0)\n",
            "Requirement already satisfied: numpy>=1.17 in /usr/local/lib/python3.8/dist-packages (from transformers[tf-cpu]) (1.21.6)\n",
            "Requirement already satisfied: regex!=2019.12.17 in /usr/local/lib/python3.8/dist-packages (from transformers[tf-cpu]) (2022.6.2)\n",
            "Collecting tokenizers!=0.11.3,<0.14,>=0.11.1\n",
            "  Downloading tokenizers-0.13.2-cp38-cp38-manylinux_2_17_x86_64.manylinux2014_x86_64.whl (7.6 MB)\n",
            "\u001b[K     |████████████████████████████████| 7.6 MB 95.9 MB/s \n",
            "\u001b[?25hRequirement already satisfied: tqdm>=4.27 in /usr/local/lib/python3.8/dist-packages (from transformers[tf-cpu]) (4.64.1)\n",
            "Requirement already satisfied: pyyaml>=5.1 in /usr/local/lib/python3.8/dist-packages (from transformers[tf-cpu]) (6.0)\n",
            "Collecting huggingface-hub<1.0,>=0.10.0\n",
            "  Downloading huggingface_hub-0.11.1-py3-none-any.whl (182 kB)\n",
            "\u001b[K     |████████████████████████████████| 182 kB 91.9 MB/s \n",
            "\u001b[?25hRequirement already satisfied: packaging>=20.0 in /usr/local/lib/python3.8/dist-packages (from transformers[tf-cpu]) (21.3)\n",
            "Requirement already satisfied: requests in /usr/local/lib/python3.8/dist-packages (from transformers[tf-cpu]) (2.23.0)\n",
            "Collecting tensorflow-text\n",
            "  Downloading tensorflow_text-2.11.0-cp38-cp38-manylinux_2_17_x86_64.manylinux2014_x86_64.whl (5.8 MB)\n",
            "\u001b[K     |████████████████████████████████| 5.8 MB 83.7 MB/s \n",
            "\u001b[?25hCollecting tensorflow-cpu<2.11,>=2.4\n",
            "  Downloading tensorflow_cpu-2.10.1-cp38-cp38-manylinux_2_17_x86_64.manylinux2014_x86_64.whl (214.5 MB)\n",
            "\u001b[K     |████████████████████████████████| 214.5 MB 79 kB/s \n",
            "\u001b[?25hCollecting keras-nlp>=0.3.1\n",
            "  Downloading keras_nlp-0.3.1-py3-none-any.whl (151 kB)\n",
            "\u001b[K     |████████████████████████████████| 151 kB 105.6 MB/s \n",
            "\u001b[?25hCollecting tf2onnx\n",
            "  Downloading tf2onnx-1.13.0-py3-none-any.whl (442 kB)\n",
            "\u001b[K     |████████████████████████████████| 442 kB 99.4 MB/s \n",
            "\u001b[?25hCollecting onnxconverter-common\n",
            "  Downloading onnxconverter_common-1.13.0-py2.py3-none-any.whl (83 kB)\n",
            "\u001b[K     |████████████████████████████████| 83 kB 3.3 MB/s \n",
            "\u001b[?25hRequirement already satisfied: typing-extensions>=3.7.4.3 in /usr/local/lib/python3.8/dist-packages (from huggingface-hub<1.0,>=0.10.0->transformers[tf-cpu]) (4.4.0)\n",
            "Requirement already satisfied: absl-py in /usr/local/lib/python3.8/dist-packages (from keras-nlp>=0.3.1->transformers[tf-cpu]) (1.3.0)\n",
            "Requirement already satisfied: tensorflow in /usr/local/lib/python3.8/dist-packages (from keras-nlp>=0.3.1->transformers[tf-cpu]) (2.9.2)\n",
            "Requirement already satisfied: pyparsing!=3.0.5,>=2.0.2 in /usr/local/lib/python3.8/dist-packages (from packaging>=20.0->transformers[tf-cpu]) (3.0.9)\n",
            "Requirement already satisfied: gast<=0.4.0,>=0.2.1 in /usr/local/lib/python3.8/dist-packages (from tensorflow-cpu<2.11,>=2.4->transformers[tf-cpu]) (0.4.0)\n",
            "Requirement already satisfied: opt-einsum>=2.3.2 in /usr/local/lib/python3.8/dist-packages (from tensorflow-cpu<2.11,>=2.4->transformers[tf-cpu]) (3.3.0)\n",
            "Requirement already satisfied: setuptools in /usr/local/lib/python3.8/dist-packages (from tensorflow-cpu<2.11,>=2.4->transformers[tf-cpu]) (57.4.0)\n",
            "Requirement already satisfied: termcolor>=1.1.0 in /usr/local/lib/python3.8/dist-packages (from tensorflow-cpu<2.11,>=2.4->transformers[tf-cpu]) (2.1.1)\n",
            "Requirement already satisfied: libclang>=13.0.0 in /usr/local/lib/python3.8/dist-packages (from tensorflow-cpu<2.11,>=2.4->transformers[tf-cpu]) (14.0.6)\n",
            "Requirement already satisfied: six>=1.12.0 in /usr/local/lib/python3.8/dist-packages (from tensorflow-cpu<2.11,>=2.4->transformers[tf-cpu]) (1.15.0)\n",
            "Collecting tensorboard<2.11,>=2.10\n",
            "  Downloading tensorboard-2.10.1-py3-none-any.whl (5.9 MB)\n",
            "\u001b[K     |████████████████████████████████| 5.9 MB 88.9 MB/s \n",
            "\u001b[?25hRequirement already satisfied: astunparse>=1.6.0 in /usr/local/lib/python3.8/dist-packages (from tensorflow-cpu<2.11,>=2.4->transformers[tf-cpu]) (1.6.3)\n",
            "Collecting keras<2.11,>=2.10.0\n",
            "  Downloading keras-2.10.0-py2.py3-none-any.whl (1.7 MB)\n",
            "\u001b[K     |████████████████████████████████| 1.7 MB 86.1 MB/s \n",
            "\u001b[?25hCollecting flatbuffers>=2.0\n",
            "  Downloading flatbuffers-22.12.6-py2.py3-none-any.whl (26 kB)\n",
            "Requirement already satisfied: google-pasta>=0.1.1 in /usr/local/lib/python3.8/dist-packages (from tensorflow-cpu<2.11,>=2.4->transformers[tf-cpu]) (0.2.0)\n",
            "Requirement already satisfied: tensorflow-io-gcs-filesystem>=0.23.1 in /usr/local/lib/python3.8/dist-packages (from tensorflow-cpu<2.11,>=2.4->transformers[tf-cpu]) (0.28.0)\n",
            "Collecting tensorflow-estimator<2.11,>=2.10.0\n",
            "  Downloading tensorflow_estimator-2.10.0-py2.py3-none-any.whl (438 kB)\n",
            "\u001b[K     |████████████████████████████████| 438 kB 95.4 MB/s \n",
            "\u001b[?25hRequirement already satisfied: wrapt>=1.11.0 in /usr/local/lib/python3.8/dist-packages (from tensorflow-cpu<2.11,>=2.4->transformers[tf-cpu]) (1.14.1)\n",
            "Requirement already satisfied: keras-preprocessing>=1.1.1 in /usr/local/lib/python3.8/dist-packages (from tensorflow-cpu<2.11,>=2.4->transformers[tf-cpu]) (1.1.2)\n",
            "Requirement already satisfied: grpcio<2.0,>=1.24.3 in /usr/local/lib/python3.8/dist-packages (from tensorflow-cpu<2.11,>=2.4->transformers[tf-cpu]) (1.51.1)\n",
            "Requirement already satisfied: h5py>=2.9.0 in /usr/local/lib/python3.8/dist-packages (from tensorflow-cpu<2.11,>=2.4->transformers[tf-cpu]) (3.1.0)\n",
            "Requirement already satisfied: protobuf<3.20,>=3.9.2 in /usr/local/lib/python3.8/dist-packages (from tensorflow-cpu<2.11,>=2.4->transformers[tf-cpu]) (3.19.6)\n",
            "Requirement already satisfied: wheel<1.0,>=0.23.0 in /usr/local/lib/python3.8/dist-packages (from astunparse>=1.6.0->tensorflow-cpu<2.11,>=2.4->transformers[tf-cpu]) (0.38.4)\n",
            "Requirement already satisfied: google-auth-oauthlib<0.5,>=0.4.1 in /usr/local/lib/python3.8/dist-packages (from tensorboard<2.11,>=2.10->tensorflow-cpu<2.11,>=2.4->transformers[tf-cpu]) (0.4.6)\n",
            "Requirement already satisfied: markdown>=2.6.8 in /usr/local/lib/python3.8/dist-packages (from tensorboard<2.11,>=2.10->tensorflow-cpu<2.11,>=2.4->transformers[tf-cpu]) (3.4.1)\n",
            "Requirement already satisfied: tensorboard-plugin-wit>=1.6.0 in /usr/local/lib/python3.8/dist-packages (from tensorboard<2.11,>=2.10->tensorflow-cpu<2.11,>=2.4->transformers[tf-cpu]) (1.8.1)\n",
            "Requirement already satisfied: google-auth<3,>=1.6.3 in /usr/local/lib/python3.8/dist-packages (from tensorboard<2.11,>=2.10->tensorflow-cpu<2.11,>=2.4->transformers[tf-cpu]) (2.15.0)\n",
            "Requirement already satisfied: tensorboard-data-server<0.7.0,>=0.6.0 in /usr/local/lib/python3.8/dist-packages (from tensorboard<2.11,>=2.10->tensorflow-cpu<2.11,>=2.4->transformers[tf-cpu]) (0.6.1)\n",
            "Requirement already satisfied: werkzeug>=1.0.1 in /usr/local/lib/python3.8/dist-packages (from tensorboard<2.11,>=2.10->tensorflow-cpu<2.11,>=2.4->transformers[tf-cpu]) (1.0.1)\n",
            "Requirement already satisfied: pyasn1-modules>=0.2.1 in /usr/local/lib/python3.8/dist-packages (from google-auth<3,>=1.6.3->tensorboard<2.11,>=2.10->tensorflow-cpu<2.11,>=2.4->transformers[tf-cpu]) (0.2.8)\n",
            "Requirement already satisfied: rsa<5,>=3.1.4 in /usr/local/lib/python3.8/dist-packages (from google-auth<3,>=1.6.3->tensorboard<2.11,>=2.10->tensorflow-cpu<2.11,>=2.4->transformers[tf-cpu]) (4.9)\n",
            "Requirement already satisfied: cachetools<6.0,>=2.0.0 in /usr/local/lib/python3.8/dist-packages (from google-auth<3,>=1.6.3->tensorboard<2.11,>=2.10->tensorflow-cpu<2.11,>=2.4->transformers[tf-cpu]) (5.2.0)\n",
            "Requirement already satisfied: requests-oauthlib>=0.7.0 in /usr/local/lib/python3.8/dist-packages (from google-auth-oauthlib<0.5,>=0.4.1->tensorboard<2.11,>=2.10->tensorflow-cpu<2.11,>=2.4->transformers[tf-cpu]) (1.3.1)\n",
            "Requirement already satisfied: importlib-metadata>=4.4 in /usr/local/lib/python3.8/dist-packages (from markdown>=2.6.8->tensorboard<2.11,>=2.10->tensorflow-cpu<2.11,>=2.4->transformers[tf-cpu]) (4.13.0)\n",
            "Requirement already satisfied: zipp>=0.5 in /usr/local/lib/python3.8/dist-packages (from importlib-metadata>=4.4->markdown>=2.6.8->tensorboard<2.11,>=2.10->tensorflow-cpu<2.11,>=2.4->transformers[tf-cpu]) (3.11.0)\n",
            "Requirement already satisfied: pyasn1<0.5.0,>=0.4.6 in /usr/local/lib/python3.8/dist-packages (from pyasn1-modules>=0.2.1->google-auth<3,>=1.6.3->tensorboard<2.11,>=2.10->tensorflow-cpu<2.11,>=2.4->transformers[tf-cpu]) (0.4.8)\n",
            "Requirement already satisfied: chardet<4,>=3.0.2 in /usr/local/lib/python3.8/dist-packages (from requests->transformers[tf-cpu]) (3.0.4)\n",
            "Requirement already satisfied: idna<3,>=2.5 in /usr/local/lib/python3.8/dist-packages (from requests->transformers[tf-cpu]) (2.10)\n",
            "Requirement already satisfied: certifi>=2017.4.17 in /usr/local/lib/python3.8/dist-packages (from requests->transformers[tf-cpu]) (2022.9.24)\n",
            "Requirement already satisfied: urllib3!=1.25.0,!=1.25.1,<1.26,>=1.21.1 in /usr/local/lib/python3.8/dist-packages (from requests->transformers[tf-cpu]) (1.24.3)\n",
            "Requirement already satisfied: oauthlib>=3.0.0 in /usr/local/lib/python3.8/dist-packages (from requests-oauthlib>=0.7.0->google-auth-oauthlib<0.5,>=0.4.1->tensorboard<2.11,>=2.10->tensorflow-cpu<2.11,>=2.4->transformers[tf-cpu]) (3.2.2)\n",
            "Collecting onnx\n",
            "  Downloading onnx-1.12.0-cp38-cp38-manylinux_2_17_x86_64.manylinux2014_x86_64.whl (13.1 MB)\n",
            "\u001b[K     |████████████████████████████████| 13.1 MB 96.4 MB/s \n",
            "\u001b[?25hCollecting tensorflow\n",
            "  Downloading tensorflow-2.11.0-cp38-cp38-manylinux_2_17_x86_64.manylinux2014_x86_64.whl (588.3 MB)\n",
            "\u001b[K     |████████████████████████████████| 588.3 MB 24 kB/s \n",
            "\u001b[?25h  Downloading tensorflow-2.10.1-cp38-cp38-manylinux_2_17_x86_64.manylinux2014_x86_64.whl (578.1 MB)\n",
            "\u001b[K     |████████████████████████████████| 578.1 MB 9.0 kB/s \n",
            "\u001b[?25hRequirement already satisfied: tensorflow-hub>=0.8.0 in /usr/local/lib/python3.8/dist-packages (from tensorflow-text->transformers[tf-cpu]) (0.12.0)\n",
            "INFO: pip is looking at multiple versions of tensorflow-text to determine which version is compatible with other requirements. This could take a while.\n",
            "Collecting tensorflow-text\n",
            "  Downloading tensorflow_text-2.10.0-cp38-cp38-manylinux_2_17_x86_64.manylinux2014_x86_64.whl (5.9 MB)\n",
            "\u001b[K     |████████████████████████████████| 5.9 MB 50.9 MB/s \n",
            "\u001b[?25hCollecting flatbuffers>=2.0\n",
            "  Downloading flatbuffers-2.0.7-py2.py3-none-any.whl (26 kB)\n",
            "Installing collected packages: tensorflow-estimator, tensorboard, keras, flatbuffers, tensorflow, tokenizers, tensorflow-text, onnx, huggingface-hub, transformers, tf2onnx, tensorflow-cpu, onnxconverter-common, keras-nlp\n",
            "  Attempting uninstall: tensorflow-estimator\n",
            "    Found existing installation: tensorflow-estimator 2.9.0\n",
            "    Uninstalling tensorflow-estimator-2.9.0:\n",
            "      Successfully uninstalled tensorflow-estimator-2.9.0\n",
            "  Attempting uninstall: tensorboard\n",
            "    Found existing installation: tensorboard 2.9.1\n",
            "    Uninstalling tensorboard-2.9.1:\n",
            "      Successfully uninstalled tensorboard-2.9.1\n",
            "  Attempting uninstall: keras\n",
            "    Found existing installation: keras 2.9.0\n",
            "    Uninstalling keras-2.9.0:\n",
            "      Successfully uninstalled keras-2.9.0\n",
            "  Attempting uninstall: flatbuffers\n",
            "    Found existing installation: flatbuffers 1.12\n",
            "    Uninstalling flatbuffers-1.12:\n",
            "      Successfully uninstalled flatbuffers-1.12\n",
            "  Attempting uninstall: tensorflow\n",
            "    Found existing installation: tensorflow 2.9.2\n",
            "    Uninstalling tensorflow-2.9.2:\n",
            "      Successfully uninstalled tensorflow-2.9.2\n",
            "Successfully installed flatbuffers-2.0.7 huggingface-hub-0.11.1 keras-2.10.0 keras-nlp-0.3.1 onnx-1.12.0 onnxconverter-common-1.13.0 tensorboard-2.10.1 tensorflow-2.10.1 tensorflow-cpu-2.10.1 tensorflow-estimator-2.10.0 tensorflow-text-2.10.0 tf2onnx-1.13.0 tokenizers-0.13.2 transformers-4.25.1\n"
          ]
        }
      ]
    },
    {
      "cell_type": "code",
      "source": [
        "!pip install datasets"
      ],
      "metadata": {
        "id": "cmxxj6lQVh-P",
        "colab": {
          "base_uri": "https://localhost:8080/"
        },
        "outputId": "d5d62773-507d-45d1-a57f-4afe226323f2"
      },
      "execution_count": null,
      "outputs": [
        {
          "output_type": "stream",
          "name": "stdout",
          "text": [
            "Looking in indexes: https://pypi.org/simple, https://us-python.pkg.dev/colab-wheels/public/simple/\n",
            "Collecting datasets\n",
            "  Downloading datasets-2.7.1-py3-none-any.whl (451 kB)\n",
            "\u001b[K     |████████████████████████████████| 451 kB 4.9 MB/s \n",
            "\u001b[?25hRequirement already satisfied: pyyaml>=5.1 in /usr/local/lib/python3.8/dist-packages (from datasets) (6.0)\n",
            "Collecting xxhash\n",
            "  Downloading xxhash-3.1.0-cp38-cp38-manylinux_2_17_x86_64.manylinux2014_x86_64.whl (212 kB)\n",
            "\u001b[K     |████████████████████████████████| 212 kB 91.1 MB/s \n",
            "\u001b[?25hRequirement already satisfied: aiohttp in /usr/local/lib/python3.8/dist-packages (from datasets) (3.8.3)\n",
            "Collecting responses<0.19\n",
            "  Downloading responses-0.18.0-py3-none-any.whl (38 kB)\n",
            "Requirement already satisfied: packaging in /usr/local/lib/python3.8/dist-packages (from datasets) (21.3)\n",
            "Requirement already satisfied: pandas in /usr/local/lib/python3.8/dist-packages (from datasets) (1.3.5)\n",
            "Requirement already satisfied: requests>=2.19.0 in /usr/local/lib/python3.8/dist-packages (from datasets) (2.23.0)\n",
            "Requirement already satisfied: pyarrow>=6.0.0 in /usr/local/lib/python3.8/dist-packages (from datasets) (9.0.0)\n",
            "Collecting multiprocess\n",
            "  Downloading multiprocess-0.70.14-py38-none-any.whl (132 kB)\n",
            "\u001b[K     |████████████████████████████████| 132 kB 80.2 MB/s \n",
            "\u001b[?25hRequirement already satisfied: huggingface-hub<1.0.0,>=0.2.0 in /usr/local/lib/python3.8/dist-packages (from datasets) (0.11.1)\n",
            "Requirement already satisfied: numpy>=1.17 in /usr/local/lib/python3.8/dist-packages (from datasets) (1.21.6)\n",
            "Requirement already satisfied: fsspec[http]>=2021.11.1 in /usr/local/lib/python3.8/dist-packages (from datasets) (2022.11.0)\n",
            "Requirement already satisfied: tqdm>=4.62.1 in /usr/local/lib/python3.8/dist-packages (from datasets) (4.64.1)\n",
            "Requirement already satisfied: dill<0.3.7 in /usr/local/lib/python3.8/dist-packages (from datasets) (0.3.6)\n",
            "Requirement already satisfied: yarl<2.0,>=1.0 in /usr/local/lib/python3.8/dist-packages (from aiohttp->datasets) (1.8.2)\n",
            "Requirement already satisfied: aiosignal>=1.1.2 in /usr/local/lib/python3.8/dist-packages (from aiohttp->datasets) (1.3.1)\n",
            "Requirement already satisfied: multidict<7.0,>=4.5 in /usr/local/lib/python3.8/dist-packages (from aiohttp->datasets) (6.0.3)\n",
            "Requirement already satisfied: attrs>=17.3.0 in /usr/local/lib/python3.8/dist-packages (from aiohttp->datasets) (22.1.0)\n",
            "Requirement already satisfied: charset-normalizer<3.0,>=2.0 in /usr/local/lib/python3.8/dist-packages (from aiohttp->datasets) (2.1.1)\n",
            "Requirement already satisfied: async-timeout<5.0,>=4.0.0a3 in /usr/local/lib/python3.8/dist-packages (from aiohttp->datasets) (4.0.2)\n",
            "Requirement already satisfied: frozenlist>=1.1.1 in /usr/local/lib/python3.8/dist-packages (from aiohttp->datasets) (1.3.3)\n",
            "Requirement already satisfied: filelock in /usr/local/lib/python3.8/dist-packages (from huggingface-hub<1.0.0,>=0.2.0->datasets) (3.8.0)\n",
            "Requirement already satisfied: typing-extensions>=3.7.4.3 in /usr/local/lib/python3.8/dist-packages (from huggingface-hub<1.0.0,>=0.2.0->datasets) (4.4.0)\n",
            "Requirement already satisfied: pyparsing!=3.0.5,>=2.0.2 in /usr/local/lib/python3.8/dist-packages (from packaging->datasets) (3.0.9)\n",
            "Requirement already satisfied: certifi>=2017.4.17 in /usr/local/lib/python3.8/dist-packages (from requests>=2.19.0->datasets) (2022.9.24)\n",
            "Requirement already satisfied: idna<3,>=2.5 in /usr/local/lib/python3.8/dist-packages (from requests>=2.19.0->datasets) (2.10)\n",
            "Requirement already satisfied: urllib3!=1.25.0,!=1.25.1,<1.26,>=1.21.1 in /usr/local/lib/python3.8/dist-packages (from requests>=2.19.0->datasets) (1.24.3)\n",
            "Requirement already satisfied: chardet<4,>=3.0.2 in /usr/local/lib/python3.8/dist-packages (from requests>=2.19.0->datasets) (3.0.4)\n",
            "Collecting urllib3!=1.25.0,!=1.25.1,<1.26,>=1.21.1\n",
            "  Downloading urllib3-1.25.11-py2.py3-none-any.whl (127 kB)\n",
            "\u001b[K     |████████████████████████████████| 127 kB 91.6 MB/s \n",
            "\u001b[?25hRequirement already satisfied: pytz>=2017.3 in /usr/local/lib/python3.8/dist-packages (from pandas->datasets) (2022.6)\n",
            "Requirement already satisfied: python-dateutil>=2.7.3 in /usr/local/lib/python3.8/dist-packages (from pandas->datasets) (2.8.2)\n",
            "Requirement already satisfied: six>=1.5 in /usr/local/lib/python3.8/dist-packages (from python-dateutil>=2.7.3->pandas->datasets) (1.15.0)\n",
            "Installing collected packages: urllib3, xxhash, responses, multiprocess, datasets\n",
            "  Attempting uninstall: urllib3\n",
            "    Found existing installation: urllib3 1.24.3\n",
            "    Uninstalling urllib3-1.24.3:\n",
            "      Successfully uninstalled urllib3-1.24.3\n",
            "Successfully installed datasets-2.7.1 multiprocess-0.70.14 responses-0.18.0 urllib3-1.25.11 xxhash-3.1.0\n"
          ]
        }
      ]
    },
    {
      "cell_type": "code",
      "source": [
        "!pip install tensorflow-gpu==2.10"
      ],
      "metadata": {
        "id": "u7fkty1ALqsA",
        "colab": {
          "base_uri": "https://localhost:8080/"
        },
        "outputId": "014f0c77-dc24-4c6f-c0a1-27f7ec499974"
      },
      "execution_count": null,
      "outputs": [
        {
          "output_type": "stream",
          "name": "stdout",
          "text": [
            "Looking in indexes: https://pypi.org/simple, https://us-python.pkg.dev/colab-wheels/public/simple/\n",
            "Collecting tensorflow-gpu==2.10\n",
            "  Downloading tensorflow_gpu-2.10.0-cp38-cp38-manylinux_2_17_x86_64.manylinux2014_x86_64.whl (578.1 MB)\n",
            "\u001b[K     |████████████████████████████████| 578.1 MB 7.4 kB/s \n",
            "\u001b[?25hRequirement already satisfied: astunparse>=1.6.0 in /usr/local/lib/python3.8/dist-packages (from tensorflow-gpu==2.10) (1.6.3)\n",
            "Requirement already satisfied: tensorboard<2.11,>=2.10 in /usr/local/lib/python3.8/dist-packages (from tensorflow-gpu==2.10) (2.10.1)\n",
            "Requirement already satisfied: keras<2.11,>=2.10.0 in /usr/local/lib/python3.8/dist-packages (from tensorflow-gpu==2.10) (2.10.0)\n",
            "Requirement already satisfied: absl-py>=1.0.0 in /usr/local/lib/python3.8/dist-packages (from tensorflow-gpu==2.10) (1.3.0)\n",
            "Requirement already satisfied: packaging in /usr/local/lib/python3.8/dist-packages (from tensorflow-gpu==2.10) (21.3)\n",
            "Requirement already satisfied: termcolor>=1.1.0 in /usr/local/lib/python3.8/dist-packages (from tensorflow-gpu==2.10) (2.1.1)\n",
            "Requirement already satisfied: flatbuffers>=2.0 in /usr/local/lib/python3.8/dist-packages (from tensorflow-gpu==2.10) (2.0.7)\n",
            "Requirement already satisfied: typing-extensions>=3.6.6 in /usr/local/lib/python3.8/dist-packages (from tensorflow-gpu==2.10) (4.4.0)\n",
            "Requirement already satisfied: tensorflow-io-gcs-filesystem>=0.23.1 in /usr/local/lib/python3.8/dist-packages (from tensorflow-gpu==2.10) (0.28.0)\n",
            "Requirement already satisfied: gast<=0.4.0,>=0.2.1 in /usr/local/lib/python3.8/dist-packages (from tensorflow-gpu==2.10) (0.4.0)\n",
            "Requirement already satisfied: numpy>=1.20 in /usr/local/lib/python3.8/dist-packages (from tensorflow-gpu==2.10) (1.21.6)\n",
            "Requirement already satisfied: h5py>=2.9.0 in /usr/local/lib/python3.8/dist-packages (from tensorflow-gpu==2.10) (3.1.0)\n",
            "Requirement already satisfied: grpcio<2.0,>=1.24.3 in /usr/local/lib/python3.8/dist-packages (from tensorflow-gpu==2.10) (1.51.1)\n",
            "Requirement already satisfied: keras-preprocessing>=1.1.1 in /usr/local/lib/python3.8/dist-packages (from tensorflow-gpu==2.10) (1.1.2)\n",
            "Requirement already satisfied: libclang>=13.0.0 in /usr/local/lib/python3.8/dist-packages (from tensorflow-gpu==2.10) (14.0.6)\n",
            "Requirement already satisfied: wrapt>=1.11.0 in /usr/local/lib/python3.8/dist-packages (from tensorflow-gpu==2.10) (1.14.1)\n",
            "Requirement already satisfied: protobuf<3.20,>=3.9.2 in /usr/local/lib/python3.8/dist-packages (from tensorflow-gpu==2.10) (3.19.6)\n",
            "Requirement already satisfied: tensorflow-estimator<2.11,>=2.10.0 in /usr/local/lib/python3.8/dist-packages (from tensorflow-gpu==2.10) (2.10.0)\n",
            "Requirement already satisfied: setuptools in /usr/local/lib/python3.8/dist-packages (from tensorflow-gpu==2.10) (57.4.0)\n",
            "Requirement already satisfied: opt-einsum>=2.3.2 in /usr/local/lib/python3.8/dist-packages (from tensorflow-gpu==2.10) (3.3.0)\n",
            "Requirement already satisfied: six>=1.12.0 in /usr/local/lib/python3.8/dist-packages (from tensorflow-gpu==2.10) (1.15.0)\n",
            "Requirement already satisfied: google-pasta>=0.1.1 in /usr/local/lib/python3.8/dist-packages (from tensorflow-gpu==2.10) (0.2.0)\n",
            "Requirement already satisfied: wheel<1.0,>=0.23.0 in /usr/local/lib/python3.8/dist-packages (from astunparse>=1.6.0->tensorflow-gpu==2.10) (0.38.4)\n",
            "Requirement already satisfied: tensorboard-data-server<0.7.0,>=0.6.0 in /usr/local/lib/python3.8/dist-packages (from tensorboard<2.11,>=2.10->tensorflow-gpu==2.10) (0.6.1)\n",
            "Requirement already satisfied: werkzeug>=1.0.1 in /usr/local/lib/python3.8/dist-packages (from tensorboard<2.11,>=2.10->tensorflow-gpu==2.10) (1.0.1)\n",
            "Requirement already satisfied: google-auth<3,>=1.6.3 in /usr/local/lib/python3.8/dist-packages (from tensorboard<2.11,>=2.10->tensorflow-gpu==2.10) (2.15.0)\n",
            "Requirement already satisfied: markdown>=2.6.8 in /usr/local/lib/python3.8/dist-packages (from tensorboard<2.11,>=2.10->tensorflow-gpu==2.10) (3.4.1)\n",
            "Requirement already satisfied: google-auth-oauthlib<0.5,>=0.4.1 in /usr/local/lib/python3.8/dist-packages (from tensorboard<2.11,>=2.10->tensorflow-gpu==2.10) (0.4.6)\n",
            "Requirement already satisfied: requests<3,>=2.21.0 in /usr/local/lib/python3.8/dist-packages (from tensorboard<2.11,>=2.10->tensorflow-gpu==2.10) (2.23.0)\n",
            "Requirement already satisfied: tensorboard-plugin-wit>=1.6.0 in /usr/local/lib/python3.8/dist-packages (from tensorboard<2.11,>=2.10->tensorflow-gpu==2.10) (1.8.1)\n",
            "Requirement already satisfied: rsa<5,>=3.1.4 in /usr/local/lib/python3.8/dist-packages (from google-auth<3,>=1.6.3->tensorboard<2.11,>=2.10->tensorflow-gpu==2.10) (4.9)\n",
            "Requirement already satisfied: pyasn1-modules>=0.2.1 in /usr/local/lib/python3.8/dist-packages (from google-auth<3,>=1.6.3->tensorboard<2.11,>=2.10->tensorflow-gpu==2.10) (0.2.8)\n",
            "Requirement already satisfied: cachetools<6.0,>=2.0.0 in /usr/local/lib/python3.8/dist-packages (from google-auth<3,>=1.6.3->tensorboard<2.11,>=2.10->tensorflow-gpu==2.10) (5.2.0)\n",
            "Requirement already satisfied: requests-oauthlib>=0.7.0 in /usr/local/lib/python3.8/dist-packages (from google-auth-oauthlib<0.5,>=0.4.1->tensorboard<2.11,>=2.10->tensorflow-gpu==2.10) (1.3.1)\n",
            "Requirement already satisfied: importlib-metadata>=4.4 in /usr/local/lib/python3.8/dist-packages (from markdown>=2.6.8->tensorboard<2.11,>=2.10->tensorflow-gpu==2.10) (4.13.0)\n",
            "Requirement already satisfied: zipp>=0.5 in /usr/local/lib/python3.8/dist-packages (from importlib-metadata>=4.4->markdown>=2.6.8->tensorboard<2.11,>=2.10->tensorflow-gpu==2.10) (3.11.0)\n",
            "Requirement already satisfied: pyasn1<0.5.0,>=0.4.6 in /usr/local/lib/python3.8/dist-packages (from pyasn1-modules>=0.2.1->google-auth<3,>=1.6.3->tensorboard<2.11,>=2.10->tensorflow-gpu==2.10) (0.4.8)\n",
            "Requirement already satisfied: idna<3,>=2.5 in /usr/local/lib/python3.8/dist-packages (from requests<3,>=2.21.0->tensorboard<2.11,>=2.10->tensorflow-gpu==2.10) (2.10)\n",
            "Requirement already satisfied: chardet<4,>=3.0.2 in /usr/local/lib/python3.8/dist-packages (from requests<3,>=2.21.0->tensorboard<2.11,>=2.10->tensorflow-gpu==2.10) (3.0.4)\n",
            "Requirement already satisfied: certifi>=2017.4.17 in /usr/local/lib/python3.8/dist-packages (from requests<3,>=2.21.0->tensorboard<2.11,>=2.10->tensorflow-gpu==2.10) (2022.9.24)\n",
            "Requirement already satisfied: urllib3!=1.25.0,!=1.25.1,<1.26,>=1.21.1 in /usr/local/lib/python3.8/dist-packages (from requests<3,>=2.21.0->tensorboard<2.11,>=2.10->tensorflow-gpu==2.10) (1.25.11)\n",
            "Requirement already satisfied: oauthlib>=3.0.0 in /usr/local/lib/python3.8/dist-packages (from requests-oauthlib>=0.7.0->google-auth-oauthlib<0.5,>=0.4.1->tensorboard<2.11,>=2.10->tensorflow-gpu==2.10) (3.2.2)\n",
            "Requirement already satisfied: pyparsing!=3.0.5,>=2.0.2 in /usr/local/lib/python3.8/dist-packages (from packaging->tensorflow-gpu==2.10) (3.0.9)\n",
            "Installing collected packages: tensorflow-gpu\n",
            "Successfully installed tensorflow-gpu-2.10.0\n"
          ]
        }
      ]
    },
    {
      "cell_type": "markdown",
      "source": [
        "## Load Data "
      ],
      "metadata": {
        "id": "sS8wSxEgWHgL"
      }
    },
    {
      "cell_type": "code",
      "source": [
        "from google.colab import drive\n",
        "drive.mount('/content/drive')"
      ],
      "metadata": {
        "colab": {
          "base_uri": "https://localhost:8080/"
        },
        "id": "4f_YQE40oQ70",
        "outputId": "635ba535-90ab-4230-8135-59a520cc758b"
      },
      "execution_count": null,
      "outputs": [
        {
          "output_type": "stream",
          "name": "stdout",
          "text": [
            "Mounted at /content/drive\n"
          ]
        }
      ]
    },
    {
      "cell_type": "code",
      "source": [
        "import pandas as pd\n",
        "import numpy as np\n",
        "import tensorflow as tf\n",
        "import transformers as tr\n",
        "import PIL as PIL\n",
        "from PIL import ImageFile\n",
        "import os\n",
        "\n",
        "\n",
        "import datetime\n",
        "import datasets\n",
        "\n",
        "from tensorflow.keras import layers\n",
        "from tensorflow.keras.models import Sequential"
      ],
      "metadata": {
        "id": "5KE0cwPaWaPO"
      },
      "execution_count": null,
      "outputs": []
    },
    {
      "cell_type": "code",
      "source": [
        "import pandas as pd\n",
        "import numpy as np\n",
        "#metadata\n",
        "metadata = pd.read_csv('/content/drive/MyDrive/Github/ece539-metamushroom-project/data/DF20M-train_metadata_PROD_edibility.csv')\n",
        "sample = metadata[['image_path', 'edibility', 'month', 'Substrate', 'Habitat', 'species']].dropna()\n",
        "DATA_DIR = '/content/drive/MyDrive/Github/ece539-metamushroom-project/data/images/DF20M/'\n"
      ],
      "metadata": {
        "id": "gxNUcXs_WXen"
      },
      "execution_count": null,
      "outputs": []
    },
    {
      "cell_type": "markdown",
      "source": [
        "## Loading and Partitioning"
      ],
      "metadata": {
        "id": "e3LNaDOeVu6U"
      }
    },
    {
      "cell_type": "code",
      "source": [
        "from sklearn.model_selection import train_test_split\n",
        "\n",
        "Xs = sample[['image_path', 'edibility', 'month', 'Substrate', 'Habitat']]\n",
        "ys = sample[['species']]\n",
        "\n",
        "Xs_, Xs_test, ys_, ys_test = train_test_split(Xs, ys, test_size=0.2, stratify = ys, random_state=42)\n",
        "Xs_train, Xs_sample, ys_train, ys_sample = train_test_split(Xs_, ys_, test_size = 0.8, stratify = ys_, random_state = 42)\n",
        "Xstr, Xste, ystr, yste = train_test_split(Xs_train, ys_train, test_size = 0.2, stratify = ys_train, random_state = 42)"
      ],
      "metadata": {
        "id": "47G--oMoiR4q"
      },
      "execution_count": null,
      "outputs": []
    },
    {
      "cell_type": "code",
      "source": [
        "len(Xstr), len(Xste)"
      ],
      "metadata": {
        "id": "lXna5KQMhjdj",
        "colab": {
          "base_uri": "https://localhost:8080/"
        },
        "outputId": "eca87fd5-0bf6-419b-c556-0ae8f659c82c"
      },
      "execution_count": null,
      "outputs": [
        {
          "output_type": "execute_result",
          "data": {
            "text/plain": [
              "(4161, 1041)"
            ]
          },
          "metadata": {},
          "execution_count": 12
        }
      ]
    },
    {
      "cell_type": "code",
      "source": [
        "month = tf.keras.utils.to_categorical(Xstr['month'].factorize()[0], num_classes = 12)\n",
        "substrate = tf.keras.utils.to_categorical(Xstr['Substrate'].factorize()[0], num_classes = 32)\n",
        "habitat = tf.keras.utils.to_categorical(Xstr['Habitat'].factorize()[0], num_classes = 32)\n",
        "\n",
        "month_test = tf.keras.utils.to_categorical(Xste['month'].factorize()[0], num_classes = 12)\n",
        "substrate_test = tf.keras.utils.to_categorical(Xste['Substrate'].factorize()[0], num_classes = 32)\n",
        "habitat_test = tf.keras.utils.to_categorical(Xste['Habitat'].factorize()[0], num_classes = 32)\n"
      ],
      "metadata": {
        "id": "ViUPQcBhCox_"
      },
      "execution_count": null,
      "outputs": []
    },
    {
      "cell_type": "code",
      "source": [
        "Xstr['month'] = month.tolist()\n",
        "Xstr['Substrate'] = substrate.tolist()\n",
        "Xstr['Habitat'] = habitat.tolist()"
      ],
      "metadata": {
        "id": "a5XHTwGcgxzD"
      },
      "execution_count": null,
      "outputs": []
    },
    {
      "cell_type": "code",
      "source": [
        "Xste['month'] = month_test.tolist()\n",
        "Xste['Substrate'] = substrate_test.tolist()\n",
        "Xste['Habitat'] = habitat_test.tolist()"
      ],
      "metadata": {
        "id": "0YX5ybXG6ABS"
      },
      "execution_count": null,
      "outputs": []
    },
    {
      "cell_type": "markdown",
      "source": [
        "## Preprocessing"
      ],
      "metadata": {
        "id": "PVy79ectq1LV"
      }
    },
    {
      "cell_type": "code",
      "source": [
        "sample = Xste"
      ],
      "metadata": {
        "id": "Y9iP0jBri316"
      },
      "execution_count": null,
      "outputs": []
    },
    {
      "cell_type": "code",
      "source": [
        "features=datasets.Features({\n",
        "                      \"img\": datasets.Image(),\n",
        "                      \"habitat\": datasets.features.Sequence(datasets.Value(\"float32\"), length = 32),\n",
        "                      \"month\":datasets.features.Sequence(datasets.Value(\"float32\"), length = 12),\n",
        "                      \"substrate\":datasets.features.Sequence(datasets.Value(\"float32\"), length = 32),\n",
        "                      \"label\": datasets.features.ClassLabel(names=['edible', 'inedible']),\n",
        "                  })\n",
        "\n",
        "ds = datasets.Dataset.from_dict({\"img\":list(sample['image_path']),\n",
        "                                 \"habitat\": list(sample['Habitat']),\n",
        "                                 \"month\": list(sample['month']),\n",
        "                                 \"substrate\": list(sample['Substrate']), \n",
        "                                 \"label\":list(sample['edibility'])},\n",
        "                                features = features)\n",
        "# we are also renaming our label col to labels to use `.to_tf_dataset` later\n",
        "ds = ds.rename_column(\"label\", \"labels\")"
      ],
      "metadata": {
        "id": "PkNjnKf6epB3"
      },
      "execution_count": null,
      "outputs": []
    },
    {
      "cell_type": "markdown",
      "source": [
        "    features=datasets.Features({\n",
        "                          \"img\": datasets.Image(),\n",
        "                          \"habitat\": datasets.features.Value('float'),\n",
        "                          \"month\":datasets.features.Value('float'),\n",
        "                          \"substrate\":datasets.features.Value('float'),\n",
        "                          \"label\": datasets.features.ClassLabel(names=['edible', 'inedible']),\n",
        "                      })\n",
        "    ds = datasets.Dataset.from_dict({\"img\":list(sample['image_path']), \n",
        "                                    \"habitat\": list(sample['Habitat'].factorize()[0]),\n",
        "                                    \"month\": list(sample['month']),\n",
        "                                    \"substrate\": list(sample['Substrate'].factorize()[0]),\n",
        "                                    \"label\":list(sample['edibility'])},\n",
        "                                    features=features)\n",
        "    # we are also renaming our label col to labels to use `.to_tf_dataset` later\n",
        "    ds = ds.rename_column(\"label\", \"labels\")"
      ],
      "metadata": {
        "id": "5Qh6I4omppLr"
      }
    },
    {
      "cell_type": "code",
      "source": [
        "from transformers import ViTFeatureExtractor\n",
        "from tensorflow import keras \n",
        "from tensorflow.keras import layers\n",
        "\n",
        "model_id = 'google/vit-base-patch16-224'\n",
        "\n",
        "feature_extractor = ViTFeatureExtractor.from_pretrained(model_id)\n",
        "\n",
        "\n",
        "# basic processing (only resizing)\n",
        "def process(examples):\n",
        "    examples.update(feature_extractor(examples['img'], return_tensors='tf'))\n",
        "    return examples\n",
        "\n"
      ],
      "metadata": {
        "id": "26I6sc81sMMJ",
        "colab": {
          "base_uri": "https://localhost:8080/",
          "height": 49,
          "referenced_widgets": [
            "e412f5ca4eb04071b3f9a05d7db078e5",
            "b29bcacaf4d74cfcbc4fa725429ce172",
            "2cecbc614ac3438abb52e453002594bd",
            "6129254505a846398ef63c96deaaec21",
            "be3b49ad0a7a41d392c40b7136bfd67d",
            "2ad01586994e4f6b996844455f4138e2",
            "4f947de99da14ac6b7c75cad5915a381",
            "51b5a22e09274b43902841edc137f3d0",
            "6bfc16074e2c4e55b7d8693ba52f4aa2",
            "ce4e7cfeff8d49c39fde12332945fed9",
            "4791dd966fec4f87bb12a2b3fa5b4281"
          ]
        },
        "outputId": "6da3ef33-53b3-438e-db6e-b56c1ad79ea6"
      },
      "execution_count": null,
      "outputs": [
        {
          "output_type": "display_data",
          "data": {
            "text/plain": [
              "Downloading:   0%|          | 0.00/160 [00:00<?, ?B/s]"
            ],
            "application/vnd.jupyter.widget-view+json": {
              "version_major": 2,
              "version_minor": 0,
              "model_id": "e412f5ca4eb04071b3f9a05d7db078e5"
            }
          },
          "metadata": {}
        }
      ]
    },
    {
      "cell_type": "code",
      "source": [
        "os.chdir(DATA_DIR)"
      ],
      "metadata": {
        "id": "FYVDqCdbtIJ0"
      },
      "execution_count": null,
      "outputs": []
    },
    {
      "cell_type": "code",
      "source": [
        "def process_example(example):\n",
        "    inputs = feature_extractor(example['image'], return_tensors='pt')\n",
        "    inputs['labels'] = example['labels']\n",
        "    return inputs"
      ],
      "metadata": {
        "id": "gRCMMpzqBKGH"
      },
      "execution_count": null,
      "outputs": []
    },
    {
      "cell_type": "code",
      "source": [
        "#processed_dataset = ds.map(process, batched=True, batch_size = 200)\n",
        "#processed_dataset.save_to_disk(\"/content/drive/MyDrive/Github/ece539-metamushroom-project/data/processed_datasetXste_corr\")"
      ],
      "metadata": {
        "id": "l8b7kQvcsdzf"
      },
      "execution_count": null,
      "outputs": []
    },
    {
      "cell_type": "code",
      "source": [
        "processed_dataset = datasets.load_from_disk(\"/content/drive/MyDrive/Github/ece539-metamushroom-project/data/processed_datasetXstr_corr\")\n",
        "processed_dataset_test = datasets.load_from_disk(\"/content/drive/MyDrive/Github/ece539-metamushroom-project/data/processed_datasetXste_corr\")"
      ],
      "metadata": {
        "id": "XtWQMAV1O1gG"
      },
      "execution_count": null,
      "outputs": []
    },
    {
      "cell_type": "code",
      "source": [
        "from transformers import DefaultDataCollator\n",
        "\n",
        "# Data collator that will dynamically pad the inputs received, as well as the labels.\n",
        "data_collator = DefaultDataCollator(return_tensors=\"tf\")\n",
        "train_batch_size = 32\n",
        "\n",
        "\n",
        "tf_test_dataset = processed_dataset_test.to_tf_dataset(\n",
        "  columns=['pixel_values', 'month', 'substrate', 'habitat'],\n",
        "  label_cols=[\"labels\"],\n",
        "  shuffle=False,\n",
        "  batch_size=train_batch_size,\n",
        "  collate_fn=data_collator)"
      ],
      "metadata": {
        "id": "u5jCLqX59i85"
      },
      "execution_count": null,
      "outputs": []
    },
    {
      "cell_type": "code",
      "source": [
        "y_true = np.concatenate([y for x, y in tf_test_dataset], axis=0)"
      ],
      "metadata": {
        "id": "DPSQzf66hASr"
      },
      "execution_count": null,
      "outputs": []
    },
    {
      "cell_type": "code",
      "source": [
        "data = processed_dataset.shuffle().train_test_split(test_size=.15)"
      ],
      "metadata": {
        "id": "bYwJ1-viuH3s"
      },
      "execution_count": null,
      "outputs": []
    },
    {
      "cell_type": "code",
      "source": [
        "img_class_labels = data['train'].features[\"labels\"].names"
      ],
      "metadata": {
        "id": "ZaGGAuxgV--3"
      },
      "execution_count": null,
      "outputs": []
    },
    {
      "cell_type": "code",
      "source": [
        "id2label = {str(i): label for i, label in enumerate(img_class_labels)}\n",
        "label2id = {v: k for k, v in id2label.items()}\n",
        "\n",
        "num_train_epochs = 20\n",
        "train_batch_size = 32\n",
        "eval_batch_size = 32\n",
        "learning_rate = 3e-5"
      ],
      "metadata": {
        "id": "Rf1P472UuK8N"
      },
      "execution_count": null,
      "outputs": []
    },
    {
      "cell_type": "code",
      "source": [
        "id2label"
      ],
      "metadata": {
        "id": "Qt8iibUaweTc",
        "colab": {
          "base_uri": "https://localhost:8080/"
        },
        "outputId": "19081426-5ad2-423d-c99e-15d41934b7a0"
      },
      "execution_count": null,
      "outputs": [
        {
          "output_type": "execute_result",
          "data": {
            "text/plain": [
              "{'0': 'edible', '1': 'inedible'}"
            ]
          },
          "metadata": {},
          "execution_count": 29
        }
      ]
    },
    {
      "cell_type": "code",
      "source": [
        "from transformers import DefaultDataCollator\n",
        "\n",
        "# Data collator that will dynamically pad the inputs received, as well as the labels.\n",
        "data_collator = DefaultDataCollator(return_tensors=\"tf\")\n",
        "\n",
        "# converting our train dataset to tf.data.Dataset\n",
        "tf_train_dataset = data[\"train\"].to_tf_dataset(\n",
        "  columns=['pixel_values', 'month', 'substrate', 'habitat'],\n",
        "  label_cols=[\"labels\"],\n",
        "  shuffle=True,\n",
        "  batch_size=train_batch_size,\n",
        "  collate_fn=data_collator)\n",
        "\n",
        "# converting our validation dataset to tf.data.Dataset\n",
        "tf_val_dataset = data[\"test\"].to_tf_dataset(\n",
        "  columns=['pixel_values','month', 'substrate', 'habitat'],\n",
        "  label_cols=[\"labels\"],\n",
        "  shuffle=True,\n",
        "  batch_size=eval_batch_size,\n",
        "  collate_fn=data_collator)"
      ],
      "metadata": {
        "id": "tVH69ZjykBXR"
      },
      "execution_count": null,
      "outputs": []
    },
    {
      "cell_type": "markdown",
      "source": [
        "## Model Architecture and Training"
      ],
      "metadata": {
        "id": "htLBhipFq_KM"
      }
    },
    {
      "cell_type": "code",
      "source": [
        "# alternatively create Image Classification model using Keras Layer and ViTModel \n",
        "# here you can also add the processing layers of keras\n",
        "\n",
        "# import tensorflow as tf\n",
        "from transformers import TFViTModel\n",
        "\n",
        "base_model = TFViTModel.from_pretrained('google/vit-base-patch16-224-in21k')\n",
        "\n",
        "# inputs\n",
        "pixel_values = tf.keras.layers.Input(shape=(3,224,224), name='pixel_values', dtype='float32')\n",
        "data_augmentation = tf.keras.models.Sequential(\n",
        "    [\n",
        "        layers.RandomFlip(\"horizontal\"),\n",
        "        layers.RandomFlip(\"vertical\"),\n",
        "        layers.RandomRotation(factor=0.02),\n",
        "        layers.RandomZoom(\n",
        "            height_factor=0.2, width_factor=0.2),\n",
        "     \n",
        "    ],\n",
        "    name=\"data_augmentation\",\n",
        ")\n",
        "\n",
        "month = tf.keras.layers.Input(shape=(12,), name='month', dtype='float32')\n",
        "habitat = tf.keras.layers.Input(shape=(32,), name='habitat', dtype='float32')\n",
        "substrate = tf.keras.layers.Input(shape=(32,), name='substrate', dtype='float32')\n",
        "\n",
        "\n",
        "\n",
        "# # model layer\n",
        "vit = base_model.vit(data_augmentation(pixel_values))[0]\n",
        "concat = tf.keras.layers.Concatenate()([vit[:, 0, :], month, habitat, substrate])\n",
        "dense_layer = tf.keras.layers.Dense(100, activation='relu', name='dense_1')(concat)\n",
        "dense_layer_2 =  tf.keras.layers.Dense(100, activation='relu', name='dense_2')(dense_layer)\n",
        "dense_layer_3 =  tf.keras.layers.Dense(50, activation='relu', name='dense_3')(dense_layer_2)\n",
        "dense_layer_4 =  tf.keras.layers.Dense(20, activation='relu', name='dense_4')(dense_layer_3)\n",
        "classifier = tf.keras.layers.Dense(1, activation='sigmoid', name='outputs')(dense_layer_4)\n",
        "\n",
        "#classifier = tf.keras.layers.Dense(1, activation='sigmoid', name='outputs')(vit[:, 0, :])\n",
        "\n",
        "# # model\n",
        "keras_model = tf.keras.Model(inputs=[pixel_values, month, habitat, substrate], outputs=classifier)"
      ],
      "metadata": {
        "id": "6UUimRGPEYgN",
        "colab": {
          "base_uri": "https://localhost:8080/",
          "height": 653,
          "referenced_widgets": [
            "11d96cf4d25e45e98acaaf98b1f4ffac",
            "3604a441bed74115beeeabbfbb49281b",
            "6e06b746c61a45b786ef1ce25506af77",
            "d2e21b4e8fc1459e9d34138fdef233b5",
            "9a7d6c8520ef451a9f3e60ed7a32598a",
            "afd71d42941b4ef1bf4d61cb0e0713fe",
            "f4a4abb55d774484a11692e79cdd64f6",
            "a07534f5b22e4494987b44b5e77bc7cc",
            "6166c55f4ffa4ac696ca19a4818a78b3",
            "ba17a266860b444489ed8dad71f2e307",
            "b56db44d6e3545dc9b8b5c70956093a5",
            "6992ba873b6c40579df0d1a6d7f0a3a8",
            "f8b594d4cdf742b18738a27738a629ab",
            "94c63f02fc244c298da45a424285b856",
            "a5e6b7a59e454ff2aa5ae9a33bf94934",
            "fb290e97d8cd454c87777779416d353a",
            "de7d0b31870941a2a468286236c3c702",
            "891c13d8480c49ab859fbbc00fee3657",
            "49ac3d79f7b0414bb3f4d818b4276917",
            "1c931251f605446bb2c608c898a8b522",
            "2e3f9b05be5c4361b4ed7e12628b727e",
            "8ecd0c1b408e4cafacf897112cf0019f"
          ]
        },
        "outputId": "1f6c0ef5-1e39-45a2-bd9b-d646cc38d9a8"
      },
      "execution_count": null,
      "outputs": [
        {
          "output_type": "display_data",
          "data": {
            "text/plain": [
              "Downloading:   0%|          | 0.00/502 [00:00<?, ?B/s]"
            ],
            "application/vnd.jupyter.widget-view+json": {
              "version_major": 2,
              "version_minor": 0,
              "model_id": "11d96cf4d25e45e98acaaf98b1f4ffac"
            }
          },
          "metadata": {}
        },
        {
          "output_type": "display_data",
          "data": {
            "text/plain": [
              "Downloading:   0%|          | 0.00/346M [00:00<?, ?B/s]"
            ],
            "application/vnd.jupyter.widget-view+json": {
              "version_major": 2,
              "version_minor": 0,
              "model_id": "6992ba873b6c40579df0d1a6d7f0a3a8"
            }
          },
          "metadata": {}
        },
        {
          "output_type": "stream",
          "name": "stderr",
          "text": [
            "All model checkpoint layers were used when initializing TFViTModel.\n",
            "\n",
            "All the layers of TFViTModel were initialized from the model checkpoint at google/vit-base-patch16-224-in21k.\n",
            "If your task is similar to the task the model of the checkpoint was trained on, you can already use TFViTModel for predictions without further training.\n",
            "WARNING:tensorflow:Using a while_loop for converting RngReadAndSkip cause there is no registered converter for this op.\n",
            "WARNING:tensorflow:Using a while_loop for converting Bitcast cause there is no registered converter for this op.\n",
            "WARNING:tensorflow:Using a while_loop for converting Bitcast cause there is no registered converter for this op.\n",
            "WARNING:tensorflow:Using a while_loop for converting StatelessRandomUniformV2 cause there is no registered converter for this op.\n",
            "WARNING:tensorflow:Using a while_loop for converting ImageProjectiveTransformV3 cause there is no registered converter for this op.\n",
            "WARNING:tensorflow:Using a while_loop for converting RngReadAndSkip cause there is no registered converter for this op.\n",
            "WARNING:tensorflow:Using a while_loop for converting Bitcast cause there is no registered converter for this op.\n",
            "WARNING:tensorflow:Using a while_loop for converting Bitcast cause there is no registered converter for this op.\n",
            "WARNING:tensorflow:Using a while_loop for converting StatelessRandomUniformV2 cause there is no registered converter for this op.\n",
            "WARNING:tensorflow:Using a while_loop for converting RngReadAndSkip cause there is no registered converter for this op.\n",
            "WARNING:tensorflow:Using a while_loop for converting Bitcast cause there is no registered converter for this op.\n",
            "WARNING:tensorflow:Using a while_loop for converting Bitcast cause there is no registered converter for this op.\n",
            "WARNING:tensorflow:Using a while_loop for converting StatelessRandomUniformV2 cause there is no registered converter for this op.\n",
            "WARNING:tensorflow:Using a while_loop for converting ImageProjectiveTransformV3 cause there is no registered converter for this op.\n",
            "WARNING:tensorflow:Using a while_loop for converting RngReadAndSkip cause there is no registered converter for this op.\n",
            "WARNING:tensorflow:Using a while_loop for converting Bitcast cause there is no registered converter for this op.\n",
            "WARNING:tensorflow:Using a while_loop for converting Bitcast cause there is no registered converter for this op.\n",
            "WARNING:tensorflow:Using a while_loop for converting StatelessRandomUniformV2 cause there is no registered converter for this op.\n",
            "WARNING:tensorflow:Using a while_loop for converting ImageProjectiveTransformV3 cause there is no registered converter for this op.\n",
            "WARNING:tensorflow:Using a while_loop for converting RngReadAndSkip cause there is no registered converter for this op.\n",
            "WARNING:tensorflow:Using a while_loop for converting Bitcast cause there is no registered converter for this op.\n",
            "WARNING:tensorflow:Using a while_loop for converting Bitcast cause there is no registered converter for this op.\n",
            "WARNING:tensorflow:Using a while_loop for converting StatelessRandomUniformV2 cause there is no registered converter for this op.\n",
            "WARNING:tensorflow:Using a while_loop for converting RngReadAndSkip cause there is no registered converter for this op.\n",
            "WARNING:tensorflow:Using a while_loop for converting Bitcast cause there is no registered converter for this op.\n",
            "WARNING:tensorflow:Using a while_loop for converting Bitcast cause there is no registered converter for this op.\n",
            "WARNING:tensorflow:Using a while_loop for converting StatelessRandomUniformV2 cause there is no registered converter for this op.\n",
            "WARNING:tensorflow:Using a while_loop for converting ImageProjectiveTransformV3 cause there is no registered converter for this op.\n"
          ]
        }
      ]
    },
    {
      "cell_type": "code",
      "source": [
        "optimizer = optimizer=tf.keras.optimizers.Adam(learning_rate=5e-5)\n",
        "\n",
        "# define loss\n",
        "loss=tf.keras.losses.BinaryCrossentropy(from_logits=False)\n",
        "loss_2 = tf.keras.losses.BinaryFocalCrossentropy(apply_class_balancing=True)\n",
        "\n",
        "# define metrics \n",
        "metrics=[\n",
        "    tf.keras.metrics.BinaryAccuracy(name=\"accuracy\"), \n",
        "    tf.keras.metrics.TruePositives(name='tp'),\n",
        "    tf.keras.metrics.FalsePositives(name='fp'),\n",
        "    tf.keras.metrics.TrueNegatives(name='tn'),\n",
        "    tf.keras.metrics.FalseNegatives(name='fn'), \n",
        "    tf.keras.metrics.Precision(name='precision'),\n",
        "    tf.keras.metrics.Recall(name='recall'),\n",
        "    tf.keras.metrics.AUC(name='auc'),\n",
        "    tf.keras.metrics.AUC(name='prc', curve='PR'), # precision-recall curve\n",
        "\n",
        "]\n",
        "\n",
        "keras_model.compile(optimizer=optimizer,\n",
        "              loss=loss,\n",
        "              metrics=metrics\n",
        "              )"
      ],
      "metadata": {
        "id": "LVszR73XGGWl"
      },
      "execution_count": null,
      "outputs": []
    },
    {
      "cell_type": "code",
      "source": [
        "keras_model.summary()"
      ],
      "metadata": {
        "id": "knwA20TBGUk1",
        "colab": {
          "base_uri": "https://localhost:8080/"
        },
        "outputId": "da4c33e5-dd44-4910-956f-3c44b074aa4f"
      },
      "execution_count": null,
      "outputs": [
        {
          "output_type": "stream",
          "name": "stdout",
          "text": [
            "Model: \"model\"\n",
            "__________________________________________________________________________________________________\n",
            " Layer (type)                   Output Shape         Param #     Connected to                     \n",
            "==================================================================================================\n",
            " pixel_values (InputLayer)      [(None, 3, 224, 224  0           []                               \n",
            "                                )]                                                                \n",
            "                                                                                                  \n",
            " data_augmentation (Sequential)  (None, 3, 224, 224)  0          ['pixel_values[0][0]']           \n",
            "                                                                                                  \n",
            " vit (TFViTMainLayer)           TFBaseModelOutputWi  86389248    ['data_augmentation[0][0]']      \n",
            "                                thPooling(last_hidd                                               \n",
            "                                en_state=(None, 197                                               \n",
            "                                , 768),                                                           \n",
            "                                 pooler_output=(Non                                               \n",
            "                                e, 768),                                                          \n",
            "                                 hidden_states=None                                               \n",
            "                                , attentions=None)                                                \n",
            "                                                                                                  \n",
            " tf.__operators__.getitem (Slic  (None, 768)         0           ['vit[0][0]']                    \n",
            " ingOpLambda)                                                                                     \n",
            "                                                                                                  \n",
            " month (InputLayer)             [(None, 12)]         0           []                               \n",
            "                                                                                                  \n",
            " habitat (InputLayer)           [(None, 32)]         0           []                               \n",
            "                                                                                                  \n",
            " substrate (InputLayer)         [(None, 32)]         0           []                               \n",
            "                                                                                                  \n",
            " concatenate (Concatenate)      (None, 844)          0           ['tf.__operators__.getitem[0][0]'\n",
            "                                                                 , 'month[0][0]',                 \n",
            "                                                                  'habitat[0][0]',                \n",
            "                                                                  'substrate[0][0]']              \n",
            "                                                                                                  \n",
            " dense_1 (Dense)                (None, 100)          84500       ['concatenate[0][0]']            \n",
            "                                                                                                  \n",
            " dense_2 (Dense)                (None, 100)          10100       ['dense_1[0][0]']                \n",
            "                                                                                                  \n",
            " dense_3 (Dense)                (None, 50)           5050        ['dense_2[0][0]']                \n",
            "                                                                                                  \n",
            " dense_4 (Dense)                (None, 20)           1020        ['dense_3[0][0]']                \n",
            "                                                                                                  \n",
            " outputs (Dense)                (None, 1)            21          ['dense_4[0][0]']                \n",
            "                                                                                                  \n",
            "==================================================================================================\n",
            "Total params: 86,489,939\n",
            "Trainable params: 86,489,939\n",
            "Non-trainable params: 0\n",
            "__________________________________________________________________________________________________\n"
          ]
        }
      ]
    },
    {
      "cell_type": "code",
      "source": [
        "#evaluate before training\n",
        "with tf.device('/GPU:0'):\n",
        "  test_results = keras_model.evaluate(tf_test_dataset)"
      ],
      "metadata": {
        "id": "CF47wFz0D_2F",
        "colab": {
          "base_uri": "https://localhost:8080/"
        },
        "outputId": "b4b12983-9f73-4fc1-be49-f5c05433aa85"
      },
      "execution_count": null,
      "outputs": [
        {
          "output_type": "stream",
          "name": "stdout",
          "text": [
            "33/33 [==============================] - 76s 2s/step - loss: 0.6728 - accuracy: 0.7397 - tp: 5.0000 - fp: 19.0000 - tn: 765.0000 - fn: 252.0000 - precision: 0.2083 - recall: 0.0195 - auc: 0.5398 - prc: 0.2625\n"
          ]
        }
      ]
    },
    {
      "cell_type": "code",
      "source": [
        "import os\n",
        "import transformers.keras_callbacks \n",
        "\n",
        "\n",
        "callbacks = [\n",
        "    tf.keras.callbacks.ModelCheckpoint(filepath='Xstr_corrmodel.{epoch:02d}-{val_loss:.2f}.h5')\n",
        "]"
      ],
      "metadata": {
        "id": "OFrlGFIYGgN1"
      },
      "execution_count": null,
      "outputs": []
    },
    {
      "cell_type": "code",
      "source": [
        "tf.debugging.set_log_device_placement(True)\n"
      ],
      "metadata": {
        "id": "SEGIhPYpmOjR"
      },
      "execution_count": null,
      "outputs": []
    },
    {
      "cell_type": "code",
      "source": [
        "# Place tensors on the GPU\n",
        "with tf.device('/GPU:0'):\n",
        "  train_results = keras_model.fit(\n",
        "    tf_train_dataset,\n",
        "    validation_data=tf_val_dataset,\n",
        "    callbacks=callbacks,\n",
        "    epochs=num_train_epochs)"
      ],
      "metadata": {
        "id": "7CsLuvUBGYwX",
        "colab": {
          "base_uri": "https://localhost:8080/"
        },
        "outputId": "05cd2a6c-2543-447c-a826-25060f255395"
      },
      "execution_count": null,
      "outputs": [
        {
          "output_type": "stream",
          "name": "stdout",
          "text": [
            "Epoch 1/20\n"
          ]
        },
        {
          "output_type": "stream",
          "name": "stderr",
          "text": [
            "WARNING:tensorflow:Using a while_loop for converting RngReadAndSkip cause there is no registered converter for this op.\n",
            "WARNING:tensorflow:Using a while_loop for converting Bitcast cause there is no registered converter for this op.\n",
            "WARNING:tensorflow:Using a while_loop for converting Bitcast cause there is no registered converter for this op.\n",
            "WARNING:tensorflow:Using a while_loop for converting StatelessRandomUniformV2 cause there is no registered converter for this op.\n",
            "WARNING:tensorflow:Using a while_loop for converting ImageProjectiveTransformV3 cause there is no registered converter for this op.\n",
            "WARNING:tensorflow:Using a while_loop for converting RngReadAndSkip cause there is no registered converter for this op.\n",
            "WARNING:tensorflow:Using a while_loop for converting Bitcast cause there is no registered converter for this op.\n",
            "WARNING:tensorflow:Using a while_loop for converting Bitcast cause there is no registered converter for this op.\n",
            "WARNING:tensorflow:Using a while_loop for converting StatelessRandomUniformV2 cause there is no registered converter for this op.\n",
            "WARNING:tensorflow:Using a while_loop for converting RngReadAndSkip cause there is no registered converter for this op.\n",
            "WARNING:tensorflow:Using a while_loop for converting Bitcast cause there is no registered converter for this op.\n",
            "WARNING:tensorflow:Using a while_loop for converting Bitcast cause there is no registered converter for this op.\n",
            "WARNING:tensorflow:Using a while_loop for converting StatelessRandomUniformV2 cause there is no registered converter for this op.\n",
            "WARNING:tensorflow:Using a while_loop for converting ImageProjectiveTransformV3 cause there is no registered converter for this op.\n",
            "WARNING:tensorflow:Gradients do not exist for variables ['tf_vi_t_model/vit/pooler/dense/kernel:0', 'tf_vi_t_model/vit/pooler/dense/bias:0'] when minimizing the loss. If you're using `model.compile()`, did you forget to provide a `loss` argument?\n",
            "WARNING:tensorflow:Using a while_loop for converting RngReadAndSkip cause there is no registered converter for this op.\n",
            "WARNING:tensorflow:Using a while_loop for converting Bitcast cause there is no registered converter for this op.\n",
            "WARNING:tensorflow:Using a while_loop for converting Bitcast cause there is no registered converter for this op.\n",
            "WARNING:tensorflow:Using a while_loop for converting StatelessRandomUniformV2 cause there is no registered converter for this op.\n",
            "WARNING:tensorflow:Using a while_loop for converting ImageProjectiveTransformV3 cause there is no registered converter for this op.\n",
            "WARNING:tensorflow:Using a while_loop for converting RngReadAndSkip cause there is no registered converter for this op.\n",
            "WARNING:tensorflow:Using a while_loop for converting Bitcast cause there is no registered converter for this op.\n",
            "WARNING:tensorflow:Using a while_loop for converting Bitcast cause there is no registered converter for this op.\n",
            "WARNING:tensorflow:Using a while_loop for converting StatelessRandomUniformV2 cause there is no registered converter for this op.\n",
            "WARNING:tensorflow:Using a while_loop for converting RngReadAndSkip cause there is no registered converter for this op.\n",
            "WARNING:tensorflow:Using a while_loop for converting Bitcast cause there is no registered converter for this op.\n",
            "WARNING:tensorflow:Using a while_loop for converting Bitcast cause there is no registered converter for this op.\n",
            "WARNING:tensorflow:Using a while_loop for converting StatelessRandomUniformV2 cause there is no registered converter for this op.\n",
            "WARNING:tensorflow:Using a while_loop for converting ImageProjectiveTransformV3 cause there is no registered converter for this op.\n",
            "WARNING:tensorflow:Gradients do not exist for variables ['tf_vi_t_model/vit/pooler/dense/kernel:0', 'tf_vi_t_model/vit/pooler/dense/bias:0'] when minimizing the loss. If you're using `model.compile()`, did you forget to provide a `loss` argument?\n"
          ]
        },
        {
          "output_type": "stream",
          "name": "stdout",
          "text": [
            "111/111 [==============================] - 422s 4s/step - loss: 0.5534 - accuracy: 0.7545 - tp: 1.0000 - fp: 2.0000 - tn: 2667.0000 - fn: 866.0000 - precision: 0.3333 - recall: 0.0012 - auc: 0.5811 - prc: 0.2811 - val_loss: 0.5240 - val_accuracy: 0.7408 - val_tp: 0.0000e+00 - val_fp: 0.0000e+00 - val_tn: 463.0000 - val_fn: 162.0000 - val_precision: 0.0000e+00 - val_recall: 0.0000e+00 - val_auc: 0.7642 - val_prc: 0.5419\n",
            "Epoch 2/20\n",
            "111/111 [==============================] - 391s 4s/step - loss: 0.5063 - accuracy: 0.7548 - tp: 0.0000e+00 - fp: 0.0000e+00 - tn: 2669.0000 - fn: 867.0000 - precision: 0.0000e+00 - recall: 0.0000e+00 - auc: 0.7108 - prc: 0.4190 - val_loss: 0.5224 - val_accuracy: 0.7408 - val_tp: 0.0000e+00 - val_fp: 0.0000e+00 - val_tn: 463.0000 - val_fn: 162.0000 - val_precision: 0.0000e+00 - val_recall: 0.0000e+00 - val_auc: 0.7701 - val_prc: 0.5525\n",
            "Epoch 3/20\n",
            "111/111 [==============================] - 391s 4s/step - loss: 0.4541 - accuracy: 0.7650 - tp: 108.0000 - fp: 72.0000 - tn: 2597.0000 - fn: 759.0000 - precision: 0.6000 - recall: 0.1246 - auc: 0.7951 - prc: 0.5148 - val_loss: 0.4762 - val_accuracy: 0.7552 - val_tp: 15.0000 - val_fp: 6.0000 - val_tn: 457.0000 - val_fn: 147.0000 - val_precision: 0.7143 - val_recall: 0.0926 - val_auc: 0.7939 - val_prc: 0.5540\n",
            "Epoch 4/20\n",
            "111/111 [==============================] - 391s 4s/step - loss: 0.3925 - accuracy: 0.8266 - tp: 468.0000 - fp: 214.0000 - tn: 2455.0000 - fn: 399.0000 - precision: 0.6862 - recall: 0.5398 - auc: 0.8605 - prc: 0.6217 - val_loss: 0.4820 - val_accuracy: 0.7744 - val_tp: 40.0000 - val_fp: 19.0000 - val_tn: 444.0000 - val_fn: 122.0000 - val_precision: 0.6780 - val_recall: 0.2469 - val_auc: 0.8060 - val_prc: 0.5566\n",
            "Epoch 5/20\n",
            "111/111 [==============================] - 391s 4s/step - loss: 0.2936 - accuracy: 0.8758 - tp: 634.0000 - fp: 206.0000 - tn: 2463.0000 - fn: 233.0000 - precision: 0.7548 - recall: 0.7313 - auc: 0.9290 - prc: 0.7782 - val_loss: 0.4755 - val_accuracy: 0.7680 - val_tp: 88.0000 - val_fp: 71.0000 - val_tn: 392.0000 - val_fn: 74.0000 - val_precision: 0.5535 - val_recall: 0.5432 - val_auc: 0.7970 - val_prc: 0.5434\n",
            "Epoch 6/20\n",
            "111/111 [==============================] - 392s 4s/step - loss: 0.2107 - accuracy: 0.9169 - tp: 708.0000 - fp: 135.0000 - tn: 2534.0000 - fn: 159.0000 - precision: 0.8399 - recall: 0.8166 - auc: 0.9615 - prc: 0.8743 - val_loss: 0.5369 - val_accuracy: 0.7824 - val_tp: 69.0000 - val_fp: 43.0000 - val_tn: 420.0000 - val_fn: 93.0000 - val_precision: 0.6161 - val_recall: 0.4259 - val_auc: 0.7919 - val_prc: 0.5819\n",
            "Epoch 7/20\n",
            "111/111 [==============================] - 393s 4s/step - loss: 0.1513 - accuracy: 0.9395 - tp: 754.0000 - fp: 101.0000 - tn: 2568.0000 - fn: 113.0000 - precision: 0.8819 - recall: 0.8697 - auc: 0.9825 - prc: 0.9436 - val_loss: 0.5628 - val_accuracy: 0.7952 - val_tp: 97.0000 - val_fp: 63.0000 - val_tn: 400.0000 - val_fn: 65.0000 - val_precision: 0.6062 - val_recall: 0.5988 - val_auc: 0.8082 - val_prc: 0.5862\n",
            "Epoch 8/20\n",
            "111/111 [==============================] - 392s 4s/step - loss: 0.0841 - accuracy: 0.9706 - tp: 811.0000 - fp: 48.0000 - tn: 2621.0000 - fn: 56.0000 - precision: 0.9441 - recall: 0.9354 - auc: 0.9942 - prc: 0.9794 - val_loss: 0.7709 - val_accuracy: 0.7536 - val_tp: 106.0000 - val_fp: 98.0000 - val_tn: 365.0000 - val_fn: 56.0000 - val_precision: 0.5196 - val_recall: 0.6543 - val_auc: 0.7921 - val_prc: 0.5542\n",
            "Epoch 9/20\n",
            "111/111 [==============================] - 392s 4s/step - loss: 0.0862 - accuracy: 0.9709 - tp: 809.0000 - fp: 45.0000 - tn: 2624.0000 - fn: 58.0000 - precision: 0.9473 - recall: 0.9331 - auc: 0.9927 - prc: 0.9747 - val_loss: 0.7453 - val_accuracy: 0.7712 - val_tp: 47.0000 - val_fp: 28.0000 - val_tn: 435.0000 - val_fn: 115.0000 - val_precision: 0.6267 - val_recall: 0.2901 - val_auc: 0.7575 - val_prc: 0.5537\n",
            "Epoch 10/20\n",
            "111/111 [==============================] - 393s 4s/step - loss: 0.0512 - accuracy: 0.9827 - tp: 833.0000 - fp: 27.0000 - tn: 2642.0000 - fn: 34.0000 - precision: 0.9686 - recall: 0.9608 - auc: 0.9977 - prc: 0.9928 - val_loss: 0.7291 - val_accuracy: 0.7840 - val_tp: 82.0000 - val_fp: 55.0000 - val_tn: 408.0000 - val_fn: 80.0000 - val_precision: 0.5985 - val_recall: 0.5062 - val_auc: 0.7843 - val_prc: 0.5693\n",
            "Epoch 11/20\n",
            "111/111 [==============================] - 391s 4s/step - loss: 0.0395 - accuracy: 0.9861 - tp: 839.0000 - fp: 21.0000 - tn: 2648.0000 - fn: 28.0000 - precision: 0.9756 - recall: 0.9677 - auc: 0.9983 - prc: 0.9929 - val_loss: 0.8649 - val_accuracy: 0.7632 - val_tp: 70.0000 - val_fp: 56.0000 - val_tn: 407.0000 - val_fn: 92.0000 - val_precision: 0.5556 - val_recall: 0.4321 - val_auc: 0.7657 - val_prc: 0.5256\n",
            "Epoch 12/20\n",
            "111/111 [==============================] - 392s 4s/step - loss: 0.0350 - accuracy: 0.9890 - tp: 846.0000 - fp: 18.0000 - tn: 2651.0000 - fn: 21.0000 - precision: 0.9792 - recall: 0.9758 - auc: 0.9981 - prc: 0.9942 - val_loss: 0.8563 - val_accuracy: 0.7760 - val_tp: 68.0000 - val_fp: 46.0000 - val_tn: 417.0000 - val_fn: 94.0000 - val_precision: 0.5965 - val_recall: 0.4198 - val_auc: 0.7715 - val_prc: 0.5477\n",
            "Epoch 13/20\n",
            "111/111 [==============================] - 393s 4s/step - loss: 0.0246 - accuracy: 0.9921 - tp: 851.0000 - fp: 12.0000 - tn: 2657.0000 - fn: 16.0000 - precision: 0.9861 - recall: 0.9815 - auc: 0.9987 - prc: 0.9963 - val_loss: 0.8925 - val_accuracy: 0.7712 - val_tp: 78.0000 - val_fp: 59.0000 - val_tn: 404.0000 - val_fn: 84.0000 - val_precision: 0.5693 - val_recall: 0.4815 - val_auc: 0.7646 - val_prc: 0.5730\n",
            "Epoch 14/20\n",
            "111/111 [==============================] - 392s 4s/step - loss: 0.0436 - accuracy: 0.9856 - tp: 839.0000 - fp: 23.0000 - tn: 2646.0000 - fn: 28.0000 - precision: 0.9733 - recall: 0.9677 - auc: 0.9983 - prc: 0.9950 - val_loss: 0.8318 - val_accuracy: 0.7840 - val_tp: 101.0000 - val_fp: 74.0000 - val_tn: 389.0000 - val_fn: 61.0000 - val_precision: 0.5771 - val_recall: 0.6235 - val_auc: 0.7942 - val_prc: 0.5958\n",
            "Epoch 15/20\n",
            "111/111 [==============================] - 393s 4s/step - loss: 0.0231 - accuracy: 0.9935 - tp: 857.0000 - fp: 13.0000 - tn: 2656.0000 - fn: 10.0000 - precision: 0.9851 - recall: 0.9885 - auc: 0.9993 - prc: 0.9969 - val_loss: 0.9195 - val_accuracy: 0.7920 - val_tp: 81.0000 - val_fp: 49.0000 - val_tn: 414.0000 - val_fn: 81.0000 - val_precision: 0.6231 - val_recall: 0.5000 - val_auc: 0.7600 - val_prc: 0.5559\n",
            "Epoch 16/20\n",
            "111/111 [==============================] - 392s 4s/step - loss: 0.0201 - accuracy: 0.9932 - tp: 855.0000 - fp: 12.0000 - tn: 2657.0000 - fn: 12.0000 - precision: 0.9862 - recall: 0.9862 - auc: 0.9995 - prc: 0.9977 - val_loss: 0.9141 - val_accuracy: 0.8080 - val_tp: 90.0000 - val_fp: 48.0000 - val_tn: 415.0000 - val_fn: 72.0000 - val_precision: 0.6522 - val_recall: 0.5556 - val_auc: 0.7550 - val_prc: 0.5635\n",
            "Epoch 17/20\n",
            "111/111 [==============================] - 392s 4s/step - loss: 0.0283 - accuracy: 0.9890 - tp: 846.0000 - fp: 18.0000 - tn: 2651.0000 - fn: 21.0000 - precision: 0.9792 - recall: 0.9758 - auc: 0.9989 - prc: 0.9977 - val_loss: 0.8004 - val_accuracy: 0.7840 - val_tp: 78.0000 - val_fp: 51.0000 - val_tn: 412.0000 - val_fn: 84.0000 - val_precision: 0.6047 - val_recall: 0.4815 - val_auc: 0.7747 - val_prc: 0.5937\n",
            "Epoch 18/20\n",
            "111/111 [==============================] - 392s 4s/step - loss: 0.0148 - accuracy: 0.9949 - tp: 859.0000 - fp: 10.0000 - tn: 2659.0000 - fn: 8.0000 - precision: 0.9885 - recall: 0.9908 - auc: 0.9993 - prc: 0.9990 - val_loss: 1.0075 - val_accuracy: 0.7808 - val_tp: 74.0000 - val_fp: 49.0000 - val_tn: 414.0000 - val_fn: 88.0000 - val_precision: 0.6016 - val_recall: 0.4568 - val_auc: 0.7625 - val_prc: 0.5523\n",
            "Epoch 19/20\n",
            "111/111 [==============================] - 393s 4s/step - loss: 0.0420 - accuracy: 0.9859 - tp: 844.0000 - fp: 27.0000 - tn: 2642.0000 - fn: 23.0000 - precision: 0.9690 - recall: 0.9735 - auc: 0.9979 - prc: 0.9939 - val_loss: 0.8348 - val_accuracy: 0.7712 - val_tp: 93.0000 - val_fp: 74.0000 - val_tn: 389.0000 - val_fn: 69.0000 - val_precision: 0.5569 - val_recall: 0.5741 - val_auc: 0.7812 - val_prc: 0.5686\n",
            "Epoch 20/20\n",
            "111/111 [==============================] - 393s 4s/step - loss: 0.0257 - accuracy: 0.9915 - tp: 853.0000 - fp: 16.0000 - tn: 2653.0000 - fn: 14.0000 - precision: 0.9816 - recall: 0.9839 - auc: 0.9982 - prc: 0.9963 - val_loss: 0.8203 - val_accuracy: 0.7760 - val_tp: 85.0000 - val_fp: 63.0000 - val_tn: 400.0000 - val_fn: 77.0000 - val_precision: 0.5743 - val_recall: 0.5247 - val_auc: 0.7833 - val_prc: 0.5647\n"
          ]
        }
      ]
    },
    {
      "cell_type": "code",
      "source": [
        "def f1(precision, recall):\n",
        "  return 2*(precision*recall)/(precision + recall)"
      ],
      "metadata": {
        "id": "vlRPaieTDyl2"
      },
      "execution_count": null,
      "outputs": []
    },
    {
      "cell_type": "code",
      "source": [
        "from matplotlib import pyplot as plt\n",
        "plt.plot(train_results.history['precision'])\n",
        "plt.plot(train_results.history['val_precision'])\n",
        "plt.title('model precision')\n",
        "plt.ylabel('precision')\n",
        "plt.xlabel('epoch')\n",
        "plt.legend(['train', 'val'], loc='upper left')\n",
        "plt.show()"
      ],
      "metadata": {
        "id": "BwYWcOet28xM",
        "colab": {
          "base_uri": "https://localhost:8080/",
          "height": 295
        },
        "outputId": "587b0a81-7533-4364-8bb5-6c60ab4778f4"
      },
      "execution_count": null,
      "outputs": [
        {
          "output_type": "display_data",
          "data": {
            "text/plain": [
              "<Figure size 432x288 with 1 Axes>"
            ],
            "image/png": "[encoded data removed]"
          },
          "metadata": {
            "needs_background": "light"
          }
        }
      ]
    },
    {
      "cell_type": "code",
      "source": [
        "from matplotlib import pyplot as plt\n",
        "plt.plot(train_results.history['recall'])\n",
        "plt.plot(train_results.history['val_recall'])\n",
        "plt.title('model recall')\n",
        "plt.ylabel('recall')\n",
        "plt.xlabel('epoch')\n",
        "plt.legend(['train', 'val'], loc='upper left')\n",
        "plt.show()"
      ],
      "metadata": {
        "id": "QTdfiYsesAsR",
        "colab": {
          "base_uri": "https://localhost:8080/",
          "height": 295
        },
        "outputId": "56e5ca06-0f5f-4347-bb74-1116e738651e"
      },
      "execution_count": null,
      "outputs": [
        {
          "output_type": "display_data",
          "data": {
            "text/plain": [
              "<Figure size 432x288 with 1 Axes>"
            ],
            "image/png": "[encoded data removed]"
          },
          "metadata": {
            "needs_background": "light"
          }
        }
      ]
    },
    {
      "cell_type": "code",
      "source": [
        "plt.plot(train_results.history['loss'])\n",
        "plt.plot(train_results.history['val_loss'])\n",
        "plt.title('model loss')\n",
        "plt.ylabel('loss')\n",
        "plt.xlabel('epoch')\n",
        "plt.legend(['train', 'val'], loc='upper left')\n",
        "plt.show()"
      ],
      "metadata": {
        "id": "AtCFVmYG3bPC",
        "colab": {
          "base_uri": "https://localhost:8080/",
          "height": 295
        },
        "outputId": "592f6cb8-c1ba-41b1-d304-35a2688c62e7"
      },
      "execution_count": null,
      "outputs": [
        {
          "output_type": "display_data",
          "data": {
            "text/plain": [
              "<Figure size 432x288 with 1 Axes>"
            ],
            "image/png": "[encoded data removed]"
          },
          "metadata": {
            "needs_background": "light"
          }
        }
      ]
    },
    {
      "cell_type": "markdown",
      "source": [
        "# Evaluation"
      ],
      "metadata": {
        "id": "h7LpxBgXrIcF"
      }
    },
    {
      "cell_type": "code",
      "source": [
        "keras_model.load_weights('Xstr_corrmodel.07-0.56.h5') #best - 7th epoch"
      ],
      "metadata": {
        "id": "SQ5_BMkP4-Hn"
      },
      "execution_count": null,
      "outputs": []
    },
    {
      "cell_type": "code",
      "source": [
        "with tf.device('/GPU:0'):\n",
        "  test_pred = keras_model.predict(tf_test_dataset)"
      ],
      "metadata": {
        "id": "ZarmL-djY-3v",
        "colab": {
          "base_uri": "https://localhost:8080/"
        },
        "outputId": "787ec31f-a216-49bd-e179-b9cbe2b31346"
      },
      "execution_count": null,
      "outputs": [
        {
          "output_type": "stream",
          "name": "stdout",
          "text": [
            "33/33 [==============================] - 122s 3s/step\n"
          ]
        }
      ]
    },
    {
      "cell_type": "code",
      "source": [
        "from sklearn.metrics import confusion_matrix\n",
        "\n",
        "y_pred = tf.greater(test_pred, .5)\n",
        "confusion_matrix(y_true, y_pred)"
      ],
      "metadata": {
        "colab": {
          "base_uri": "https://localhost:8080/"
        },
        "id": "uk4NLmXklrnS",
        "outputId": "f2a2fc61-3b66-43c6-b648-854df872d671"
      },
      "execution_count": null,
      "outputs": [
        {
          "output_type": "execute_result",
          "data": {
            "text/plain": [
              "array([[676, 108],\n",
              "       [142, 115]])"
            ]
          },
          "metadata": {},
          "execution_count": 47
        }
      ]
    },
    {
      "cell_type": "code",
      "source": [
        "y_true.shape, y_pred.shape"
      ],
      "metadata": {
        "id": "BIZBayRJr3K9"
      },
      "execution_count": null,
      "outputs": []
    },
    {
      "cell_type": "code",
      "source": [
        "556+228+176+81    "
      ],
      "metadata": {
        "id": "MqDszo5EpO_i"
      },
      "execution_count": null,
      "outputs": []
    },
    {
      "cell_type": "code",
      "source": [
        "#tp: 136.0000 - fp: 173.0000 - tn: 611.0000 - fn: 121.0000\n",
        "#tp: 136.0000 - fp: 173.0000 - tn: 611.0000 - fn: 121.0000"
      ],
      "metadata": {
        "id": "bd4ravnUlJhT"
      },
      "execution_count": null,
      "outputs": []
    },
    {
      "cell_type": "code",
      "source": [
        "from sklearn.metrics import roc_curve\n",
        "\n",
        "fpr, tpr, thresholds = roc_curve(y_true, test_pred, pos_label=1)"
      ],
      "metadata": {
        "id": "w3UTgGPPDefz"
      },
      "execution_count": null,
      "outputs": []
    },
    {
      "cell_type": "code",
      "source": [
        "from matplotlib import pyplot as plt\n",
        "\n",
        "plt.plot(fpr, tpr, label = 'classifier')\n",
        "plt.plot(fpr, fpr, '--', label = 'random')\n",
        "plt.xlabel(\"false positive rate\")\n",
        "plt.ylabel(\"true positive rate\")\n",
        "plt.title(\"ROC curve\")\n",
        "plt.legend()\n",
        "plt.show()"
      ],
      "metadata": {
        "id": "gJzV5WFqMou4",
        "colab": {
          "base_uri": "https://localhost:8080/",
          "height": 295
        },
        "outputId": "10ba19e2-20c3-43ad-9ebe-60fa6e3a8afc"
      },
      "execution_count": null,
      "outputs": [
        {
          "output_type": "display_data",
          "data": {
            "text/plain": [
              "<Figure size 432x288 with 1 Axes>"
            ],
            "image/png": "[encoded data removed]"
          },
          "metadata": {
            "needs_background": "light"
          }
        }
      ]
    },
    {
      "cell_type": "code",
      "source": [
        "from sklearn.metrics import precision_recall_curve\n",
        "\n",
        "precision, recall, thresholds = precision_recall_curve(y_true, test_pred, pos_label=1)"
      ],
      "metadata": {
        "id": "N2mmmt_QPQ-n"
      },
      "execution_count": null,
      "outputs": []
    },
    {
      "cell_type": "code",
      "source": [
        "thresholds[750:760]"
      ],
      "metadata": {
        "id": "5lIZdJnmkY1m"
      },
      "execution_count": null,
      "outputs": []
    },
    {
      "cell_type": "code",
      "source": [
        "precision[750:760]"
      ],
      "metadata": {
        "id": "SiTFKuI5kk4_"
      },
      "execution_count": null,
      "outputs": []
    },
    {
      "cell_type": "code",
      "source": [
        "from matplotlib import pyplot as plt\n",
        "\n",
        "plt.plot(recall, precision)\n",
        "plt.xlabel(\"recall\")\n",
        "plt.ylabel(\"precision\")\n",
        "plt.title(\"Precision Recall curve\")\n",
        "plt.show()"
      ],
      "metadata": {
        "id": "ryqxOguaPc46",
        "colab": {
          "base_uri": "https://localhost:8080/",
          "height": 295
        },
        "outputId": "5168a515-a653-433a-bb5c-b1f5aa5774f4"
      },
      "execution_count": null,
      "outputs": [
        {
          "output_type": "display_data",
          "data": {
            "text/plain": [
              "<Figure size 432x288 with 1 Axes>"
            ],
            "image/png": "[encoded data removed]"
          },
          "metadata": {
            "needs_background": "light"
          }
        }
      ]
    },
    {
      "cell_type": "code",
      "source": [
        "with tf.device('/GPU:0'):\n",
        "  test_results = keras_model.evaluate(tf_test_dataset, batch_size = 1041)"
      ],
      "metadata": {
        "colab": {
          "base_uri": "https://localhost:8080/"
        },
        "id": "ahfcKz4ojV13",
        "outputId": "2bcb5622-eb5a-4882-e335-e6a878d5fbc3"
      },
      "execution_count": null,
      "outputs": [
        {
          "output_type": "stream",
          "name": "stdout",
          "text": [
            "33/33 [==============================] - 62s 2s/step - loss: 0.6279 - accuracy: 0.7598 - tp: 115.0000 - fp: 108.0000 - tn: 676.0000 - fn: 142.0000 - precision: 0.5157 - recall: 0.4475 - auc: 0.7570 - prc: 0.5159\n"
          ]
        }
      ]
    },
    {
      "cell_type": "code",
      "source": [
        "f1(0.4401, 0.5292)"
      ],
      "metadata": {
        "id": "IYv76pKq8qVM"
      },
      "execution_count": null,
      "outputs": []
    }
  ]
}